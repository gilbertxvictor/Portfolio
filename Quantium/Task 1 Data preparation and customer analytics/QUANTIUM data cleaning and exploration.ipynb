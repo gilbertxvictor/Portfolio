{
 "cells": [
  {
   "cell_type": "markdown",
   "id": "5ac17a78-fe29-4d4d-9e81-61a1b54d99e2",
   "metadata": {},
   "source": [
    "### WELCOME TO MY WORKPIECE FOR THIS PROJECT\n",
    "I WILL DIVIDE THIS INTO SECTIONS\n",
    "- DATA CLEANING AND EXPLORATION\n",
    "- DATA WRANGLING \n",
    "- DATA VISUALIZATION"
   ]
  },
  {
   "cell_type": "markdown",
   "id": "02256ad2-d872-4393-a3b8-86536f10a96e",
   "metadata": {},
   "source": [
    "## DATA CLEANING AND EXPLORATION"
   ]
  },
  {
   "cell_type": "code",
   "execution_count": 208,
   "id": "1d0c7782-756d-4091-9315-4a85bf8a5dd9",
   "metadata": {},
   "outputs": [],
   "source": [
    "#IMPORT RELEVANT LIBRARIES\n",
    "\n",
    "#Data Wrangling\n",
    "import pandas as pd\n",
    "import numpy  as np\n",
    "\n",
    "#Visualization Libraries\n",
    "import seaborn as sns\n",
    "import datetime as dt\n",
    "import matplotlib.pyplot as plt\n",
    "\n",
    "#Data Summary\n",
    "from skimpy import skim\n",
    "\n",
    "# Statistical analysis\n",
    "from scipy.stats import ttest_ind\n"
   ]
  },
  {
   "cell_type": "code",
   "execution_count": 81,
   "id": "f95c2788-9dd1-4cf8-8ab0-034f0a82c26d",
   "metadata": {
    "collapsed": true,
    "jupyter": {
     "outputs_hidden": true
    },
    "tags": []
   },
   "outputs": [
    {
     "name": "stdout",
     "output_type": "stream",
     "text": [
      "<class 'pandas.core.frame.DataFrame'>\n",
      "RangeIndex: 264836 entries, 0 to 264835\n",
      "Data columns (total 8 columns):\n",
      " #   Column          Non-Null Count   Dtype  \n",
      "---  ------          --------------   -----  \n",
      " 0   DATE            264836 non-null  int64  \n",
      " 1   STORE_NBR       264836 non-null  int64  \n",
      " 2   LYLTY_CARD_NBR  264836 non-null  int64  \n",
      " 3   TXN_ID          264836 non-null  int64  \n",
      " 4   PROD_NBR        264836 non-null  int64  \n",
      " 5   PROD_NAME       264836 non-null  object \n",
      " 6   PROD_QTY        264836 non-null  int64  \n",
      " 7   TOT_SALES       264836 non-null  float64\n",
      "dtypes: float64(1), int64(6), object(1)\n",
      "memory usage: 16.2+ MB\n"
     ]
    }
   ],
   "source": [
    "#IMPORTING TRANSACTION DATA \n",
    "transction_data = pd.read_csv('QVI_transaction_data_1.csv', parse_dates=True)\n",
    "transction_data.info()"
   ]
  },
  {
   "cell_type": "markdown",
   "id": "a1788821-b176-4245-bf94-de0fb6d0ce90",
   "metadata": {},
   "source": [
    "The output indicates the all rows are are filled with non_null values\n",
    "this is quite a good thing that we are not having null values \n",
    "but we have to explore deeper\n",
    "By obseravtion, we can see that the 'DATE' column is the wrong format"
   ]
  },
  {
   "cell_type": "markdown",
   "id": "cc41db9e-6965-4fec-9f46-ce03653d5a4e",
   "metadata": {
    "tags": []
   },
   "source": [
    "### CLEANING DATES"
   ]
  },
  {
   "cell_type": "code",
   "execution_count": 82,
   "id": "59a253c2-49c2-4846-9951-6d30bd3e30de",
   "metadata": {
    "tags": []
   },
   "outputs": [
    {
     "name": "stdout",
     "output_type": "stream",
     "text": [
      "0    43390\n",
      "1    43599\n",
      "2    43605\n",
      "Name: DATE, dtype: int64\n",
      "0   2018-10-17\n",
      "1   2019-05-14\n",
      "2   2019-05-20\n",
      "Name: DATE, dtype: datetime64[ns]\n"
     ]
    }
   ],
   "source": [
    "print(transction_data['DATE'].head(3))\n",
    "#converting time column to date format\n",
    "transction_data['DATE'] = pd.to_datetime(transction_data['DATE'], \n",
    "                                           unit = 'D',\n",
    "                                           origin ='1899-12-30' )\n",
    "print(transction_data['DATE'].head(3))\n",
    "\n",
    "''' AFTER COVERTING TO DATE FORMAT, I USUALLY EXTRACT THE DAY, MONTH AND YEAR TO SEPRATE COLUMNS'''\n",
    "#want to combine this to show do all at once \n",
    "transction_data['Date_day']    =  transction_data['DATE'].dt.day_name()\n",
    "transction_data['Date_month']  =  transction_data['DATE'].dt.month_name()\n",
    "transction_data['Date_year']   =  transction_data['DATE'].dt.year"
   ]
  },
  {
   "cell_type": "markdown",
   "id": "bb739dfc-ac3b-4ce2-a759-12b5f6fda06c",
   "metadata": {},
   "source": [
    "### A bit more exploration"
   ]
  },
  {
   "cell_type": "code",
   "execution_count": 84,
   "id": "3abc1e7a-a965-4acd-a06c-6f8ef8804b5f",
   "metadata": {},
   "outputs": [
    {
     "data": {
      "text/plain": [
       "272"
      ]
     },
     "execution_count": 84,
     "metadata": {},
     "output_type": "execute_result"
    }
   ],
   "source": [
    "#how many stores in the region\n",
    "transction_data['STORE_NBR'].nunique()"
   ]
  },
  {
   "cell_type": "code",
   "execution_count": 85,
   "id": "4a702716-dd89-4f53-9f02-ff7327fadff7",
   "metadata": {},
   "outputs": [
    {
     "data": {
      "text/plain": [
       "72637"
      ]
     },
     "execution_count": 85,
     "metadata": {},
     "output_type": "execute_result"
    }
   ],
   "source": [
    "#how many unique customers were in the region \n",
    "transction_data['LYLTY_CARD_NBR'].nunique()"
   ]
  },
  {
   "cell_type": "code",
   "execution_count": 86,
   "id": "fe05568b-4b50-489e-8322-8328dd933c14",
   "metadata": {},
   "outputs": [
    {
     "data": {
      "text/plain": [
       "114"
      ]
     },
     "execution_count": 86,
     "metadata": {},
     "output_type": "execute_result"
    }
   ],
   "source": [
    "#how many unique products were in the region\n",
    "transction_data['PROD_NAME'].nunique()"
   ]
  },
  {
   "cell_type": "markdown",
   "id": "fd58f0e5-67fa-4055-8584-e772bcd0b5db",
   "metadata": {},
   "source": [
    "### PROD_QTY exploration"
   ]
  },
  {
   "cell_type": "code",
   "execution_count": 88,
   "id": "20583e56-164f-4f05-ba99-8269e9e6ff7e",
   "metadata": {},
   "outputs": [
    {
     "data": {
      "text/plain": [
       "count    264836.000000\n",
       "mean          1.907309\n",
       "std           0.643654\n",
       "min           1.000000\n",
       "25%           2.000000\n",
       "50%           2.000000\n",
       "75%           2.000000\n",
       "max         200.000000\n",
       "Name: PROD_QTY, dtype: float64"
      ]
     },
     "execution_count": 88,
     "metadata": {},
     "output_type": "execute_result"
    }
   ],
   "source": [
    "#maximum and minimum quantities purchased\n",
    "transction_data['PROD_QTY'].describe()"
   ]
  },
  {
   "cell_type": "code",
   "execution_count": 89,
   "id": "01d3f3ec-13f5-4003-970b-dca16441619a",
   "metadata": {
    "tags": []
   },
   "outputs": [
    {
     "name": "stdout",
     "output_type": "stream",
     "text": [
      "2      236039\n",
      "1       27518\n",
      "5         450\n",
      "3         430\n",
      "4         397\n",
      "200         2\n",
      "Name: PROD_QTY, dtype: int64\n"
     ]
    },
    {
     "data": {
      "text/plain": [
       "'\\nThe value of 200 qty seems to be an outlier in the prices by satistical analysis, \\ni want to verify this by find the quantities taht were greater than 2 which is the is the 75th pecentile of the data set\\ni also discovered that this customer had 2 purchases of this sort in the last 2 year, one per year which is indicative that\\ncustomer is not a regular retailer\\n'"
      ]
     },
     "execution_count": 89,
     "metadata": {},
     "output_type": "execute_result"
    }
   ],
   "source": [
    "#count the unique values \n",
    "print(transction_data['PROD_QTY'].value_counts())\n",
    "'''\n",
    "The value of 200 qty seems to be an outlier in the prices by satistical analysis, \n",
    "i want to verify this by find the quantities taht were greater than 2 which is the is the 75th pecentile of the data set\n",
    "i also discovered that this customer had 2 purchases of this sort in the last 2 year, one per year which is indicative that\n",
    "customer is not a regular retailer\n",
    "'''"
   ]
  },
  {
   "cell_type": "code",
   "execution_count": 90,
   "id": "b92ac05b-4b9e-493a-9c51-9ef7856a7a88",
   "metadata": {},
   "outputs": [],
   "source": [
    "transction_data[transction_data['PROD_QTY'] == 200]\n",
    "#Pick up the customer and find if hat customerhad made any other purchases\n",
    "\n",
    "\n",
    "transction_data = transction_data[transction_data['PROD_QTY'] != 200]\n",
    "# since the occurances of having 200 comes rarely, it would be useful to take it as an outlier"
   ]
  },
  {
   "cell_type": "markdown",
   "id": "2aadda17-7da7-4739-ade8-70dc2ee5c007",
   "metadata": {},
   "source": [
    "### CREATE A UNIT PRICE COLUMN"
   ]
  },
  {
   "cell_type": "code",
   "execution_count": 92,
   "id": "64a4c1f0-453d-4b1e-a39a-a5a963beb97c",
   "metadata": {
    "collapsed": true,
    "jupyter": {
     "outputs_hidden": true
    },
    "tags": []
   },
   "outputs": [
    {
     "data": {
      "text/plain": [
       "(array([10329., 15020., 23625., 48319., 60132., 34950., 25291., 28341.,\n",
       "        15773.,  3054.]),\n",
       " array([1.32 , 1.838, 2.356, 2.874, 3.392, 3.91 , 4.428, 4.946, 5.464,\n",
       "        5.982, 6.5  ]),\n",
       " <BarContainer object of 10 artists>)"
      ]
     },
     "execution_count": 92,
     "metadata": {},
     "output_type": "execute_result"
    },
    {
     "data": {
      "image/png": "[encoded data removed]",
      "text/plain": [
       "<Figure size 432x288 with 1 Axes>"
      ]
     },
     "metadata": {
      "needs_background": "light"
     },
     "output_type": "display_data"
    }
   ],
   "source": [
    "#i want to describe products by unit prices\n",
    "transction_data['Unit_price'] = transction_data['TOT_SALES']/transction_data['PROD_QTY']\n",
    "plt.hist(transction_data['Unit_price'])"
   ]
  },
  {
   "cell_type": "code",
   "execution_count": 93,
   "id": "068ac996-d5e6-4e5f-a866-839bf2759dd0",
   "metadata": {
    "collapsed": true,
    "jupyter": {
     "outputs_hidden": true
    },
    "tags": []
   },
   "outputs": [
    {
     "data": {
      "text/plain": [
       "'\\nProducts with unit prices of $4.4-4.6, $3.70 -3.80 , $3.00, $5.40\\nI can conclude the chips within the ranges of $3 to $5 dollars have the most purchases \\n'"
      ]
     },
     "execution_count": 93,
     "metadata": {},
     "output_type": "execute_result"
    },
    {
     "data": {
      "image/png": "[encoded data removed]",
      "text/plain": [
       "<Figure size 432x288 with 1 Axes>"
      ]
     },
     "metadata": {
      "needs_background": "light"
     },
     "output_type": "display_data"
    }
   ],
   "source": [
    "#transction_data['Unit_price'].groupby(['Unit_price'])['Unit_price'].count()\n",
    "price_distr = pd.DataFrame(transction_data['Unit_price'].value_counts().sort_index())\n",
    "price_distr.plot(kind= 'line')\n",
    "\n",
    "\"\"\"\n",
    "Products with unit prices of $4.4-4.6, $3.70 -3.80 , $3.00, $5.40\n",
    "I can conclude the chips within the ranges of $3 to $5 dollars have the most purchases \n",
    "\"\"\""
   ]
  },
  {
   "cell_type": "code",
   "execution_count": 94,
   "id": "05e29944-81a7-456d-a5ec-929c667ca45d",
   "metadata": {
    "tags": []
   },
   "outputs": [
    {
     "data": {
      "text/plain": [
       "175    66390\n",
       "150    43131\n",
       "134    25102\n",
       "110    22387\n",
       "170    19983\n",
       "165    15297\n",
       "300    15166\n",
       "330    12540\n",
       "380     6416\n",
       "270     6285\n",
       "210     6272\n",
       "200     4473\n",
       "Sal     3257\n",
       "250     3169\n",
       " 90     3008\n",
       "190     2995\n",
       "160     2970\n",
       "220     1564\n",
       " 70     1507\n",
       "180     1468\n",
       "125     1454\n",
       "Name: PROD_SIZE, dtype: Int64"
      ]
     },
     "execution_count": 94,
     "metadata": {},
     "output_type": "execute_result"
    }
   ],
   "source": [
    "#extracting the 'PROD_NAME' \n",
    "chips = transction_data['PROD_NAME'].astype('string')\n",
    "#extracting the weight of each product and concatanating it to the original dataframe\n",
    "transction_data['PROD_SIZE'] = chips.str[-4:-1]\n",
    "transction_data['PROD_SIZE'].value_counts()"
   ]
  },
  {
   "cell_type": "code",
   "execution_count": 95,
   "id": "676724fb-0742-46c0-89ac-160d7e9c4226",
   "metadata": {},
   "outputs": [
    {
     "data": {
      "text/plain": [
       "Kettle 135g Swt Pot Sea Salt    3257\n",
       "Name: PROD_NAME, dtype: int64"
      ]
     },
     "execution_count": 95,
     "metadata": {},
     "output_type": "execute_result"
    }
   ],
   "source": [
    "transction_data[transction_data['PROD_SIZE'] == 'Sal'].PROD_NAME.value_counts()"
   ]
  },
  {
   "cell_type": "code",
   "execution_count": 96,
   "id": "93413b70-4a70-450c-817a-a4d4cec0ae1f",
   "metadata": {},
   "outputs": [],
   "source": [
    "#simplified the operation by using jsut on line of data}) \n",
    "transction_data['PROD_SIZE'][transction_data['PROD_SIZE'] == 'Sal'] = chips.str[7:10]"
   ]
  },
  {
   "cell_type": "code",
   "execution_count": 97,
   "id": "970b0cea-6888-4366-a80a-9f216f6504c7",
   "metadata": {
    "tags": []
   },
   "outputs": [
    {
     "data": {
      "text/plain": [
       "Text(0.5, 0, 'WEIGHTS IN GRAMS')"
      ]
     },
     "execution_count": 97,
     "metadata": {},
     "output_type": "execute_result"
    },
    {
     "data": {
      "image/png": "[encoded data removed]",
      "text/plain": [
       "<Figure size 720x360 with 1 Axes>"
      ]
     },
     "metadata": {
      "needs_background": "light"
     },
     "output_type": "display_data"
    }
   ],
   "source": [
    "\n",
    "transction_data['PROD_SIZE'] = transction_data['PROD_SIZE'].astype(int)\n",
    "\n",
    "plt.figure(figsize = (10, 5))\n",
    "plt.hist(transction_data['PROD_SIZE']) \n",
    "plt.plot(transction_data['PROD_SIZE'].value_counts().sort_index())\n",
    "plt.title(\"Distribution of chips weights\")\n",
    "plt.xlabel(\"WEIGHTS IN GRAMS\")"
   ]
  },
  {
   "cell_type": "markdown",
   "id": "ab58d08a-7ca3-406a-b352-059444eca17b",
   "metadata": {},
   "source": [
    "Most purchased chip ranges from 100g to 200g\n",
    "175g,150g,134g, 110g and 170g are the most purchased chips weights categories \n",
    "\n",
    "\n",
    "using a string will non enable me sort by weight ranges, so since all weights are in grams(g),\n",
    "we will replace the 'PROD_SIZE' with intergers only' \n",
    "'''\n",
    "transction_data['PROD_SIZE'] = transction_data['PROD_SIZE'].str[0:-1]\n",
    "This also can be done by striping 'g' and converting it to intergers \n",
    "transction_data.PROD_SIZE = transction_data.PROD_SIZE.astype(int)\n",
    "'''"
   ]
  },
  {
   "cell_type": "code",
   "execution_count": 98,
   "id": "4885796c-8902-4834-9615-a22fe1021ab3",
   "metadata": {},
   "outputs": [],
   "source": [
    "#find if there are duplicate transaction IDS\n",
    "transction_data[transction_data[['TXN_ID','PROD_NBR']].duplicated(keep = False)]\n",
    "#there is a dublicate TXN_Id & PROD_NBR so ane of its occurance will be dropped\n",
    "transction_data = transction_data.drop_duplicates()"
   ]
  },
  {
   "cell_type": "code",
   "execution_count": 99,
   "id": "b00a8585-ea98-4897-9e27-ab3e3372634a",
   "metadata": {
    "collapsed": true,
    "jupyter": {
     "outputs_hidden": true
    },
    "tags": []
   },
   "outputs": [
    {
     "data": {
      "text/html": [
       "<div>\n",
       "<style scoped>\n",
       "    .dataframe tbody tr th:only-of-type {\n",
       "        vertical-align: middle;\n",
       "    }\n",
       "\n",
       "    .dataframe tbody tr th {\n",
       "        vertical-align: top;\n",
       "    }\n",
       "\n",
       "    .dataframe thead th {\n",
       "        text-align: right;\n",
       "    }\n",
       "</style>\n",
       "<table border=\"1\" class=\"dataframe\">\n",
       "  <thead>\n",
       "    <tr style=\"text-align: right;\">\n",
       "      <th></th>\n",
       "      <th>key</th>\n",
       "      <th>Brand Names</th>\n",
       "      <th>Flavour</th>\n",
       "    </tr>\n",
       "  </thead>\n",
       "  <tbody>\n",
       "    <tr>\n",
       "      <th>0</th>\n",
       "      <td>Kettle Mozzarella   Basil &amp; Pesto</td>\n",
       "      <td>Kettle</td>\n",
       "      <td>Mozzarella Basil &amp; Pesto</td>\n",
       "    </tr>\n",
       "    <tr>\n",
       "      <th>1</th>\n",
       "      <td>Kettle Tortilla ChpsHny&amp;Jlpno Chili</td>\n",
       "      <td>Kettle</td>\n",
       "      <td>Tortilla ChpsHny &amp; Jlpno Chili</td>\n",
       "    </tr>\n",
       "    <tr>\n",
       "      <th>2</th>\n",
       "      <td>Cobs Popd Swt/Chlli &amp;Sr/Cream Chips</td>\n",
       "      <td>Cobs Popd</td>\n",
       "      <td>Swt/Chlli &amp;Sr/Cream Chips</td>\n",
       "    </tr>\n",
       "    <tr>\n",
       "      <th>3</th>\n",
       "      <td>Tyrrells Crisps     Ched &amp; Chives</td>\n",
       "      <td>Tyrrells Crisps</td>\n",
       "      <td>Ched &amp; Chives</td>\n",
       "    </tr>\n",
       "    <tr>\n",
       "      <th>4</th>\n",
       "      <td>Cobs Popd Sea Salt  Chips</td>\n",
       "      <td>Cobs Popd</td>\n",
       "      <td>Sea Salt  Chips</td>\n",
       "    </tr>\n",
       "    <tr>\n",
       "      <th>...</th>\n",
       "      <td>...</td>\n",
       "      <td>...</td>\n",
       "      <td>...</td>\n",
       "    </tr>\n",
       "    <tr>\n",
       "      <th>109</th>\n",
       "      <td>RRD Pc Sea Salt</td>\n",
       "      <td>Red Rock Deli</td>\n",
       "      <td>Pc Sea Salt</td>\n",
       "    </tr>\n",
       "    <tr>\n",
       "      <th>110</th>\n",
       "      <td>Woolworths Medium   Salsa</td>\n",
       "      <td>Woolworths</td>\n",
       "      <td>Medium Salsa</td>\n",
       "    </tr>\n",
       "    <tr>\n",
       "      <th>111</th>\n",
       "      <td>NCC Sour Cream &amp;    Garden Chives</td>\n",
       "      <td>NCC</td>\n",
       "      <td>Sour Cream &amp; Garden Chives</td>\n",
       "    </tr>\n",
       "    <tr>\n",
       "      <th>112</th>\n",
       "      <td>French Fries Potato Chips</td>\n",
       "      <td>French Fries</td>\n",
       "      <td>Potato Chips</td>\n",
       "    </tr>\n",
       "    <tr>\n",
       "      <th>113</th>\n",
       "      <td>WW Crinkle Cut      Original</td>\n",
       "      <td>WW</td>\n",
       "      <td>Crinkle Cut Original</td>\n",
       "    </tr>\n",
       "  </tbody>\n",
       "</table>\n",
       "<p>114 rows × 3 columns</p>\n",
       "</div>"
      ],
      "text/plain": [
       "                                      key      Brand Names  \\\n",
       "0      Kettle Mozzarella   Basil & Pesto            Kettle   \n",
       "1    Kettle Tortilla ChpsHny&Jlpno Chili            Kettle   \n",
       "2    Cobs Popd Swt/Chlli &Sr/Cream Chips         Cobs Popd   \n",
       "3      Tyrrells Crisps     Ched & Chives   Tyrrells Crisps   \n",
       "4              Cobs Popd Sea Salt  Chips         Cobs Popd   \n",
       "..                                    ...              ...   \n",
       "109                  RRD Pc Sea Salt         Red Rock Deli   \n",
       "110            Woolworths Medium   Salsa        Woolworths   \n",
       "111    NCC Sour Cream &    Garden Chives               NCC   \n",
       "112            French Fries Potato Chips      French Fries   \n",
       "113         WW Crinkle Cut      Original                WW   \n",
       "\n",
       "                             Flavour  \n",
       "0          Mozzarella Basil & Pesto   \n",
       "1    Tortilla ChpsHny & Jlpno Chili   \n",
       "2          Swt/Chlli &Sr/Cream Chips  \n",
       "3                     Ched & Chives   \n",
       "4                   Sea Salt  Chips   \n",
       "..                               ...  \n",
       "109                   Pc Sea Salt     \n",
       "110                    Medium Salsa   \n",
       "111      Sour Cream & Garden Chives   \n",
       "112                    Potato Chips   \n",
       "113            Crinkle Cut Original   \n",
       "\n",
       "[114 rows x 3 columns]"
      ]
     },
     "execution_count": 99,
     "metadata": {},
     "output_type": "execute_result"
    }
   ],
   "source": [
    "chips.str[:-4].value_counts().to_frame().to_csv('check_in_excel.csv' )\n",
    "#The above file is exported to excel and worked on to make a brand and flavour file\n",
    "brand_and_flavours = pd.read_csv('Brands_andd_products.csv')\n",
    "brand_and_flavours"
   ]
  },
  {
   "cell_type": "code",
   "execution_count": 100,
   "id": "27f22ca3-04f6-4209-9108-06f7099898a1",
   "metadata": {
    "tags": []
   },
   "outputs": [
    {
     "data": {
      "text/html": [
       "<div>\n",
       "<style scoped>\n",
       "    .dataframe tbody tr th:only-of-type {\n",
       "        vertical-align: middle;\n",
       "    }\n",
       "\n",
       "    .dataframe tbody tr th {\n",
       "        vertical-align: top;\n",
       "    }\n",
       "\n",
       "    .dataframe thead th {\n",
       "        text-align: right;\n",
       "    }\n",
       "</style>\n",
       "<table border=\"1\" class=\"dataframe\">\n",
       "  <thead>\n",
       "    <tr style=\"text-align: right;\">\n",
       "      <th></th>\n",
       "      <th>DATE</th>\n",
       "      <th>STORE_NBR</th>\n",
       "      <th>LYLTY_CARD_NBR</th>\n",
       "      <th>TXN_ID</th>\n",
       "      <th>PROD_NBR</th>\n",
       "      <th>PROD_NAME</th>\n",
       "      <th>PROD_QTY</th>\n",
       "      <th>TOT_SALES</th>\n",
       "      <th>Date_day</th>\n",
       "      <th>Date_month</th>\n",
       "      <th>Date_year</th>\n",
       "      <th>Unit_price</th>\n",
       "      <th>PROD_SIZE</th>\n",
       "      <th>Brand Names</th>\n",
       "      <th>Flavour</th>\n",
       "    </tr>\n",
       "  </thead>\n",
       "  <tbody>\n",
       "    <tr>\n",
       "      <th>0</th>\n",
       "      <td>2018-10-17</td>\n",
       "      <td>1</td>\n",
       "      <td>1000</td>\n",
       "      <td>1</td>\n",
       "      <td>5</td>\n",
       "      <td>Natural Chip        Compny SeaSalt175g</td>\n",
       "      <td>2</td>\n",
       "      <td>6.0</td>\n",
       "      <td>Wednesday</td>\n",
       "      <td>October</td>\n",
       "      <td>2018</td>\n",
       "      <td>3.0</td>\n",
       "      <td>175</td>\n",
       "      <td>Natural Chip Co</td>\n",
       "      <td>Compny SeaSalt</td>\n",
       "    </tr>\n",
       "    <tr>\n",
       "      <th>1</th>\n",
       "      <td>2018-12-05</td>\n",
       "      <td>5</td>\n",
       "      <td>5050</td>\n",
       "      <td>4667</td>\n",
       "      <td>5</td>\n",
       "      <td>Natural Chip        Compny SeaSalt175g</td>\n",
       "      <td>2</td>\n",
       "      <td>6.0</td>\n",
       "      <td>Wednesday</td>\n",
       "      <td>December</td>\n",
       "      <td>2018</td>\n",
       "      <td>3.0</td>\n",
       "      <td>175</td>\n",
       "      <td>Natural Chip Co</td>\n",
       "      <td>Compny SeaSalt</td>\n",
       "    </tr>\n",
       "    <tr>\n",
       "      <th>2</th>\n",
       "      <td>2018-08-04</td>\n",
       "      <td>16</td>\n",
       "      <td>16364</td>\n",
       "      <td>14497</td>\n",
       "      <td>5</td>\n",
       "      <td>Natural Chip        Compny SeaSalt175g</td>\n",
       "      <td>1</td>\n",
       "      <td>3.0</td>\n",
       "      <td>Saturday</td>\n",
       "      <td>August</td>\n",
       "      <td>2018</td>\n",
       "      <td>3.0</td>\n",
       "      <td>175</td>\n",
       "      <td>Natural Chip Co</td>\n",
       "      <td>Compny SeaSalt</td>\n",
       "    </tr>\n",
       "  </tbody>\n",
       "</table>\n",
       "</div>"
      ],
      "text/plain": [
       "        DATE  STORE_NBR  LYLTY_CARD_NBR  TXN_ID  PROD_NBR  \\\n",
       "0 2018-10-17          1            1000       1         5   \n",
       "1 2018-12-05          5            5050    4667         5   \n",
       "2 2018-08-04         16           16364   14497         5   \n",
       "\n",
       "                                PROD_NAME  PROD_QTY  TOT_SALES   Date_day  \\\n",
       "0  Natural Chip        Compny SeaSalt175g         2        6.0  Wednesday   \n",
       "1  Natural Chip        Compny SeaSalt175g         2        6.0  Wednesday   \n",
       "2  Natural Chip        Compny SeaSalt175g         1        3.0   Saturday   \n",
       "\n",
       "  Date_month  Date_year  Unit_price  PROD_SIZE        Brand Names  \\\n",
       "0    October       2018         3.0        175  Natural Chip Co     \n",
       "1   December       2018         3.0        175  Natural Chip Co     \n",
       "2     August       2018         3.0        175  Natural Chip Co     \n",
       "\n",
       "          Flavour  \n",
       "0  Compny SeaSalt  \n",
       "1  Compny SeaSalt  \n",
       "2  Compny SeaSalt  "
      ]
     },
     "execution_count": 100,
     "metadata": {},
     "output_type": "execute_result"
    }
   ],
   "source": [
    "#CREATE KEY COLUMN SIMILAR TO THAT IN 'brand_and_flavours'\n",
    "transction_data['key'] = transction_data.PROD_NAME.str[:-4]\n",
    "\n",
    "transction_data = pd.merge(transction_data,brand_and_flavours, on=\"key\")\n",
    "transction_data = transction_data.drop(columns = ['key'])\n",
    "#now the  transaction data is ready for analysis\n",
    "transction_data.head(3)"
   ]
  },
  {
   "cell_type": "markdown",
   "id": "c494470e-2ec8-406a-9257-16e8b11be4b7",
   "metadata": {
    "tags": []
   },
   "source": [
    "### check for product caterories and drop 'salsa'"
   ]
  },
  {
   "cell_type": "code",
   "execution_count": 101,
   "id": "918426a9-48c0-44fc-bd65-f2d2a9683692",
   "metadata": {
    "tags": []
   },
   "outputs": [],
   "source": [
    "salsa_index     = transction_data[transction_data['PROD_NAME'].str.contains(\"salsa \", case=False)].index\n",
    "transction_data = transction_data.drop(index = salsa_index)"
   ]
  },
  {
   "cell_type": "markdown",
   "id": "a0a03cbc-210f-495a-b188-af640c000b42",
   "metadata": {},
   "source": [
    "## QVI purchase behaviour Data Exploration and Cleaning"
   ]
  },
  {
   "cell_type": "code",
   "execution_count": 102,
   "id": "72f83e56-92ea-4105-826b-d6abe033c18f",
   "metadata": {
    "tags": []
   },
   "outputs": [
    {
     "data": {
      "text/html": [
       "<div>\n",
       "<style scoped>\n",
       "    .dataframe tbody tr th:only-of-type {\n",
       "        vertical-align: middle;\n",
       "    }\n",
       "\n",
       "    .dataframe tbody tr th {\n",
       "        vertical-align: top;\n",
       "    }\n",
       "\n",
       "    .dataframe thead th {\n",
       "        text-align: right;\n",
       "    }\n",
       "</style>\n",
       "<table border=\"1\" class=\"dataframe\">\n",
       "  <thead>\n",
       "    <tr style=\"text-align: right;\">\n",
       "      <th></th>\n",
       "      <th>LYLTY_CARD_NBR</th>\n",
       "      <th>LIFESTAGE</th>\n",
       "      <th>PREMIUM_CUSTOMER</th>\n",
       "    </tr>\n",
       "  </thead>\n",
       "  <tbody>\n",
       "    <tr>\n",
       "      <th>0</th>\n",
       "      <td>1000</td>\n",
       "      <td>YOUNG SINGLES/COUPLES</td>\n",
       "      <td>Premium</td>\n",
       "    </tr>\n",
       "    <tr>\n",
       "      <th>1</th>\n",
       "      <td>1002</td>\n",
       "      <td>YOUNG SINGLES/COUPLES</td>\n",
       "      <td>Mainstream</td>\n",
       "    </tr>\n",
       "    <tr>\n",
       "      <th>2</th>\n",
       "      <td>1003</td>\n",
       "      <td>YOUNG FAMILIES</td>\n",
       "      <td>Budget</td>\n",
       "    </tr>\n",
       "    <tr>\n",
       "      <th>3</th>\n",
       "      <td>1004</td>\n",
       "      <td>OLDER SINGLES/COUPLES</td>\n",
       "      <td>Mainstream</td>\n",
       "    </tr>\n",
       "    <tr>\n",
       "      <th>4</th>\n",
       "      <td>1005</td>\n",
       "      <td>MIDAGE SINGLES/COUPLES</td>\n",
       "      <td>Mainstream</td>\n",
       "    </tr>\n",
       "    <tr>\n",
       "      <th>...</th>\n",
       "      <td>...</td>\n",
       "      <td>...</td>\n",
       "      <td>...</td>\n",
       "    </tr>\n",
       "    <tr>\n",
       "      <th>72632</th>\n",
       "      <td>2370651</td>\n",
       "      <td>MIDAGE SINGLES/COUPLES</td>\n",
       "      <td>Mainstream</td>\n",
       "    </tr>\n",
       "    <tr>\n",
       "      <th>72633</th>\n",
       "      <td>2370701</td>\n",
       "      <td>YOUNG FAMILIES</td>\n",
       "      <td>Mainstream</td>\n",
       "    </tr>\n",
       "    <tr>\n",
       "      <th>72634</th>\n",
       "      <td>2370751</td>\n",
       "      <td>YOUNG FAMILIES</td>\n",
       "      <td>Premium</td>\n",
       "    </tr>\n",
       "    <tr>\n",
       "      <th>72635</th>\n",
       "      <td>2370961</td>\n",
       "      <td>OLDER FAMILIES</td>\n",
       "      <td>Budget</td>\n",
       "    </tr>\n",
       "    <tr>\n",
       "      <th>72636</th>\n",
       "      <td>2373711</td>\n",
       "      <td>YOUNG SINGLES/COUPLES</td>\n",
       "      <td>Mainstream</td>\n",
       "    </tr>\n",
       "  </tbody>\n",
       "</table>\n",
       "<p>72637 rows × 3 columns</p>\n",
       "</div>"
      ],
      "text/plain": [
       "       LYLTY_CARD_NBR               LIFESTAGE PREMIUM_CUSTOMER\n",
       "0                1000   YOUNG SINGLES/COUPLES          Premium\n",
       "1                1002   YOUNG SINGLES/COUPLES       Mainstream\n",
       "2                1003          YOUNG FAMILIES           Budget\n",
       "3                1004   OLDER SINGLES/COUPLES       Mainstream\n",
       "4                1005  MIDAGE SINGLES/COUPLES       Mainstream\n",
       "...               ...                     ...              ...\n",
       "72632         2370651  MIDAGE SINGLES/COUPLES       Mainstream\n",
       "72633         2370701          YOUNG FAMILIES       Mainstream\n",
       "72634         2370751          YOUNG FAMILIES          Premium\n",
       "72635         2370961          OLDER FAMILIES           Budget\n",
       "72636         2373711   YOUNG SINGLES/COUPLES       Mainstream\n",
       "\n",
       "[72637 rows x 3 columns]"
      ]
     },
     "execution_count": 102,
     "metadata": {},
     "output_type": "execute_result"
    }
   ],
   "source": [
    "##QVI purchase behaviour'\n",
    "purchase_behaviour = pd.read_csv('QVI_purchase_behaviour_1.csv')\n",
    "purchase_behaviour"
   ]
  },
  {
   "cell_type": "markdown",
   "id": "461d3199-521f-4968-a4df-0ac8bbd7f605",
   "metadata": {},
   "source": [
    "## MERGED transction_data AND purchase_behaviour DATASETS"
   ]
  },
  {
   "cell_type": "code",
   "execution_count": 103,
   "id": "b26dfdf7-57fe-49f0-afae-5554929ec724",
   "metadata": {
    "tags": []
   },
   "outputs": [],
   "source": [
    "merged_dataset = pd.merge(transction_data,purchase_behaviour, on=\"LYLTY_CARD_NBR\")\n",
    "merged_dataset.to_csv('Merged_dataset.csv')"
   ]
  },
  {
   "cell_type": "markdown",
   "id": "872a4e07-e019-4b00-a71c-c2c043fa756b",
   "metadata": {},
   "source": [
    "# Data vizualizations and exploration\n",
    "I Prefer using bi tool to do my data exploration after cleaning with a scripting language."
   ]
  },
  {
   "cell_type": "markdown",
   "id": "ded552f6",
   "metadata": {},
   "source": [
    "## Data analysis on customer segments\n",
    "Now that the data is ready for analysis, we can define some metrics of interest to\n",
    "the client:\n",
    "- Who spends the most on chips (total sales), describing customers by lifestage and\n",
    "how premium their general purchasing behaviour is\n",
    "- How many customers are in each segment\n",
    "- How many chips are bought per customer by segment\n",
    "- What's the average chip price by customer segment"
   ]
  },
  {
   "cell_type": "code",
   "execution_count": 105,
   "id": "c8aef24a-0c7c-4dd8-8540-dd75ac8b9b06",
   "metadata": {},
   "outputs": [
    {
     "data": {
      "text/plain": [
       "'\\ni Prefer using bi tool to do my data exploration after cleaning with a scripting language.\\n'"
      ]
     },
     "execution_count": 105,
     "metadata": {},
     "output_type": "execute_result"
    }
   ],
   "source": [
    "#Data vizualizationa and exploration\n",
    "'''\n",
    "i Prefer using bi tool to do my data exploration after cleaning with a scripting language.\n",
    "'''"
   ]
  },
  {
   "cell_type": "code",
   "execution_count": 106,
   "id": "f5731ec5-b2e1-48e7-ad5c-49e716e0d99e",
   "metadata": {
    "tags": []
   },
   "outputs": [
    {
     "data": {
      "image/png": "[encoded data removed]",
      "text/plain": [
       "<Figure size 1080x720 with 1 Axes>"
      ]
     },
     "metadata": {
      "needs_background": "light"
     },
     "output_type": "display_data"
    }
   ],
   "source": [
    "fig = plt.figure(figsize =(15,10))\n",
    "merged_dataset[['DATE','TOT_SALES']].groupby('DATE')['TOT_SALES'].sum().plot()\n",
    "plt.title(\"TOTAL SALES BY DATE\")\n",
    "plt.xlabel(\"DATE\")\n",
    "plt.ylabel(\"TOTAL SALES\")\n",
    "fig.savefig('line_plot.png')"
   ]
  },
  {
   "cell_type": "code",
   "execution_count": 107,
   "id": "71c7dd5c-d556-49c4-8db4-dfa1c0a8e4b0",
   "metadata": {
    "tags": []
   },
   "outputs": [
    {
     "data": {
      "text/plain": [
       "<seaborn.axisgrid.FacetGrid at 0x2064f96a590>"
      ]
     },
     "execution_count": 107,
     "metadata": {},
     "output_type": "execute_result"
    },
    {
     "data": {
      "text/plain": [
       "<Figure size 1080x720 with 0 Axes>"
      ]
     },
     "metadata": {},
     "output_type": "display_data"
    },
    {
     "data": {
      "image/png": "[encoded data removed]",
      "text/plain": [
       "<Figure size 835.625x360 with 2 Axes>"
      ]
     },
     "metadata": {
      "needs_background": "light"
     },
     "output_type": "display_data"
    }
   ],
   "source": [
    "merged1 = pd.DataFrame(merged_dataset[['Date_year','Date_month','TOT_SALES','PREMIUM_CUSTOMER']].groupby(['Date_year','Date_month','PREMIUM_CUSTOMER'])['TOT_SALES'].sum().reset_index())\n",
    "merged1\n",
    "fig = plt.figure(figsize =(15,10))\n",
    "sns.catplot(x='Date_month', y='TOT_SALES', hue = 'PREMIUM_CUSTOMER',\n",
    "          col='Date_year', data = merged1, kind='bar')"
   ]
  },
  {
   "cell_type": "code",
   "execution_count": 109,
   "id": "0b9580eb-cfa9-42bc-9da2-027f4365b0c5",
   "metadata": {
    "tags": []
   },
   "outputs": [
    {
     "data": {
      "text/plain": [
       "<AxesSubplot:>"
      ]
     },
     "execution_count": 109,
     "metadata": {},
     "output_type": "execute_result"
    },
    {
     "data": {
      "image/png": "[encoded data removed]",
      "text/plain": [
       "<Figure size 432x288 with 1 Axes>"
      ]
     },
     "metadata": {
      "needs_background": "light"
     },
     "output_type": "display_data"
    }
   ],
   "source": [
    "#DISTRIBUTION OF OF BRANDS ACROSS ALL GROUPS\n",
    "\n",
    "merged_dataset['Brand Names'].value_counts().plot(kind = 'bar')"
   ]
  },
  {
   "cell_type": "markdown",
   "id": "8a4ed196-3076-47f9-a54e-eafebd9acb7c",
   "metadata": {},
   "source": [
    "- Who spends the most on chips (total sales), describing customers by lifestage and how premium their general purchasing behaviour is"
   ]
  },
  {
   "cell_type": "code",
   "execution_count": 110,
   "id": "57de3403-52b7-47da-8a4e-6e8ed548d497",
   "metadata": {
    "tags": []
   },
   "outputs": [
    {
     "data": {
      "text/plain": [
       "<AxesSubplot:xlabel='LIFESTAGE'>"
      ]
     },
     "execution_count": 110,
     "metadata": {},
     "output_type": "execute_result"
    },
    {
     "data": {
      "image/png": "[encoded data removed]",
      "text/plain": [
       "<Figure size 432x288 with 1 Axes>"
      ]
     },
     "metadata": {
      "needs_background": "light"
     },
     "output_type": "display_data"
    }
   ],
   "source": [
    "merged_dataset[['LIFESTAGE','TOT_SALES']].groupby('LIFESTAGE')['TOT_SALES'].sum().plot(kind = 'bar')"
   ]
  },
  {
   "cell_type": "code",
   "execution_count": 111,
   "id": "a8e17780-57d6-4ba5-aeb5-f168c9672c86",
   "metadata": {
    "tags": []
   },
   "outputs": [
    {
     "data": {
      "text/plain": [
       "<AxesSubplot:xlabel='PREMIUM_CUSTOMER'>"
      ]
     },
     "execution_count": 111,
     "metadata": {},
     "output_type": "execute_result"
    },
    {
     "data": {
      "image/png": "[encoded data removed]",
      "text/plain": [
       "<Figure size 432x288 with 1 Axes>"
      ]
     },
     "metadata": {
      "needs_background": "light"
     },
     "output_type": "display_data"
    }
   ],
   "source": [
    "merged_dataset[['PREMIUM_CUSTOMER','TOT_SALES']].groupby('PREMIUM_CUSTOMER')['TOT_SALES'].sum().plot(kind = 'bar')"
   ]
  },
  {
   "cell_type": "markdown",
   "id": "3688c4fe",
   "metadata": {},
   "source": [
    " ## Total sales by LIFESTAGE and PREMIUM_CUSTOMER"
   ]
  },
  {
   "cell_type": "code",
   "execution_count": 145,
   "id": "74c21eb8-c20f-4505-b53b-745b8d55522b",
   "metadata": {
    "tags": []
   },
   "outputs": [
    {
     "data": {
      "text/html": [
       "<div>\n",
       "<style scoped>\n",
       "    .dataframe tbody tr th:only-of-type {\n",
       "        vertical-align: middle;\n",
       "    }\n",
       "\n",
       "    .dataframe tbody tr th {\n",
       "        vertical-align: top;\n",
       "    }\n",
       "\n",
       "    .dataframe thead th {\n",
       "        text-align: right;\n",
       "    }\n",
       "</style>\n",
       "<table border=\"1\" class=\"dataframe\">\n",
       "  <thead>\n",
       "    <tr style=\"text-align: right;\">\n",
       "      <th></th>\n",
       "      <th></th>\n",
       "      <th>TOT_SALES</th>\n",
       "    </tr>\n",
       "    <tr>\n",
       "      <th>LIFESTAGE</th>\n",
       "      <th>PREMIUM_CUSTOMER</th>\n",
       "      <th></th>\n",
       "    </tr>\n",
       "  </thead>\n",
       "  <tbody>\n",
       "    <tr>\n",
       "      <th>OLDER FAMILIES</th>\n",
       "      <th>Budget</th>\n",
       "      <td>156863.75</td>\n",
       "    </tr>\n",
       "    <tr>\n",
       "      <th>YOUNG SINGLES/COUPLES</th>\n",
       "      <th>Mainstream</th>\n",
       "      <td>147582.20</td>\n",
       "    </tr>\n",
       "    <tr>\n",
       "      <th>RETIREES</th>\n",
       "      <th>Mainstream</th>\n",
       "      <td>145168.95</td>\n",
       "    </tr>\n",
       "    <tr>\n",
       "      <th>YOUNG FAMILIES</th>\n",
       "      <th>Budget</th>\n",
       "      <td>129717.95</td>\n",
       "    </tr>\n",
       "    <tr>\n",
       "      <th>OLDER SINGLES/COUPLES</th>\n",
       "      <th>Budget</th>\n",
       "      <td>127833.60</td>\n",
       "    </tr>\n",
       "  </tbody>\n",
       "</table>\n",
       "</div>"
      ],
      "text/plain": [
       "                                        TOT_SALES\n",
       "LIFESTAGE             PREMIUM_CUSTOMER           \n",
       "OLDER FAMILIES        Budget            156863.75\n",
       "YOUNG SINGLES/COUPLES Mainstream        147582.20\n",
       "RETIREES              Mainstream        145168.95\n",
       "YOUNG FAMILIES        Budget            129717.95\n",
       "OLDER SINGLES/COUPLES Budget            127833.60"
      ]
     },
     "execution_count": 145,
     "metadata": {},
     "output_type": "execute_result"
    }
   ],
   "source": [
    "\n",
    "lifestag_and_premium  = pd.DataFrame(merged_dataset[['PREMIUM_CUSTOMER','LIFESTAGE','TOT_SALES']]\n",
    "                                     .groupby(['LIFESTAGE','PREMIUM_CUSTOMER'])['TOT_SALES'].sum())\n",
    "\n",
    "\n",
    "lifestag_and_premium.sort_values('TOT_SALES', ascending=False).head()\n",
    "\n"
   ]
  },
  {
   "cell_type": "code",
   "execution_count": 146,
   "id": "e757384f",
   "metadata": {},
   "outputs": [
    {
     "data": {
      "text/plain": [
       "<matplotlib.legend.Legend at 0x2066747aaa0>"
      ]
     },
     "execution_count": 146,
     "metadata": {},
     "output_type": "execute_result"
    },
    {
     "data": {
      "text/plain": [
       "<Figure size 1080x720 with 0 Axes>"
      ]
     },
     "metadata": {},
     "output_type": "display_data"
    },
    {
     "data": {
      "image/png": "[encoded data removed]",
      "text/plain": [
       "<Figure size 720x576 with 1 Axes>"
      ]
     },
     "metadata": {
      "needs_background": "light"
     },
     "output_type": "display_data"
    }
   ],
   "source": [
    "\n",
    "lifestag_and_premium  = lifestag_and_premium.unstack()\n",
    "\n",
    "#Viz\n",
    "fig = plt.figure(figsize =(15,10))\n",
    "lifestag_and_premium.plot(kind='bar', stacked=True,figsize = (10, 8), title = 'Total Sales by Customer Segment')\n",
    "plt.legend(['Budget', 'Mainstream', 'Premium'])"
   ]
  },
  {
   "cell_type": "markdown",
   "id": "cb65701f",
   "metadata": {},
   "source": [
    "Top 3 sales comes from in order\n",
    "- OLDER FAMILIES\tBudget\t\n",
    "- YOUNG SINGLES/COUPLES\tMainstream\t\n",
    "- RETIREES\tMainstream\t"
   ]
  },
  {
   "cell_type": "markdown",
   "id": "1b6af770",
   "metadata": {},
   "source": [
    "  ### Total NUMBER OF CUSTOMERS by LIFESTAGE and PREMIUM_CUSTOMER"
   ]
  },
  {
   "cell_type": "code",
   "execution_count": 149,
   "id": "6d19a5e8-1ced-496c-9f45-e43b374cfaec",
   "metadata": {
    "tags": []
   },
   "outputs": [
    {
     "data": {
      "text/html": [
       "<div>\n",
       "<style scoped>\n",
       "    .dataframe tbody tr th:only-of-type {\n",
       "        vertical-align: middle;\n",
       "    }\n",
       "\n",
       "    .dataframe tbody tr th {\n",
       "        vertical-align: top;\n",
       "    }\n",
       "\n",
       "    .dataframe thead th {\n",
       "        text-align: right;\n",
       "    }\n",
       "</style>\n",
       "<table border=\"1\" class=\"dataframe\">\n",
       "  <thead>\n",
       "    <tr style=\"text-align: right;\">\n",
       "      <th></th>\n",
       "      <th></th>\n",
       "      <th>LYLTY_CARD_NBR</th>\n",
       "    </tr>\n",
       "    <tr>\n",
       "      <th>LIFESTAGE</th>\n",
       "      <th>PREMIUM_CUSTOMER</th>\n",
       "      <th></th>\n",
       "    </tr>\n",
       "  </thead>\n",
       "  <tbody>\n",
       "    <tr>\n",
       "      <th>YOUNG SINGLES/COUPLES</th>\n",
       "      <th>Mainstream</th>\n",
       "      <td>7917</td>\n",
       "    </tr>\n",
       "    <tr>\n",
       "      <th>RETIREES</th>\n",
       "      <th>Mainstream</th>\n",
       "      <td>6358</td>\n",
       "    </tr>\n",
       "    <tr>\n",
       "      <th rowspan=\"3\" valign=\"top\">OLDER SINGLES/COUPLES</th>\n",
       "      <th>Mainstream</th>\n",
       "      <td>4858</td>\n",
       "    </tr>\n",
       "    <tr>\n",
       "      <th>Budget</th>\n",
       "      <td>4849</td>\n",
       "    </tr>\n",
       "    <tr>\n",
       "      <th>Premium</th>\n",
       "      <td>4682</td>\n",
       "    </tr>\n",
       "  </tbody>\n",
       "</table>\n",
       "</div>"
      ],
      "text/plain": [
       "                                        LYLTY_CARD_NBR\n",
       "LIFESTAGE             PREMIUM_CUSTOMER                \n",
       "YOUNG SINGLES/COUPLES Mainstream                  7917\n",
       "RETIREES              Mainstream                  6358\n",
       "OLDER SINGLES/COUPLES Mainstream                  4858\n",
       "                      Budget                      4849\n",
       "                      Premium                     4682"
      ]
     },
     "execution_count": 149,
     "metadata": {},
     "output_type": "execute_result"
    }
   ],
   "source": [
    "\n",
    "no_cust = pd.DataFrame(merged_dataset[['PREMIUM_CUSTOMER','LIFESTAGE','LYLTY_CARD_NBR']]\n",
    "                                     .groupby(['LIFESTAGE','PREMIUM_CUSTOMER'])['LYLTY_CARD_NBR'].nunique())\n",
    "\n",
    "no_cust.sort_values('LYLTY_CARD_NBR', ascending=False).head()\n"
   ]
  },
  {
   "cell_type": "code",
   "execution_count": 150,
   "id": "9d7e8083",
   "metadata": {},
   "outputs": [
    {
     "data": {
      "text/plain": [
       "<matplotlib.legend.Legend at 0x20667426590>"
      ]
     },
     "execution_count": 150,
     "metadata": {},
     "output_type": "execute_result"
    },
    {
     "data": {
      "image/png": "[encoded data removed]",
      "text/plain": [
       "<Figure size 720x576 with 1 Axes>"
      ]
     },
     "metadata": {
      "needs_background": "light"
     },
     "output_type": "display_data"
    }
   ],
   "source": [
    "no_cust = no_cust.unstack()\n",
    "no_cust.plot(stacked = True, kind ='bar', figsize = (10,8), title = 'Number of Customers by Customer Segment' )\n",
    "plt.legend(['Budget', 'Mainstream', 'Premium'])"
   ]
  },
  {
   "cell_type": "markdown",
   "id": "48f6ccbd",
   "metadata": {},
   "source": [
    "\n",
    "There are more mainstream young singles/couples and retirees. This contributes to to more chips sales in these segments however this is not the major driver for the budget older families segment in comparism to the total salses.\n",
    "This might be due to the fact tha the budget older families buys chips with more unit price per chip than mainstream young singles and retirees "
   ]
  },
  {
   "cell_type": "markdown",
   "id": "46923415-8d87-4fe4-b0be-4c2e5b1a41f9",
   "metadata": {},
   "source": [
    "### NUMBER OF CHIPS PER CUSTOMER by PREMIUM_CUSTOMER and LIFESTAGE"
   ]
  },
  {
   "cell_type": "code",
   "execution_count": 185,
   "id": "abe8ee4a-d3f8-4c3b-8364-389a45dec628",
   "metadata": {
    "tags": []
   },
   "outputs": [
    {
     "data": {
      "text/html": [
       "<div>\n",
       "<style scoped>\n",
       "    .dataframe tbody tr th:only-of-type {\n",
       "        vertical-align: middle;\n",
       "    }\n",
       "\n",
       "    .dataframe tbody tr th {\n",
       "        vertical-align: top;\n",
       "    }\n",
       "\n",
       "    .dataframe thead th {\n",
       "        text-align: right;\n",
       "    }\n",
       "</style>\n",
       "<table border=\"1\" class=\"dataframe\">\n",
       "  <thead>\n",
       "    <tr style=\"text-align: right;\">\n",
       "      <th></th>\n",
       "      <th></th>\n",
       "      <th>CHIPSperCUST</th>\n",
       "    </tr>\n",
       "    <tr>\n",
       "      <th>LIFESTAGE</th>\n",
       "      <th>PREMIUM_CUSTOMER</th>\n",
       "      <th></th>\n",
       "    </tr>\n",
       "  </thead>\n",
       "  <tbody>\n",
       "    <tr>\n",
       "      <th rowspan=\"3\" valign=\"top\">OLDER FAMILIES</th>\n",
       "      <th>Mainstream</th>\n",
       "      <td>9.255380</td>\n",
       "    </tr>\n",
       "    <tr>\n",
       "      <th>Budget</th>\n",
       "      <td>9.076773</td>\n",
       "    </tr>\n",
       "    <tr>\n",
       "      <th>Premium</th>\n",
       "      <td>9.071717</td>\n",
       "    </tr>\n",
       "    <tr>\n",
       "      <th rowspan=\"2\" valign=\"top\">YOUNG FAMILIES</th>\n",
       "      <th>Budget</th>\n",
       "      <td>8.722995</td>\n",
       "    </tr>\n",
       "    <tr>\n",
       "      <th>Premium</th>\n",
       "      <td>8.716013</td>\n",
       "    </tr>\n",
       "  </tbody>\n",
       "</table>\n",
       "</div>"
      ],
      "text/plain": [
       "                                 CHIPSperCUST\n",
       "LIFESTAGE      PREMIUM_CUSTOMER              \n",
       "OLDER FAMILIES Mainstream            9.255380\n",
       "               Budget                9.076773\n",
       "               Premium               9.071717\n",
       "YOUNG FAMILIES Budget                8.722995\n",
       "               Premium               8.716013"
      ]
     },
     "execution_count": 185,
     "metadata": {},
     "output_type": "execute_result"
    }
   ],
   "source": [
    "no_chips = pd.DataFrame(merged_dataset[['PREMIUM_CUSTOMER','LIFESTAGE','LYLTY_CARD_NBR','PROD_QTY']]\n",
    "                        .groupby(['LIFESTAGE','PREMIUM_CUSTOMER']).agg({'PROD_QTY': 'sum' ,'LYLTY_CARD_NBR':'nunique'}))\n",
    "\n",
    "no_chips['CHIPSperCUST'] =  no_chips['PROD_QTY']/no_chips['LYLTY_CARD_NBR']\n",
    "no_chips = no_chips.drop(columns= ['LYLTY_CARD_NBR','PROD_QTY'])\n",
    "no_chips.sort_values('CHIPSperCUST', ascending=False).head()"
   ]
  },
  {
   "cell_type": "code",
   "execution_count": 186,
   "id": "8a87de8d",
   "metadata": {},
   "outputs": [
    {
     "data": {
      "text/plain": [
       "<matplotlib.legend.Legend at 0x2064f9699f0>"
      ]
     },
     "execution_count": 186,
     "metadata": {},
     "output_type": "execute_result"
    },
    {
     "data": {
      "image/png": "[encoded data removed]",
      "text/plain": [
       "<Figure size 720x576 with 1 Axes>"
      ]
     },
     "metadata": {
      "needs_background": "light"
     },
     "output_type": "display_data"
    }
   ],
   "source": [
    "no_chips = no_chips.unstack()\n",
    "no_chips.plot(stacked = False , kind ='bar', figsize = (10,8), title = 'Total Quantity per Customer by Segment' )\n",
    "plt.legend(['Budget', 'Mainstream', 'Premium'])"
   ]
  },
  {
   "cell_type": "markdown",
   "id": "e690db47",
   "metadata": {},
   "source": [
    "OLDER and YOUNG FAMILIES Purchase higher Number of chips per customer "
   ]
  },
  {
   "cell_type": "markdown",
   "id": "dbd7f85e",
   "metadata": {},
   "source": [
    "### Average price per unit by PREMIUM_CUSTOMER and LIFESTAGE"
   ]
  },
  {
   "cell_type": "code",
   "execution_count": 191,
   "id": "b88be0fe-a1b5-4e66-a13c-b809f1d1b4c4",
   "metadata": {
    "tags": []
   },
   "outputs": [
    {
     "data": {
      "text/html": [
       "<div>\n",
       "<style scoped>\n",
       "    .dataframe tbody tr th:only-of-type {\n",
       "        vertical-align: middle;\n",
       "    }\n",
       "\n",
       "    .dataframe tbody tr th {\n",
       "        vertical-align: top;\n",
       "    }\n",
       "\n",
       "    .dataframe thead th {\n",
       "        text-align: right;\n",
       "    }\n",
       "</style>\n",
       "<table border=\"1\" class=\"dataframe\">\n",
       "  <thead>\n",
       "    <tr style=\"text-align: right;\">\n",
       "      <th></th>\n",
       "      <th></th>\n",
       "      <th>Unit_price</th>\n",
       "    </tr>\n",
       "    <tr>\n",
       "      <th>LIFESTAGE</th>\n",
       "      <th>PREMIUM_CUSTOMER</th>\n",
       "      <th></th>\n",
       "    </tr>\n",
       "  </thead>\n",
       "  <tbody>\n",
       "    <tr>\n",
       "      <th>YOUNG SINGLES/COUPLES</th>\n",
       "      <th>Mainstream</th>\n",
       "      <td>4.065642</td>\n",
       "    </tr>\n",
       "    <tr>\n",
       "      <th>MIDAGE SINGLES/COUPLES</th>\n",
       "      <th>Mainstream</th>\n",
       "      <td>3.994241</td>\n",
       "    </tr>\n",
       "    <tr>\n",
       "      <th rowspan=\"2\" valign=\"top\">RETIREES</th>\n",
       "      <th>Budget</th>\n",
       "      <td>3.924404</td>\n",
       "    </tr>\n",
       "    <tr>\n",
       "      <th>Premium</th>\n",
       "      <td>3.920942</td>\n",
       "    </tr>\n",
       "    <tr>\n",
       "      <th>NEW FAMILIES</th>\n",
       "      <th>Budget</th>\n",
       "      <td>3.917688</td>\n",
       "    </tr>\n",
       "  </tbody>\n",
       "</table>\n",
       "</div>"
      ],
      "text/plain": [
       "                                         Unit_price\n",
       "LIFESTAGE              PREMIUM_CUSTOMER            \n",
       "YOUNG SINGLES/COUPLES  Mainstream          4.065642\n",
       "MIDAGE SINGLES/COUPLES Mainstream          3.994241\n",
       "RETIREES               Budget              3.924404\n",
       "                       Premium             3.920942\n",
       "NEW FAMILIES           Budget              3.917688"
      ]
     },
     "execution_count": 191,
     "metadata": {},
     "output_type": "execute_result"
    }
   ],
   "source": [
    "unit_cost = pd.DataFrame(merged_dataset[['PREMIUM_CUSTOMER','LIFESTAGE','Unit_price']]\n",
    "                        .groupby(['LIFESTAGE','PREMIUM_CUSTOMER'])['Unit_price'].mean())\n",
    "\n",
    "\n",
    "\n",
    "unit_cost.sort_values('Unit_price', ascending=False).head()"
   ]
  },
  {
   "cell_type": "code",
   "execution_count": 192,
   "id": "1be0479c",
   "metadata": {},
   "outputs": [
    {
     "data": {
      "text/plain": [
       "<matplotlib.legend.Legend at 0x2064f9a9ba0>"
      ]
     },
     "execution_count": 192,
     "metadata": {},
     "output_type": "execute_result"
    },
    {
     "data": {
      "image/png": "[encoded data removed]",
      "text/plain": [
       "<Figure size 720x576 with 1 Axes>"
      ]
     },
     "metadata": {
      "needs_background": "light"
     },
     "output_type": "display_data"
    }
   ],
   "source": [
    "unit_cost = unit_cost.unstack()\n",
    "unit_cost.plot(stacked = False , kind ='bar', figsize = (10,8), title = 'Total Quantity per Customer by Segment', ylim = (0,5) )\n",
    "plt.legend(['Budget', 'Mainstream', 'Premium'])"
   ]
  },
  {
   "cell_type": "markdown",
   "id": "2f99bc0a",
   "metadata": {},
   "source": [
    "Mainstream midage and young singles and couples are more willing to pay more per packet of chips compared to their budget and premium counterparts. This may be due to premium shoppers being more likely to buy healthy snacks and when they do buy chips, it is mainly for entertainment purposes rather than their own consumption. This is also supported by there being fewer premium midage and young singles and couples buying chips compared to their mainstream counterparts."
   ]
  },
  {
   "cell_type": "markdown",
   "id": "82053b30-01c5-428a-beeb-4b8956a48f8b",
   "metadata": {},
   "source": [
    "#### Perform an independent t-test between mainstream vs premium and budget midage and young singles and couples\n",
    "- Group 1 = Mainstream         MIDAGE and Young SINGLES AND COUPLES\n",
    "- Group 2 = Premium and budget MIDAGE and Young Singles and couples"
   ]
  },
  {
   "cell_type": "code",
   "execution_count": 197,
   "id": "b2a9f865",
   "metadata": {},
   "outputs": [
    {
     "data": {
      "text/html": [
       "<div>\n",
       "<style scoped>\n",
       "    .dataframe tbody tr th:only-of-type {\n",
       "        vertical-align: middle;\n",
       "    }\n",
       "\n",
       "    .dataframe tbody tr th {\n",
       "        vertical-align: top;\n",
       "    }\n",
       "\n",
       "    .dataframe thead th {\n",
       "        text-align: right;\n",
       "    }\n",
       "</style>\n",
       "<table border=\"1\" class=\"dataframe\">\n",
       "  <thead>\n",
       "    <tr style=\"text-align: right;\">\n",
       "      <th></th>\n",
       "      <th>DATE</th>\n",
       "      <th>STORE_NBR</th>\n",
       "      <th>LYLTY_CARD_NBR</th>\n",
       "      <th>TXN_ID</th>\n",
       "      <th>PROD_NBR</th>\n",
       "      <th>PROD_NAME</th>\n",
       "      <th>PROD_QTY</th>\n",
       "      <th>TOT_SALES</th>\n",
       "      <th>Date_day</th>\n",
       "      <th>Date_month</th>\n",
       "      <th>Date_year</th>\n",
       "      <th>Unit_price</th>\n",
       "      <th>PROD_SIZE</th>\n",
       "      <th>Brand Names</th>\n",
       "      <th>Flavour</th>\n",
       "      <th>LIFESTAGE</th>\n",
       "      <th>PREMIUM_CUSTOMER</th>\n",
       "    </tr>\n",
       "  </thead>\n",
       "  <tbody>\n",
       "    <tr>\n",
       "      <th>0</th>\n",
       "      <td>2018-10-17</td>\n",
       "      <td>1</td>\n",
       "      <td>1000</td>\n",
       "      <td>1</td>\n",
       "      <td>5</td>\n",
       "      <td>Natural Chip        Compny SeaSalt175g</td>\n",
       "      <td>2</td>\n",
       "      <td>6.0</td>\n",
       "      <td>Wednesday</td>\n",
       "      <td>October</td>\n",
       "      <td>2018</td>\n",
       "      <td>3.0</td>\n",
       "      <td>175</td>\n",
       "      <td>Natural Chip Co</td>\n",
       "      <td>Compny SeaSalt</td>\n",
       "      <td>YOUNG SINGLES/COUPLES</td>\n",
       "      <td>Premium</td>\n",
       "    </tr>\n",
       "    <tr>\n",
       "      <th>1</th>\n",
       "      <td>2018-12-05</td>\n",
       "      <td>5</td>\n",
       "      <td>5050</td>\n",
       "      <td>4667</td>\n",
       "      <td>5</td>\n",
       "      <td>Natural Chip        Compny SeaSalt175g</td>\n",
       "      <td>2</td>\n",
       "      <td>6.0</td>\n",
       "      <td>Wednesday</td>\n",
       "      <td>December</td>\n",
       "      <td>2018</td>\n",
       "      <td>3.0</td>\n",
       "      <td>175</td>\n",
       "      <td>Natural Chip Co</td>\n",
       "      <td>Compny SeaSalt</td>\n",
       "      <td>MIDAGE SINGLES/COUPLES</td>\n",
       "      <td>Budget</td>\n",
       "    </tr>\n",
       "  </tbody>\n",
       "</table>\n",
       "</div>"
      ],
      "text/plain": [
       "        DATE  STORE_NBR  LYLTY_CARD_NBR  TXN_ID  PROD_NBR  \\\n",
       "0 2018-10-17          1            1000       1         5   \n",
       "1 2018-12-05          5            5050    4667         5   \n",
       "\n",
       "                                PROD_NAME  PROD_QTY  TOT_SALES   Date_day  \\\n",
       "0  Natural Chip        Compny SeaSalt175g         2        6.0  Wednesday   \n",
       "1  Natural Chip        Compny SeaSalt175g         2        6.0  Wednesday   \n",
       "\n",
       "  Date_month  Date_year  Unit_price  PROD_SIZE        Brand Names  \\\n",
       "0    October       2018         3.0        175  Natural Chip Co     \n",
       "1   December       2018         3.0        175  Natural Chip Co     \n",
       "\n",
       "          Flavour               LIFESTAGE PREMIUM_CUSTOMER  \n",
       "0  Compny SeaSalt   YOUNG SINGLES/COUPLES          Premium  \n",
       "1  Compny SeaSalt  MIDAGE SINGLES/COUPLES           Budget  "
      ]
     },
     "execution_count": 197,
     "metadata": {},
     "output_type": "execute_result"
    }
   ],
   "source": [
    "#Focus group will be the midage and young singles and couples\n",
    "focus_group = merged_dataset[merged_dataset['LIFESTAGE'].isin(['YOUNG SINGLES/COUPLES', 'MIDAGE SINGLES/COUPLES'])]      #Extract focus groups form the dataset\n",
    "focus_group.head(2)\n"
   ]
  },
  {
   "cell_type": "code",
   "execution_count": 205,
   "id": "f682987c",
   "metadata": {},
   "outputs": [
    {
     "data": {
      "text/plain": [
       "Text(0.5, 0, 'Price per Unit')"
      ]
     },
     "execution_count": 205,
     "metadata": {},
     "output_type": "execute_result"
    },
    {
     "data": {
      "image/png": "[encoded data removed]",
      "text/plain": [
       "<Figure size 720x360 with 1 Axes>"
      ]
     },
     "metadata": {
      "needs_background": "light"
     },
     "output_type": "display_data"
    }
   ],
   "source": [
    "group1 = focus_group[focus_group['PREMIUM_CUSTOMER'] == 'Mainstream']          #Only Mainstream customers \n",
    "group2 = focus_group[focus_group['PREMIUM_CUSTOMER'] != 'Mainstream']\n",
    "\n",
    "# Compare histograms of mainstream and non-mainstream customers\n",
    "\n",
    "plt.figure(figsize = (10, 5))\n",
    "plt.hist(group1['Unit_price'], label = 'Mainstream')\n",
    "plt.hist(group2['Unit_price'], label = 'Premium & Budget')\n",
    "plt.legend()\n",
    "plt.xlabel('Price per Unit')"
   ]
  },
  {
   "cell_type": "code",
   "execution_count": 206,
   "id": "beb4bf06",
   "metadata": {},
   "outputs": [
    {
     "data": {
      "text/plain": [
       "True"
      ]
     },
     "execution_count": 206,
     "metadata": {},
     "output_type": "execute_result"
    }
   ],
   "source": [
    "group1_mean =  group1['Unit_price'].mean()\n",
    "group2_mean =  group2['Unit_price'].mean()\n",
    "group1_mean > group2_mean"
   ]
  },
  {
   "cell_type": "markdown",
   "id": "50da9183",
   "metadata": {},
   "source": [
    "This is quite clear that the mainstream is quite higher. Lets check if the difference is statistically significant\n",
    "NB: the mean unit price of the mainstream is greater than that of Premium and Budget\n"
   ]
  },
  {
   "cell_type": "code",
   "execution_count": 210,
   "id": "60736242",
   "metadata": {},
   "outputs": [
    {
     "data": {
      "text/plain": [
       "Ttest_indResult(statistic=37.83196107667815, pvalue=2.235645611549355e-309)"
      ]
     },
     "execution_count": 210,
     "metadata": {},
     "output_type": "execute_result"
    }
   ],
   "source": [
    "# Perform t-test \n",
    "\n",
    "ttest_ind(group1['Unit_price'], group2['Unit_price'])"
   ]
  },
  {
   "cell_type": "markdown",
   "id": "915657df",
   "metadata": {},
   "source": [
    "pvalue is less than 0.001 so the teh results are highly significant  \n",
    "\n",
    "## Deep dive into specific customer segments for insights\n",
    "We have found quite a few interesting insights that we can dive deeper into.\n",
    "#### Let's look at Mainstream - young singles/couples as a target group "
   ]
  },
  {
   "cell_type": "code",
   "execution_count": 221,
   "id": "cd9423a6",
   "metadata": {},
   "outputs": [
    {
     "data": {
      "text/html": [
       "<div>\n",
       "<style scoped>\n",
       "    .dataframe tbody tr th:only-of-type {\n",
       "        vertical-align: middle;\n",
       "    }\n",
       "\n",
       "    .dataframe tbody tr th {\n",
       "        vertical-align: top;\n",
       "    }\n",
       "\n",
       "    .dataframe thead th {\n",
       "        text-align: right;\n",
       "    }\n",
       "</style>\n",
       "<table border=\"1\" class=\"dataframe\">\n",
       "  <thead>\n",
       "    <tr style=\"text-align: right;\">\n",
       "      <th></th>\n",
       "      <th>DATE</th>\n",
       "      <th>STORE_NBR</th>\n",
       "      <th>LYLTY_CARD_NBR</th>\n",
       "      <th>TXN_ID</th>\n",
       "      <th>PROD_NBR</th>\n",
       "      <th>PROD_NAME</th>\n",
       "      <th>PROD_QTY</th>\n",
       "      <th>TOT_SALES</th>\n",
       "      <th>Date_day</th>\n",
       "      <th>Date_month</th>\n",
       "      <th>Date_year</th>\n",
       "      <th>Unit_price</th>\n",
       "      <th>PROD_SIZE</th>\n",
       "      <th>Brand Names</th>\n",
       "      <th>Flavour</th>\n",
       "      <th>LIFESTAGE</th>\n",
       "      <th>PREMIUM_CUSTOMER</th>\n",
       "    </tr>\n",
       "  </thead>\n",
       "  <tbody>\n",
       "    <tr>\n",
       "      <th>7608</th>\n",
       "      <td>2019-05-19</td>\n",
       "      <td>223</td>\n",
       "      <td>223186</td>\n",
       "      <td>224042</td>\n",
       "      <td>5</td>\n",
       "      <td>Natural Chip        Compny SeaSalt175g</td>\n",
       "      <td>1</td>\n",
       "      <td>3.0</td>\n",
       "      <td>Sunday</td>\n",
       "      <td>May</td>\n",
       "      <td>2019</td>\n",
       "      <td>3.0</td>\n",
       "      <td>175</td>\n",
       "      <td>Natural Chip Co</td>\n",
       "      <td>Compny SeaSalt</td>\n",
       "      <td>YOUNG SINGLES/COUPLES</td>\n",
       "      <td>Mainstream</td>\n",
       "    </tr>\n",
       "    <tr>\n",
       "      <th>7609</th>\n",
       "      <td>2019-06-09</td>\n",
       "      <td>223</td>\n",
       "      <td>223186</td>\n",
       "      <td>224043</td>\n",
       "      <td>71</td>\n",
       "      <td>Twisties Cheese     Burger 250g</td>\n",
       "      <td>2</td>\n",
       "      <td>8.6</td>\n",
       "      <td>Sunday</td>\n",
       "      <td>June</td>\n",
       "      <td>2019</td>\n",
       "      <td>4.3</td>\n",
       "      <td>250</td>\n",
       "      <td>Twisties</td>\n",
       "      <td>Cheese Burger</td>\n",
       "      <td>YOUNG SINGLES/COUPLES</td>\n",
       "      <td>Mainstream</td>\n",
       "    </tr>\n",
       "    <tr>\n",
       "      <th>7610</th>\n",
       "      <td>2018-12-14</td>\n",
       "      <td>223</td>\n",
       "      <td>223186</td>\n",
       "      <td>224040</td>\n",
       "      <td>96</td>\n",
       "      <td>WW Original Stacked Chips 160g</td>\n",
       "      <td>2</td>\n",
       "      <td>3.8</td>\n",
       "      <td>Friday</td>\n",
       "      <td>December</td>\n",
       "      <td>2018</td>\n",
       "      <td>1.9</td>\n",
       "      <td>160</td>\n",
       "      <td>WW</td>\n",
       "      <td>Original Stacked Chips</td>\n",
       "      <td>YOUNG SINGLES/COUPLES</td>\n",
       "      <td>Mainstream</td>\n",
       "    </tr>\n",
       "    <tr>\n",
       "      <th>7611</th>\n",
       "      <td>2018-10-26</td>\n",
       "      <td>223</td>\n",
       "      <td>223186</td>\n",
       "      <td>224039</td>\n",
       "      <td>90</td>\n",
       "      <td>Tostitos Smoked     Chipotle 175g</td>\n",
       "      <td>2</td>\n",
       "      <td>8.8</td>\n",
       "      <td>Friday</td>\n",
       "      <td>October</td>\n",
       "      <td>2018</td>\n",
       "      <td>4.4</td>\n",
       "      <td>175</td>\n",
       "      <td>Tostitos</td>\n",
       "      <td>Smoked Chipotle</td>\n",
       "      <td>YOUNG SINGLES/COUPLES</td>\n",
       "      <td>Mainstream</td>\n",
       "    </tr>\n",
       "    <tr>\n",
       "      <th>7612</th>\n",
       "      <td>2019-05-17</td>\n",
       "      <td>223</td>\n",
       "      <td>223186</td>\n",
       "      <td>224041</td>\n",
       "      <td>11</td>\n",
       "      <td>RRD Pc Sea Salt     165g</td>\n",
       "      <td>2</td>\n",
       "      <td>6.0</td>\n",
       "      <td>Friday</td>\n",
       "      <td>May</td>\n",
       "      <td>2019</td>\n",
       "      <td>3.0</td>\n",
       "      <td>165</td>\n",
       "      <td>Red Rock Deli</td>\n",
       "      <td>Pc Sea Salt</td>\n",
       "      <td>YOUNG SINGLES/COUPLES</td>\n",
       "      <td>Mainstream</td>\n",
       "    </tr>\n",
       "    <tr>\n",
       "      <th>...</th>\n",
       "      <td>...</td>\n",
       "      <td>...</td>\n",
       "      <td>...</td>\n",
       "      <td>...</td>\n",
       "      <td>...</td>\n",
       "      <td>...</td>\n",
       "      <td>...</td>\n",
       "      <td>...</td>\n",
       "      <td>...</td>\n",
       "      <td>...</td>\n",
       "      <td>...</td>\n",
       "      <td>...</td>\n",
       "      <td>...</td>\n",
       "      <td>...</td>\n",
       "      <td>...</td>\n",
       "      <td>...</td>\n",
       "      <td>...</td>\n",
       "    </tr>\n",
       "    <tr>\n",
       "      <th>246727</th>\n",
       "      <td>2019-01-20</td>\n",
       "      <td>124</td>\n",
       "      <td>124011</td>\n",
       "      <td>127744</td>\n",
       "      <td>43</td>\n",
       "      <td>Smith Crinkle Cut   Bolognese 150g</td>\n",
       "      <td>1</td>\n",
       "      <td>2.6</td>\n",
       "      <td>Sunday</td>\n",
       "      <td>January</td>\n",
       "      <td>2019</td>\n",
       "      <td>2.6</td>\n",
       "      <td>150</td>\n",
       "      <td>Smiths</td>\n",
       "      <td>Crinkle Cut   Bolognese</td>\n",
       "      <td>YOUNG SINGLES/COUPLES</td>\n",
       "      <td>Mainstream</td>\n",
       "    </tr>\n",
       "    <tr>\n",
       "      <th>246728</th>\n",
       "      <td>2019-03-16</td>\n",
       "      <td>146</td>\n",
       "      <td>146408</td>\n",
       "      <td>145731</td>\n",
       "      <td>43</td>\n",
       "      <td>Smith Crinkle Cut   Bolognese 150g</td>\n",
       "      <td>1</td>\n",
       "      <td>2.6</td>\n",
       "      <td>Saturday</td>\n",
       "      <td>March</td>\n",
       "      <td>2019</td>\n",
       "      <td>2.6</td>\n",
       "      <td>150</td>\n",
       "      <td>Smiths</td>\n",
       "      <td>Crinkle Cut   Bolognese</td>\n",
       "      <td>YOUNG SINGLES/COUPLES</td>\n",
       "      <td>Mainstream</td>\n",
       "    </tr>\n",
       "    <tr>\n",
       "      <th>246729</th>\n",
       "      <td>2018-08-28</td>\n",
       "      <td>169</td>\n",
       "      <td>169471</td>\n",
       "      <td>171627</td>\n",
       "      <td>43</td>\n",
       "      <td>Smith Crinkle Cut   Bolognese 150g</td>\n",
       "      <td>2</td>\n",
       "      <td>5.2</td>\n",
       "      <td>Tuesday</td>\n",
       "      <td>August</td>\n",
       "      <td>2018</td>\n",
       "      <td>2.6</td>\n",
       "      <td>150</td>\n",
       "      <td>Smiths</td>\n",
       "      <td>Crinkle Cut   Bolognese</td>\n",
       "      <td>YOUNG SINGLES/COUPLES</td>\n",
       "      <td>Mainstream</td>\n",
       "    </tr>\n",
       "    <tr>\n",
       "      <th>246730</th>\n",
       "      <td>2018-12-21</td>\n",
       "      <td>188</td>\n",
       "      <td>188150</td>\n",
       "      <td>189478</td>\n",
       "      <td>43</td>\n",
       "      <td>Smith Crinkle Cut   Bolognese 150g</td>\n",
       "      <td>2</td>\n",
       "      <td>5.2</td>\n",
       "      <td>Friday</td>\n",
       "      <td>December</td>\n",
       "      <td>2018</td>\n",
       "      <td>2.6</td>\n",
       "      <td>150</td>\n",
       "      <td>Smiths</td>\n",
       "      <td>Crinkle Cut   Bolognese</td>\n",
       "      <td>YOUNG SINGLES/COUPLES</td>\n",
       "      <td>Mainstream</td>\n",
       "    </tr>\n",
       "    <tr>\n",
       "      <th>246731</th>\n",
       "      <td>2018-08-06</td>\n",
       "      <td>197</td>\n",
       "      <td>197124</td>\n",
       "      <td>197052</td>\n",
       "      <td>43</td>\n",
       "      <td>Smith Crinkle Cut   Bolognese 150g</td>\n",
       "      <td>1</td>\n",
       "      <td>2.6</td>\n",
       "      <td>Monday</td>\n",
       "      <td>August</td>\n",
       "      <td>2018</td>\n",
       "      <td>2.6</td>\n",
       "      <td>150</td>\n",
       "      <td>Smiths</td>\n",
       "      <td>Crinkle Cut   Bolognese</td>\n",
       "      <td>YOUNG SINGLES/COUPLES</td>\n",
       "      <td>Mainstream</td>\n",
       "    </tr>\n",
       "  </tbody>\n",
       "</table>\n",
       "<p>19544 rows × 17 columns</p>\n",
       "</div>"
      ],
      "text/plain": [
       "             DATE  STORE_NBR  LYLTY_CARD_NBR  TXN_ID  PROD_NBR  \\\n",
       "7608   2019-05-19        223          223186  224042         5   \n",
       "7609   2019-06-09        223          223186  224043        71   \n",
       "7610   2018-12-14        223          223186  224040        96   \n",
       "7611   2018-10-26        223          223186  224039        90   \n",
       "7612   2019-05-17        223          223186  224041        11   \n",
       "...           ...        ...             ...     ...       ...   \n",
       "246727 2019-01-20        124          124011  127744        43   \n",
       "246728 2019-03-16        146          146408  145731        43   \n",
       "246729 2018-08-28        169          169471  171627        43   \n",
       "246730 2018-12-21        188          188150  189478        43   \n",
       "246731 2018-08-06        197          197124  197052        43   \n",
       "\n",
       "                                     PROD_NAME  PROD_QTY  TOT_SALES  Date_day  \\\n",
       "7608    Natural Chip        Compny SeaSalt175g         1        3.0    Sunday   \n",
       "7609           Twisties Cheese     Burger 250g         2        8.6    Sunday   \n",
       "7610            WW Original Stacked Chips 160g         2        3.8    Friday   \n",
       "7611         Tostitos Smoked     Chipotle 175g         2        8.8    Friday   \n",
       "7612                  RRD Pc Sea Salt     165g         2        6.0    Friday   \n",
       "...                                        ...       ...        ...       ...   \n",
       "246727      Smith Crinkle Cut   Bolognese 150g         1        2.6    Sunday   \n",
       "246728      Smith Crinkle Cut   Bolognese 150g         1        2.6  Saturday   \n",
       "246729      Smith Crinkle Cut   Bolognese 150g         2        5.2   Tuesday   \n",
       "246730      Smith Crinkle Cut   Bolognese 150g         2        5.2    Friday   \n",
       "246731      Smith Crinkle Cut   Bolognese 150g         1        2.6    Monday   \n",
       "\n",
       "       Date_month  Date_year  Unit_price  PROD_SIZE        Brand Names  \\\n",
       "7608          May       2019         3.0        175  Natural Chip Co     \n",
       "7609         June       2019         4.3        250           Twisties   \n",
       "7610     December       2018         1.9        160                 WW   \n",
       "7611      October       2018         4.4        175           Tostitos   \n",
       "7612          May       2019         3.0        165      Red Rock Deli   \n",
       "...           ...        ...         ...        ...                ...   \n",
       "246727    January       2019         2.6        150             Smiths   \n",
       "246728      March       2019         2.6        150             Smiths   \n",
       "246729     August       2018         2.6        150             Smiths   \n",
       "246730   December       2018         2.6        150             Smiths   \n",
       "246731     August       2018         2.6        150             Smiths   \n",
       "\n",
       "                         Flavour              LIFESTAGE PREMIUM_CUSTOMER  \n",
       "7608              Compny SeaSalt  YOUNG SINGLES/COUPLES       Mainstream  \n",
       "7609               Cheese Burger  YOUNG SINGLES/COUPLES       Mainstream  \n",
       "7610     Original Stacked Chips   YOUNG SINGLES/COUPLES       Mainstream  \n",
       "7611             Smoked Chipotle  YOUNG SINGLES/COUPLES       Mainstream  \n",
       "7612              Pc Sea Salt     YOUNG SINGLES/COUPLES       Mainstream  \n",
       "...                          ...                    ...              ...  \n",
       "246727  Crinkle Cut   Bolognese   YOUNG SINGLES/COUPLES       Mainstream  \n",
       "246728  Crinkle Cut   Bolognese   YOUNG SINGLES/COUPLES       Mainstream  \n",
       "246729  Crinkle Cut   Bolognese   YOUNG SINGLES/COUPLES       Mainstream  \n",
       "246730  Crinkle Cut   Bolognese   YOUNG SINGLES/COUPLES       Mainstream  \n",
       "246731  Crinkle Cut   Bolognese   YOUNG SINGLES/COUPLES       Mainstream  \n",
       "\n",
       "[19544 rows x 17 columns]"
      ]
     },
     "execution_count": 221,
     "metadata": {},
     "output_type": "execute_result"
    }
   ],
   "source": [
    "targetGRP    = merged_dataset[(merged_dataset['LIFESTAGE'] == 'YOUNG SINGLES/COUPLES')  & (merged_dataset['PREMIUM_CUSTOMER'] == 'Mainstream')]\n",
    "nonTargetGRP = merged_dataset[(merged_dataset['LIFESTAGE'] != 'YOUNG SINGLES/COUPLES')  & (merged_dataset['PREMIUM_CUSTOMER'] != 'Mainstream')]\n",
    "targetGRP \n",
    "\n"
   ]
  },
  {
   "cell_type": "markdown",
   "id": "eeae3cc5",
   "metadata": {},
   "source": [
    "### MAINSTREAM YOUNG SINGLES/COUPLES AFFINITY TO BRAND "
   ]
  },
  {
   "cell_type": "code",
   "execution_count": 238,
   "id": "1f30afb2",
   "metadata": {},
   "outputs": [
    {
     "data": {
      "text/html": [
       "<div>\n",
       "<style scoped>\n",
       "    .dataframe tbody tr th:only-of-type {\n",
       "        vertical-align: middle;\n",
       "    }\n",
       "\n",
       "    .dataframe tbody tr th {\n",
       "        vertical-align: top;\n",
       "    }\n",
       "\n",
       "    .dataframe thead th {\n",
       "        text-align: right;\n",
       "    }\n",
       "</style>\n",
       "<table border=\"1\" class=\"dataframe\">\n",
       "  <thead>\n",
       "    <tr style=\"text-align: right;\">\n",
       "      <th></th>\n",
       "      <th>Target Brand Affinity</th>\n",
       "      <th>NON Target Brand Affinity</th>\n",
       "    </tr>\n",
       "    <tr>\n",
       "      <th>Brand Names</th>\n",
       "      <th></th>\n",
       "      <th></th>\n",
       "    </tr>\n",
       "  </thead>\n",
       "  <tbody>\n",
       "    <tr>\n",
       "      <th>Burger</th>\n",
       "      <td>0.002926</td>\n",
       "      <td>0.006538</td>\n",
       "    </tr>\n",
       "    <tr>\n",
       "      <th>CCs</th>\n",
       "      <td>0.011180</td>\n",
       "      <td>0.018445</td>\n",
       "    </tr>\n",
       "    <tr>\n",
       "      <th>Cheetos</th>\n",
       "      <td>0.008033</td>\n",
       "      <td>0.011759</td>\n",
       "    </tr>\n",
       "    <tr>\n",
       "      <th>Cheezels</th>\n",
       "      <td>0.017971</td>\n",
       "      <td>0.018904</td>\n",
       "    </tr>\n",
       "    <tr>\n",
       "      <th>Cobs Popd</th>\n",
       "      <td>0.044638</td>\n",
       "      <td>0.038449</td>\n",
       "    </tr>\n",
       "  </tbody>\n",
       "</table>\n",
       "</div>"
      ],
      "text/plain": [
       "             Target Brand Affinity  NON Target Brand Affinity\n",
       "Brand Names                                                  \n",
       "Burger                    0.002926                   0.006538\n",
       "CCs                       0.011180                   0.018445\n",
       "Cheetos                   0.008033                   0.011759\n",
       "Cheezels                  0.017971                   0.018904\n",
       "Cobs Popd                 0.044638                   0.038449"
      ]
     },
     "execution_count": 238,
     "metadata": {},
     "output_type": "execute_result"
    }
   ],
   "source": [
    "#For target brand\n",
    "targetBrandTotQty  = targetGRP['PROD_QTY'].sum()\n",
    "targetBrand        = pd.DataFrame(targetGRP.groupby('Brand Names')['PROD_QTY'].sum()/targetBrandTotQty).rename(columns={'PROD_QTY': 'Target Brand Affinity'})\n",
    "targetBrand\n",
    "\n",
    "#For target brand\n",
    "NOTtargetBrandTotQty  = nonTargetGRP['PROD_QTY'].sum()\n",
    "NOTtargetBrand        = pd.DataFrame(nonTargetGRP.groupby('Brand Names')['PROD_QTY'].sum()/NOTtargetBrandTotQty).rename(columns={'PROD_QTY': 'NON Target Brand Affinity'})\n",
    "\n",
    "# Merge the two dataframes together\n",
    "\n",
    "brand_proportions = pd.merge(targetBrand,NOTtargetBrand , left_index = True, right_index = True)\n",
    "brand_proportions.head()"
   ]
  },
  {
   "cell_type": "code",
   "execution_count": 241,
   "id": "1c070bed",
   "metadata": {},
   "outputs": [
    {
     "data": {
      "text/html": [
       "<div>\n",
       "<style scoped>\n",
       "    .dataframe tbody tr th:only-of-type {\n",
       "        vertical-align: middle;\n",
       "    }\n",
       "\n",
       "    .dataframe tbody tr th {\n",
       "        vertical-align: top;\n",
       "    }\n",
       "\n",
       "    .dataframe thead th {\n",
       "        text-align: right;\n",
       "    }\n",
       "</style>\n",
       "<table border=\"1\" class=\"dataframe\">\n",
       "  <thead>\n",
       "    <tr style=\"text-align: right;\">\n",
       "      <th></th>\n",
       "      <th>Target Brand Affinity</th>\n",
       "      <th>NON Target Brand Affinity</th>\n",
       "      <th>Affinity to Target Brand</th>\n",
       "    </tr>\n",
       "    <tr>\n",
       "      <th>Brand Names</th>\n",
       "      <th></th>\n",
       "      <th></th>\n",
       "      <th></th>\n",
       "    </tr>\n",
       "  </thead>\n",
       "  <tbody>\n",
       "    <tr>\n",
       "      <th>Tyrrells Crisps</th>\n",
       "      <td>0.031553</td>\n",
       "      <td>0.025715</td>\n",
       "      <td>1.227016</td>\n",
       "    </tr>\n",
       "    <tr>\n",
       "      <th>Twisties</th>\n",
       "      <td>0.046184</td>\n",
       "      <td>0.037933</td>\n",
       "      <td>1.217496</td>\n",
       "    </tr>\n",
       "    <tr>\n",
       "      <th>Doritos</th>\n",
       "      <td>0.122761</td>\n",
       "      <td>0.101172</td>\n",
       "      <td>1.213388</td>\n",
       "    </tr>\n",
       "    <tr>\n",
       "      <th>Kettle</th>\n",
       "      <td>0.197985</td>\n",
       "      <td>0.166562</td>\n",
       "      <td>1.188658</td>\n",
       "    </tr>\n",
       "    <tr>\n",
       "      <th>Tostitos</th>\n",
       "      <td>0.045411</td>\n",
       "      <td>0.038351</td>\n",
       "      <td>1.184091</td>\n",
       "    </tr>\n",
       "  </tbody>\n",
       "</table>\n",
       "</div>"
      ],
      "text/plain": [
       "                 Target Brand Affinity  NON Target Brand Affinity  \\\n",
       "Brand Names                                                         \n",
       "Tyrrells Crisps               0.031553                   0.025715   \n",
       "Twisties                      0.046184                   0.037933   \n",
       "Doritos                       0.122761                   0.101172   \n",
       "Kettle                        0.197985                   0.166562   \n",
       "Tostitos                      0.045411                   0.038351   \n",
       "\n",
       "                 Affinity to Target Brand  \n",
       "Brand Names                                \n",
       "Tyrrells Crisps                  1.227016  \n",
       "Twisties                         1.217496  \n",
       "Doritos                          1.213388  \n",
       "Kettle                           1.188658  \n",
       "Tostitos                         1.184091  "
      ]
     },
     "execution_count": 241,
     "metadata": {},
     "output_type": "execute_result"
    }
   ],
   "source": [
    "brand_proportions['Affinity to Target Brand'] = brand_proportions['Target Brand Affinity'] / brand_proportions['NON Target Brand Affinity']\n",
    "brand_proportions.sort_values(by = 'Affinity to Target Brand', ascending = False).head()"
   ]
  },
  {
   "cell_type": "markdown",
   "id": "d029b1f2",
   "metadata": {},
   "source": [
    "Mainstream young singles/couples are more likely to purchase Tyrrells chips compared to other brands.\n",
    "\n",
    "\n",
    "\n",
    "### MAINSTREAM YOUNG SINGLES/COUPLES AFFINITY TO PACKSIZE"
   ]
  },
  {
   "cell_type": "code",
   "execution_count": 243,
   "id": "e040886a",
   "metadata": {},
   "outputs": [
    {
     "data": {
      "text/html": [
       "<div>\n",
       "<style scoped>\n",
       "    .dataframe tbody tr th:only-of-type {\n",
       "        vertical-align: middle;\n",
       "    }\n",
       "\n",
       "    .dataframe tbody tr th {\n",
       "        vertical-align: top;\n",
       "    }\n",
       "\n",
       "    .dataframe thead th {\n",
       "        text-align: right;\n",
       "    }\n",
       "</style>\n",
       "<table border=\"1\" class=\"dataframe\">\n",
       "  <thead>\n",
       "    <tr style=\"text-align: right;\">\n",
       "      <th></th>\n",
       "      <th>Target PACKSIZE Affinity</th>\n",
       "      <th>NON Target PACKSIZE Affinity</th>\n",
       "    </tr>\n",
       "    <tr>\n",
       "      <th>PROD_SIZE</th>\n",
       "      <th></th>\n",
       "      <th></th>\n",
       "    </tr>\n",
       "  </thead>\n",
       "  <tbody>\n",
       "    <tr>\n",
       "      <th>70</th>\n",
       "      <td>0.003037</td>\n",
       "      <td>0.006284</td>\n",
       "    </tr>\n",
       "    <tr>\n",
       "      <th>90</th>\n",
       "      <td>0.006349</td>\n",
       "      <td>0.012613</td>\n",
       "    </tr>\n",
       "    <tr>\n",
       "      <th>110</th>\n",
       "      <td>0.106280</td>\n",
       "      <td>0.089576</td>\n",
       "    </tr>\n",
       "    <tr>\n",
       "      <th>125</th>\n",
       "      <td>0.003009</td>\n",
       "      <td>0.005976</td>\n",
       "    </tr>\n",
       "    <tr>\n",
       "      <th>134</th>\n",
       "      <td>0.119420</td>\n",
       "      <td>0.101111</td>\n",
       "    </tr>\n",
       "  </tbody>\n",
       "</table>\n",
       "</div>"
      ],
      "text/plain": [
       "           Target PACKSIZE Affinity  NON Target PACKSIZE Affinity\n",
       "PROD_SIZE                                                        \n",
       "70                         0.003037                      0.006284\n",
       "90                         0.006349                      0.012613\n",
       "110                        0.106280                      0.089576\n",
       "125                        0.003009                      0.005976\n",
       "134                        0.119420                      0.101111"
      ]
     },
     "execution_count": 243,
     "metadata": {},
     "output_type": "execute_result"
    }
   ],
   "source": [
    "#For target PACKSIZE\n",
    "targetPACKSIZETotQty  = targetGRP['PROD_QTY'].sum()\n",
    "targetPACKSIZE        = pd.DataFrame(targetGRP.groupby('PROD_SIZE')['PROD_QTY'].sum()/targetPACKSIZETotQty).rename(columns={'PROD_QTY': 'Target PACKSIZE Affinity'})\n",
    "targetPACKSIZE\n",
    "\n",
    "#For target PACKSIZE\n",
    "NOTtargetPACKSIZETotQty  = nonTargetGRP['PROD_QTY'].sum()\n",
    "NOTtargetPACKSIZE        = pd.DataFrame(nonTargetGRP.groupby('PROD_SIZE')['PROD_QTY'].sum()/NOTtargetPACKSIZETotQty).rename(columns={'PROD_QTY': 'NON Target PACKSIZE Affinity'})\n",
    "\n",
    "# Merge the two dataframes together\n",
    "\n",
    "PACKSIZE_proportions = pd.merge(targetPACKSIZE,NOTtargetPACKSIZE , left_index = True, right_index = True)\n",
    "PACKSIZE_proportions.head()"
   ]
  },
  {
   "cell_type": "code",
   "execution_count": 244,
   "id": "9c1acc80",
   "metadata": {},
   "outputs": [
    {
     "data": {
      "text/html": [
       "<div>\n",
       "<style scoped>\n",
       "    .dataframe tbody tr th:only-of-type {\n",
       "        vertical-align: middle;\n",
       "    }\n",
       "\n",
       "    .dataframe tbody tr th {\n",
       "        vertical-align: top;\n",
       "    }\n",
       "\n",
       "    .dataframe thead th {\n",
       "        text-align: right;\n",
       "    }\n",
       "</style>\n",
       "<table border=\"1\" class=\"dataframe\">\n",
       "  <thead>\n",
       "    <tr style=\"text-align: right;\">\n",
       "      <th></th>\n",
       "      <th>Target PACKSIZE Affinity</th>\n",
       "      <th>NON Target PACKSIZE Affinity</th>\n",
       "      <th>Affinity to Target SIZE</th>\n",
       "    </tr>\n",
       "    <tr>\n",
       "      <th>PROD_SIZE</th>\n",
       "      <th></th>\n",
       "      <th></th>\n",
       "      <th></th>\n",
       "    </tr>\n",
       "  </thead>\n",
       "  <tbody>\n",
       "    <tr>\n",
       "      <th>270</th>\n",
       "      <td>0.031829</td>\n",
       "      <td>0.025070</td>\n",
       "      <td>1.269599</td>\n",
       "    </tr>\n",
       "    <tr>\n",
       "      <th>380</th>\n",
       "      <td>0.032160</td>\n",
       "      <td>0.025711</td>\n",
       "      <td>1.250818</td>\n",
       "    </tr>\n",
       "    <tr>\n",
       "      <th>330</th>\n",
       "      <td>0.061284</td>\n",
       "      <td>0.050975</td>\n",
       "      <td>1.202234</td>\n",
       "    </tr>\n",
       "    <tr>\n",
       "      <th>110</th>\n",
       "      <td>0.106280</td>\n",
       "      <td>0.089576</td>\n",
       "      <td>1.186483</td>\n",
       "    </tr>\n",
       "    <tr>\n",
       "      <th>134</th>\n",
       "      <td>0.119420</td>\n",
       "      <td>0.101111</td>\n",
       "      <td>1.181081</td>\n",
       "    </tr>\n",
       "  </tbody>\n",
       "</table>\n",
       "</div>"
      ],
      "text/plain": [
       "           Target PACKSIZE Affinity  NON Target PACKSIZE Affinity  \\\n",
       "PROD_SIZE                                                           \n",
       "270                        0.031829                      0.025070   \n",
       "380                        0.032160                      0.025711   \n",
       "330                        0.061284                      0.050975   \n",
       "110                        0.106280                      0.089576   \n",
       "134                        0.119420                      0.101111   \n",
       "\n",
       "           Affinity to Target SIZE  \n",
       "PROD_SIZE                           \n",
       "270                       1.269599  \n",
       "380                       1.250818  \n",
       "330                       1.202234  \n",
       "110                       1.186483  \n",
       "134                       1.181081  "
      ]
     },
     "execution_count": 244,
     "metadata": {},
     "output_type": "execute_result"
    }
   ],
   "source": [
    "PACKSIZE_proportions['Affinity to Target SIZE'] = PACKSIZE_proportions['Target PACKSIZE Affinity'] / PACKSIZE_proportions['NON Target PACKSIZE Affinity']\n",
    "PACKSIZE_proportions.sort_values(by = 'Affinity to Target SIZE', ascending = False).head()"
   ]
  },
  {
   "cell_type": "markdown",
   "id": "6373f362",
   "metadata": {},
   "source": [
    "It looks like mainstream singles/couples are more likely to purchase a 270g pack size compared to other pack sizes."
   ]
  },
  {
   "cell_type": "markdown",
   "id": "32340e94-ee07-4287-ad50-585239b07357",
   "metadata": {},
   "source": [
    "Insights\n",
    "\n",
    "GENERAL\n",
    "- Chips weighing from 110g to 175 are the most purchased chips weights categories \n",
    "- Most purchased chips where within the ranges of 3-5 dollars for a unit price for a unit price\n",
    "\n",
    "GENERAL SEGMENTS\n",
    "- Sales are coming mainly from Budget-OLDER FAMILY, Mainstream-YOUNG SINGLES/COUPLES and Mainstream-RETIREES\n",
    "- OLDER and YOUNG FAMILY in general buy more chips per customer\n",
    "- Mainstream MIDAGE and YOUNG SINGLES/COUPLES are more willing to pay more per packet of chips compared to their budget and premium counterparts.\n",
    "\n",
    "SPECIFIC SEGMENTS(MAINSTREAM, YOUNG SINGLES/COUPLES)\n",
    "- They are also more likely to purchase 'Tyrrells' and '270g' pack sizes than the rest of the population\n"
   ]
  },
  {
   "cell_type": "markdown",
   "id": "c3873b4f",
   "metadata": {},
   "source": []
  }
 ],
 "metadata": {
  "kernelspec": {
   "display_name": "Python 3 (ipykernel)",
   "language": "python",
   "name": "python3"
  },
  "language_info": {
   "codemirror_mode": {
    "name": "ipython",
    "version": 3
   },
   "file_extension": ".py",
   "mimetype": "text/x-python",
   "name": "python",
   "nbconvert_exporter": "python",
   "pygments_lexer": "ipython3",
   "version": "3.9.7"
  }
 },
 "nbformat": 4,
 "nbformat_minor": 5
}
