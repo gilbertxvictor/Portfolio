{
 "cells": [
  {
   "cell_type": "markdown",
   "metadata": {},
   "source": [
    "## EXPLORATORY DATA ANALYSIS OF DATASETS\n",
    "PS - SHEETS FROM SEVERAL REGIONS HAVE BEEN ALEARDY MERGED INTO ONE USING EXCEL POWERQUERY "
   ]
  },
  {
   "cell_type": "markdown",
   "metadata": {},
   "source": [
    "### IMPORT RELEVANT LIBRARIES AND FILES \n"
   ]
  },
  {
   "cell_type": "code",
   "execution_count": 76,
   "metadata": {},
   "outputs": [],
   "source": [
    "# DATA ANALYSIS AND WRANGLING \n",
    "import numpy  as np\n",
    "import pandas as pd\n",
    "\n",
    "# DATA SUMMARIZATION \n",
    "from skimpy   import skim\n",
    "\n",
    "#VISUALIZATION \n",
    "import matplotlib.pyplot as plt\n",
    "import seaborn           as sns \n",
    "\n",
    "import warnings\n",
    "warnings.filterwarnings('ignore')"
   ]
  },
  {
   "cell_type": "code",
   "execution_count": 77,
   "metadata": {},
   "outputs": [],
   "source": [
    "#IMPORT FILE\n",
    "data      = pd.read_excel('data123.xlsx', sheet_name = 6)\n",
    "returned  = pd.read_excel('data123.xlsx', sheet_name = 5)\n",
    "people    = pd.read_excel('data123.xlsx', sheet_name = 4)\n"
   ]
  },
  {
   "cell_type": "code",
   "execution_count": 79,
   "metadata": {},
   "outputs": [
    {
     "data": {
      "text/plain": [
       "False    19988\n",
       "dtype: int64"
      ]
     },
     "execution_count": 79,
     "metadata": {},
     "output_type": "execute_result"
    }
   ],
   "source": [
    "data.duplicated().value_counts()"
   ]
  },
  {
   "cell_type": "markdown",
   "metadata": {},
   "source": [
    "### UNDERSTANDING DATA COMPOSITION(COLUMNS) AND FINDING MISSING VALUES "
   ]
  },
  {
   "cell_type": "code",
   "execution_count": 3,
   "metadata": {},
   "outputs": [
    {
     "name": "stdout",
     "output_type": "stream",
     "text": [
      "Index(['Row ID', 'Order ID', 'Order Date', 'Ship Date', 'Ship Mode',\n",
      "       'Customer ID', 'Customer Name', 'Segment', 'Country', 'City', 'State',\n",
      "       'Postal Code', 'Region', 'Product ID', 'Category', 'Sub-Category',\n",
      "       'Product Name', 'Sales', 'Quantity', 'Discount', 'Profit'],\n",
      "      dtype='object')\n"
     ]
    }
   ],
   "source": [
    "#colname and Dtype chcks \n",
    "print(data.columns)"
   ]
  },
  {
   "cell_type": "code",
   "execution_count": 4,
   "metadata": {},
   "outputs": [],
   "source": [
    "# Drop Rows that will not be necessary in our analysis\n",
    "data.drop(columns= ['Row ID','Postal Code','Country', 'Customer Name' ], inplace = True)"
   ]
  },
  {
   "cell_type": "code",
   "execution_count": 5,
   "metadata": {},
   "outputs": [
    {
     "name": "stdout",
     "output_type": "stream",
     "text": [
      "<class 'pandas.core.frame.DataFrame'>\n",
      "RangeIndex: 19988 entries, 0 to 19987\n",
      "Data columns (total 17 columns):\n",
      " #   Column        Non-Null Count  Dtype         \n",
      "---  ------        --------------  -----         \n",
      " 0   Order ID      19988 non-null  object        \n",
      " 1   Order Date    19988 non-null  datetime64[ns]\n",
      " 2   Ship Date     19988 non-null  datetime64[ns]\n",
      " 3   Ship Mode     19988 non-null  object        \n",
      " 4   Customer ID   19988 non-null  object        \n",
      " 5   Segment       19988 non-null  object        \n",
      " 6   City          19988 non-null  object        \n",
      " 7   State         19988 non-null  object        \n",
      " 8   Region        19988 non-null  object        \n",
      " 9   Product ID    19988 non-null  object        \n",
      " 10  Category      19988 non-null  object        \n",
      " 11  Sub-Category  19988 non-null  object        \n",
      " 12  Product Name  19988 non-null  object        \n",
      " 13  Sales         19988 non-null  float64       \n",
      " 14  Quantity      19988 non-null  int64         \n",
      " 15  Discount      19988 non-null  float64       \n",
      " 16  Profit        19988 non-null  float64       \n",
      "dtypes: datetime64[ns](2), float64(3), int64(1), object(11)\n",
      "memory usage: 2.6+ MB\n"
     ]
    }
   ],
   "source": [
    "data.info()"
   ]
  },
  {
   "cell_type": "code",
   "execution_count": 6,
   "metadata": {},
   "outputs": [
    {
     "name": "stdout",
     "output_type": "stream",
     "text": [
      "Order ID\n",
      "Ship Mode\n",
      "Customer ID\n",
      "Segment\n",
      "City\n",
      "State\n",
      "Region\n",
      "Product ID\n",
      "Category\n",
      "Sub-Category\n",
      "Product Name\n",
      "<class 'pandas.core.frame.DataFrame'>\n",
      "RangeIndex: 19988 entries, 0 to 19987\n",
      "Data columns (total 17 columns):\n",
      " #   Column        Non-Null Count  Dtype         \n",
      "---  ------        --------------  -----         \n",
      " 0   Order ID      19988 non-null  category      \n",
      " 1   Order Date    19988 non-null  datetime64[ns]\n",
      " 2   Ship Date     19988 non-null  datetime64[ns]\n",
      " 3   Ship Mode     19988 non-null  category      \n",
      " 4   Customer ID   19988 non-null  category      \n",
      " 5   Segment       19988 non-null  category      \n",
      " 6   City          19988 non-null  category      \n",
      " 7   State         19988 non-null  category      \n",
      " 8   Region        19988 non-null  category      \n",
      " 9   Product ID    19988 non-null  category      \n",
      " 10  Category      19988 non-null  category      \n",
      " 11  Sub-Category  19988 non-null  category      \n",
      " 12  Product Name  19988 non-null  category      \n",
      " 13  Sales         19988 non-null  float64       \n",
      " 14  Quantity      19988 non-null  int64         \n",
      " 15  Discount      19988 non-null  float64       \n",
      " 16  Profit        19988 non-null  float64       \n",
      "dtypes: category(11), datetime64[ns](2), float64(3), int64(1)\n",
      "memory usage: 1.8 MB\n"
     ]
    }
   ],
   "source": [
    "#CONVERT OBJECT TYPES TO CATEGORY \n",
    "\n",
    "for column in data:\n",
    "    if data[column].dtype == 'O':\n",
    "        data[column] = data[column].astype(\"category\")\n",
    "\n",
    "data.info()"
   ]
  },
  {
   "cell_type": "code",
   "execution_count": 7,
   "metadata": {},
   "outputs": [
    {
     "data": {
      "text/html": [
       "<pre style=\"white-space:pre;overflow-x:auto;line-height:normal;font-family:Menlo,'DejaVu Sans Mono',consolas,'Courier New',monospace\">╭───────────────────────────────────── skimpy summary ──────────────────────────────────────╮\n",
       "│ <span style=\"font-style: italic\">         Data Summary         </span> <span style=\"font-style: italic\">      Data Types       </span> <span style=\"font-style: italic\">       Categories        </span>          │\n",
       "│ ┏━━━━━━━━━━━━━━━━━━━┳━━━━━━━━┓ ┏━━━━━━━━━━━━━┳━━━━━━━┓ ┏━━━━━━━━━━━━━━━━━━━━━━━┓          │\n",
       "│ ┃<span style=\"color: #008080; text-decoration-color: #008080; font-weight: bold\"> dataframe         </span>┃<span style=\"color: #008080; text-decoration-color: #008080; font-weight: bold\"> Values </span>┃ ┃<span style=\"color: #008080; text-decoration-color: #008080; font-weight: bold\"> Column Type </span>┃<span style=\"color: #008080; text-decoration-color: #008080; font-weight: bold\"> Count </span>┃ ┃<span style=\"color: #008080; text-decoration-color: #008080; font-weight: bold\"> Categorical Variables </span>┃          │\n",
       "│ ┡━━━━━━━━━━━━━━━━━━━╇━━━━━━━━┩ ┡━━━━━━━━━━━━━╇━━━━━━━┩ ┡━━━━━━━━━━━━━━━━━━━━━━━┩          │\n",
       "│ │ Number of rows    │ 19988  │ │ category    │ 11    │ │ Order ID              │          │\n",
       "│ │ Number of columns │ 17     │ │ float64     │ 3     │ │ Ship Mode             │          │\n",
       "│ └───────────────────┴────────┘ │ datetime64  │ 2     │ │ Customer ID           │          │\n",
       "│                                │ int64       │ 1     │ │ Segment               │          │\n",
       "│                                └─────────────┴───────┘ │ City                  │          │\n",
       "│                                                        │ State                 │          │\n",
       "│                                                        │ Region                │          │\n",
       "│                                                        │ Product ID            │          │\n",
       "│                                                        │ Category              │          │\n",
       "│                                                        │ Sub-Category          │          │\n",
       "│                                                        │ Product Name          │          │\n",
       "│                                                        └───────────────────────┘          │\n",
       "│ <span style=\"font-style: italic\">                                         number                                         </span>  │\n",
       "│ ┏━━━━━━━━━━┳━━━━━━━━━┳━━━━━━━━━━━━━━┳━━━━━━┳━━━━━━┳━━━━━━━┳━━━━━┳━━━━━┳━━━━━━━┳━━━━━━━━┓  │\n",
       "│ ┃<span style=\"font-weight: bold\">          </span>┃<span style=\"font-weight: bold\"> missing </span>┃<span style=\"font-weight: bold\"> complete     </span>┃<span style=\"font-weight: bold\"> mean </span>┃<span style=\"font-weight: bold\"> sd   </span>┃<span style=\"font-weight: bold\"> p0    </span>┃<span style=\"font-weight: bold\"> p25 </span>┃<span style=\"font-weight: bold\"> p75 </span>┃<span style=\"font-weight: bold\"> p100  </span>┃<span style=\"font-weight: bold\"> hist   </span>┃  │\n",
       "│ ┃          ┃         ┃<span style=\"font-weight: bold\"> rate         </span>┃      ┃      ┃       ┃     ┃     ┃       ┃        ┃  │\n",
       "│ ┡━━━━━━━━━━╇━━━━━━━━━╇━━━━━━━━━━━━━━╇━━━━━━╇━━━━━━╇━━━━━━━╇━━━━━╇━━━━━╇━━━━━━━╇━━━━━━━━┩  │\n",
       "│ │ <span style=\"color: #af87ff; text-decoration-color: #af87ff\">Sales   </span> │ <span style=\"color: #008080; text-decoration-color: #008080\">      0</span> │ <span style=\"color: #008080; text-decoration-color: #008080\">           1</span> │ <span style=\"color: #008080; text-decoration-color: #008080\"> 230</span> │ <span style=\"color: #008080; text-decoration-color: #008080\"> 620</span> │ <span style=\"color: #008080; text-decoration-color: #008080\"> 0.44</span> │ <span style=\"color: #008080; text-decoration-color: #008080\"> 17</span> │ <span style=\"color: #008080; text-decoration-color: #008080\">210</span> │ <span style=\"color: #008080; text-decoration-color: #008080\">23000</span> │ <span style=\"color: #008000; text-decoration-color: #008000\">  █   </span> │  │\n",
       "│ │ <span style=\"color: #af87ff; text-decoration-color: #af87ff\">Quantity</span> │ <span style=\"color: #008080; text-decoration-color: #008080\">      0</span> │ <span style=\"color: #008080; text-decoration-color: #008080\">           1</span> │ <span style=\"color: #008080; text-decoration-color: #008080\"> 3.8</span> │ <span style=\"color: #008080; text-decoration-color: #008080\"> 2.2</span> │ <span style=\"color: #008080; text-decoration-color: #008080\">    1</span> │ <span style=\"color: #008080; text-decoration-color: #008080\">  2</span> │ <span style=\"color: #008080; text-decoration-color: #008080\">  5</span> │ <span style=\"color: #008080; text-decoration-color: #008080\">   14</span> │ <span style=\"color: #008000; text-decoration-color: #008000\"> █▃▂▁ </span> │  │\n",
       "│ │ <span style=\"color: #af87ff; text-decoration-color: #af87ff\">Discount</span> │ <span style=\"color: #008080; text-decoration-color: #008080\">      0</span> │ <span style=\"color: #008080; text-decoration-color: #008080\">           1</span> │ <span style=\"color: #008080; text-decoration-color: #008080\">0.16</span> │ <span style=\"color: #008080; text-decoration-color: #008080\">0.21</span> │ <span style=\"color: #008080; text-decoration-color: #008080\">    0</span> │ <span style=\"color: #008080; text-decoration-color: #008080\">  0</span> │ <span style=\"color: #008080; text-decoration-color: #008080\">0.2</span> │ <span style=\"color: #008080; text-decoration-color: #008080\">  0.8</span> │ <span style=\"color: #008000; text-decoration-color: #008000\">█▆   ▁</span> │  │\n",
       "│ │ <span style=\"color: #af87ff; text-decoration-color: #af87ff\">Profit  </span> │ <span style=\"color: #008080; text-decoration-color: #008080\">      0</span> │ <span style=\"color: #008080; text-decoration-color: #008080\">           1</span> │ <span style=\"color: #008080; text-decoration-color: #008080\">  29</span> │ <span style=\"color: #008080; text-decoration-color: #008080\"> 230</span> │ <span style=\"color: #008080; text-decoration-color: #008080\">-6600</span> │ <span style=\"color: #008080; text-decoration-color: #008080\">1.7</span> │ <span style=\"color: #008080; text-decoration-color: #008080\"> 29</span> │ <span style=\"color: #008080; text-decoration-color: #008080\"> 8400</span> │ <span style=\"color: #008000; text-decoration-color: #008000\">   █  </span> │  │\n",
       "│ └──────────┴─────────┴──────────────┴──────┴──────┴───────┴─────┴─────┴───────┴────────┘  │\n",
       "│ <span style=\"font-style: italic\">                                        category                                        </span>  │\n",
       "│ ┏━━━━━━━━━━━━━━━━━━━━━┳━━━━━━━━━━━━━━┳━━━━━━━━━━━━━━━━━━━━━━━┳━━━━━━━━━━━━━┳━━━━━━━━━━━┓  │\n",
       "│ ┃<span style=\"font-weight: bold\">                     </span>┃<span style=\"font-weight: bold\"> missing      </span>┃<span style=\"font-weight: bold\"> complete rate         </span>┃<span style=\"font-weight: bold\"> ordered     </span>┃<span style=\"font-weight: bold\"> unique    </span>┃  │\n",
       "│ ┡━━━━━━━━━━━━━━━━━━━━━╇━━━━━━━━━━━━━━╇━━━━━━━━━━━━━━━━━━━━━━━╇━━━━━━━━━━━━━╇━━━━━━━━━━━┩  │\n",
       "│ │ <span style=\"color: #af87ff; text-decoration-color: #af87ff\">Order ID           </span> │ <span style=\"color: #008080; text-decoration-color: #008080\">           0</span> │ <span style=\"color: #008080; text-decoration-color: #008080\">                    1</span> │ <span style=\"color: #00d7ff; text-decoration-color: #00d7ff\">False      </span> │ <span style=\"color: #008080; text-decoration-color: #008080\">    10000</span> │  │\n",
       "│ │ <span style=\"color: #af87ff; text-decoration-color: #af87ff\">Ship Mode          </span> │ <span style=\"color: #008080; text-decoration-color: #008080\">           0</span> │ <span style=\"color: #008080; text-decoration-color: #008080\">                    1</span> │ <span style=\"color: #00d7ff; text-decoration-color: #00d7ff\">False      </span> │ <span style=\"color: #008080; text-decoration-color: #008080\">        4</span> │  │\n",
       "│ │ <span style=\"color: #af87ff; text-decoration-color: #af87ff\">Customer ID        </span> │ <span style=\"color: #008080; text-decoration-color: #008080\">           0</span> │ <span style=\"color: #008080; text-decoration-color: #008080\">                    1</span> │ <span style=\"color: #00d7ff; text-decoration-color: #00d7ff\">False      </span> │ <span style=\"color: #008080; text-decoration-color: #008080\">      790</span> │  │\n",
       "│ │ <span style=\"color: #af87ff; text-decoration-color: #af87ff\">Segment            </span> │ <span style=\"color: #008080; text-decoration-color: #008080\">           0</span> │ <span style=\"color: #008080; text-decoration-color: #008080\">                    1</span> │ <span style=\"color: #00d7ff; text-decoration-color: #00d7ff\">False      </span> │ <span style=\"color: #008080; text-decoration-color: #008080\">        3</span> │  │\n",
       "│ │ <span style=\"color: #af87ff; text-decoration-color: #af87ff\">City               </span> │ <span style=\"color: #008080; text-decoration-color: #008080\">           0</span> │ <span style=\"color: #008080; text-decoration-color: #008080\">                    1</span> │ <span style=\"color: #00d7ff; text-decoration-color: #00d7ff\">False      </span> │ <span style=\"color: #008080; text-decoration-color: #008080\">      530</span> │  │\n",
       "│ │ <span style=\"color: #af87ff; text-decoration-color: #af87ff\">State              </span> │ <span style=\"color: #008080; text-decoration-color: #008080\">           0</span> │ <span style=\"color: #008080; text-decoration-color: #008080\">                    1</span> │ <span style=\"color: #00d7ff; text-decoration-color: #00d7ff\">False      </span> │ <span style=\"color: #008080; text-decoration-color: #008080\">       49</span> │  │\n",
       "│ │ <span style=\"color: #af87ff; text-decoration-color: #af87ff\">Region             </span> │ <span style=\"color: #008080; text-decoration-color: #008080\">           0</span> │ <span style=\"color: #008080; text-decoration-color: #008080\">                    1</span> │ <span style=\"color: #00d7ff; text-decoration-color: #00d7ff\">False      </span> │ <span style=\"color: #008080; text-decoration-color: #008080\">        4</span> │  │\n",
       "│ │ <span style=\"color: #af87ff; text-decoration-color: #af87ff\">Product ID         </span> │ <span style=\"color: #008080; text-decoration-color: #008080\">           0</span> │ <span style=\"color: #008080; text-decoration-color: #008080\">                    1</span> │ <span style=\"color: #00d7ff; text-decoration-color: #00d7ff\">False      </span> │ <span style=\"color: #008080; text-decoration-color: #008080\">     1900</span> │  │\n",
       "│ │ <span style=\"color: #af87ff; text-decoration-color: #af87ff\">Category           </span> │ <span style=\"color: #008080; text-decoration-color: #008080\">           0</span> │ <span style=\"color: #008080; text-decoration-color: #008080\">                    1</span> │ <span style=\"color: #00d7ff; text-decoration-color: #00d7ff\">False      </span> │ <span style=\"color: #008080; text-decoration-color: #008080\">        3</span> │  │\n",
       "│ │ <span style=\"color: #af87ff; text-decoration-color: #af87ff\">Sub-Category       </span> │ <span style=\"color: #008080; text-decoration-color: #008080\">           0</span> │ <span style=\"color: #008080; text-decoration-color: #008080\">                    1</span> │ <span style=\"color: #00d7ff; text-decoration-color: #00d7ff\">False      </span> │ <span style=\"color: #008080; text-decoration-color: #008080\">       17</span> │  │\n",
       "│ │ <span style=\"color: #af87ff; text-decoration-color: #af87ff\">Product Name       </span> │ <span style=\"color: #008080; text-decoration-color: #008080\">           0</span> │ <span style=\"color: #008080; text-decoration-color: #008080\">                    1</span> │ <span style=\"color: #00d7ff; text-decoration-color: #00d7ff\">False      </span> │ <span style=\"color: #008080; text-decoration-color: #008080\">     1900</span> │  │\n",
       "│ └─────────────────────┴──────────────┴───────────────────────┴─────────────┴───────────┘  │\n",
       "│ <span style=\"font-style: italic\">                                        datetime                                        </span>  │\n",
       "│ ┏━━━━━━━━━━━━━━┳━━━━━━━━━━━┳━━━━━━━━━━━━━━━━━┳━━━━━━━━━━━━━━┳━━━━━━━━━━━━━━┳━━━━━━━━━━━┓  │\n",
       "│ ┃<span style=\"font-weight: bold\">              </span>┃<span style=\"font-weight: bold\"> missing   </span>┃<span style=\"font-weight: bold\"> complete rate   </span>┃<span style=\"font-weight: bold\"> first        </span>┃<span style=\"font-weight: bold\"> last         </span>┃<span style=\"font-weight: bold\"> frequency </span>┃  │\n",
       "│ ┡━━━━━━━━━━━━━━╇━━━━━━━━━━━╇━━━━━━━━━━━━━━━━━╇━━━━━━━━━━━━━━╇━━━━━━━━━━━━━━╇━━━━━━━━━━━┩  │\n",
       "│ │ <span style=\"color: #af87ff; text-decoration-color: #af87ff\">Order Date  </span> │ <span style=\"color: #008080; text-decoration-color: #008080\">        0</span> │ <span style=\"color: #008080; text-decoration-color: #008080\">              1</span> │ <span style=\"color: #800000; text-decoration-color: #800000\"> 2013-01-03 </span> │ <span style=\"color: #800000; text-decoration-color: #800000\"> 2018-12-30 </span> │ <span style=\"color: #af87ff; text-decoration-color: #af87ff\">None     </span> │  │\n",
       "│ │ <span style=\"color: #af87ff; text-decoration-color: #af87ff\">Ship Date   </span> │ <span style=\"color: #008080; text-decoration-color: #008080\">        0</span> │ <span style=\"color: #008080; text-decoration-color: #008080\">              1</span> │ <span style=\"color: #800000; text-decoration-color: #800000\"> 2013-01-07 </span> │ <span style=\"color: #800000; text-decoration-color: #800000\"> 2019-01-05 </span> │ <span style=\"color: #af87ff; text-decoration-color: #af87ff\">None     </span> │  │\n",
       "│ └──────────────┴───────────┴─────────────────┴──────────────┴──────────────┴───────────┘  │\n",
       "╰─────────────────────────────────────────── End ───────────────────────────────────────────╯\n",
       "</pre>\n"
      ],
      "text/plain": [
       "╭───────────────────────────────────── skimpy summary ──────────────────────────────────────╮\n",
       "│ \u001b[3m         Data Summary         \u001b[0m \u001b[3m      Data Types       \u001b[0m \u001b[3m       Categories        \u001b[0m          │\n",
       "│ ┏━━━━━━━━━━━━━━━━━━━┳━━━━━━━━┓ ┏━━━━━━━━━━━━━┳━━━━━━━┓ ┏━━━━━━━━━━━━━━━━━━━━━━━┓          │\n",
       "│ ┃\u001b[1;36m \u001b[0m\u001b[1;36mdataframe        \u001b[0m\u001b[1;36m \u001b[0m┃\u001b[1;36m \u001b[0m\u001b[1;36mValues\u001b[0m\u001b[1;36m \u001b[0m┃ ┃\u001b[1;36m \u001b[0m\u001b[1;36mColumn Type\u001b[0m\u001b[1;36m \u001b[0m┃\u001b[1;36m \u001b[0m\u001b[1;36mCount\u001b[0m\u001b[1;36m \u001b[0m┃ ┃\u001b[1;36m \u001b[0m\u001b[1;36mCategorical Variables\u001b[0m\u001b[1;36m \u001b[0m┃          │\n",
       "│ ┡━━━━━━━━━━━━━━━━━━━╇━━━━━━━━┩ ┡━━━━━━━━━━━━━╇━━━━━━━┩ ┡━━━━━━━━━━━━━━━━━━━━━━━┩          │\n",
       "│ │ Number of rows    │ 19988  │ │ category    │ 11    │ │ Order ID              │          │\n",
       "│ │ Number of columns │ 17     │ │ float64     │ 3     │ │ Ship Mode             │          │\n",
       "│ └───────────────────┴────────┘ │ datetime64  │ 2     │ │ Customer ID           │          │\n",
       "│                                │ int64       │ 1     │ │ Segment               │          │\n",
       "│                                └─────────────┴───────┘ │ City                  │          │\n",
       "│                                                        │ State                 │          │\n",
       "│                                                        │ Region                │          │\n",
       "│                                                        │ Product ID            │          │\n",
       "│                                                        │ Category              │          │\n",
       "│                                                        │ Sub-Category          │          │\n",
       "│                                                        │ Product Name          │          │\n",
       "│                                                        └───────────────────────┘          │\n",
       "│ \u001b[3m                                         number                                         \u001b[0m  │\n",
       "│ ┏━━━━━━━━━━┳━━━━━━━━━┳━━━━━━━━━━━━━━┳━━━━━━┳━━━━━━┳━━━━━━━┳━━━━━┳━━━━━┳━━━━━━━┳━━━━━━━━┓  │\n",
       "│ ┃\u001b[1m \u001b[0m\u001b[1m        \u001b[0m\u001b[1m \u001b[0m┃\u001b[1m \u001b[0m\u001b[1mmissing\u001b[0m\u001b[1m \u001b[0m┃\u001b[1m \u001b[0m\u001b[1mcomplete    \u001b[0m\u001b[1m \u001b[0m┃\u001b[1m \u001b[0m\u001b[1mmean\u001b[0m\u001b[1m \u001b[0m┃\u001b[1m \u001b[0m\u001b[1msd  \u001b[0m\u001b[1m \u001b[0m┃\u001b[1m \u001b[0m\u001b[1mp0   \u001b[0m\u001b[1m \u001b[0m┃\u001b[1m \u001b[0m\u001b[1mp25\u001b[0m\u001b[1m \u001b[0m┃\u001b[1m \u001b[0m\u001b[1mp75\u001b[0m\u001b[1m \u001b[0m┃\u001b[1m \u001b[0m\u001b[1mp100 \u001b[0m\u001b[1m \u001b[0m┃\u001b[1m \u001b[0m\u001b[1mhist  \u001b[0m\u001b[1m \u001b[0m┃  │\n",
       "│ ┃          ┃         ┃\u001b[1m \u001b[0m\u001b[1mrate        \u001b[0m\u001b[1m \u001b[0m┃      ┃      ┃       ┃     ┃     ┃       ┃        ┃  │\n",
       "│ ┡━━━━━━━━━━╇━━━━━━━━━╇━━━━━━━━━━━━━━╇━━━━━━╇━━━━━━╇━━━━━━━╇━━━━━╇━━━━━╇━━━━━━━╇━━━━━━━━┩  │\n",
       "│ │ \u001b[38;5;141mSales   \u001b[0m │ \u001b[36m      0\u001b[0m │ \u001b[36m           1\u001b[0m │ \u001b[36m 230\u001b[0m │ \u001b[36m 620\u001b[0m │ \u001b[36m 0.44\u001b[0m │ \u001b[36m 17\u001b[0m │ \u001b[36m210\u001b[0m │ \u001b[36m23000\u001b[0m │ \u001b[32m  █   \u001b[0m │  │\n",
       "│ │ \u001b[38;5;141mQuantity\u001b[0m │ \u001b[36m      0\u001b[0m │ \u001b[36m           1\u001b[0m │ \u001b[36m 3.8\u001b[0m │ \u001b[36m 2.2\u001b[0m │ \u001b[36m    1\u001b[0m │ \u001b[36m  2\u001b[0m │ \u001b[36m  5\u001b[0m │ \u001b[36m   14\u001b[0m │ \u001b[32m █▃▂▁ \u001b[0m │  │\n",
       "│ │ \u001b[38;5;141mDiscount\u001b[0m │ \u001b[36m      0\u001b[0m │ \u001b[36m           1\u001b[0m │ \u001b[36m0.16\u001b[0m │ \u001b[36m0.21\u001b[0m │ \u001b[36m    0\u001b[0m │ \u001b[36m  0\u001b[0m │ \u001b[36m0.2\u001b[0m │ \u001b[36m  0.8\u001b[0m │ \u001b[32m█▆   ▁\u001b[0m │  │\n",
       "│ │ \u001b[38;5;141mProfit  \u001b[0m │ \u001b[36m      0\u001b[0m │ \u001b[36m           1\u001b[0m │ \u001b[36m  29\u001b[0m │ \u001b[36m 230\u001b[0m │ \u001b[36m-6600\u001b[0m │ \u001b[36m1.7\u001b[0m │ \u001b[36m 29\u001b[0m │ \u001b[36m 8400\u001b[0m │ \u001b[32m   █  \u001b[0m │  │\n",
       "│ └──────────┴─────────┴──────────────┴──────┴──────┴───────┴─────┴─────┴───────┴────────┘  │\n",
       "│ \u001b[3m                                        category                                        \u001b[0m  │\n",
       "│ ┏━━━━━━━━━━━━━━━━━━━━━┳━━━━━━━━━━━━━━┳━━━━━━━━━━━━━━━━━━━━━━━┳━━━━━━━━━━━━━┳━━━━━━━━━━━┓  │\n",
       "│ ┃\u001b[1m \u001b[0m\u001b[1m                   \u001b[0m\u001b[1m \u001b[0m┃\u001b[1m \u001b[0m\u001b[1mmissing     \u001b[0m\u001b[1m \u001b[0m┃\u001b[1m \u001b[0m\u001b[1mcomplete rate        \u001b[0m\u001b[1m \u001b[0m┃\u001b[1m \u001b[0m\u001b[1mordered    \u001b[0m\u001b[1m \u001b[0m┃\u001b[1m \u001b[0m\u001b[1munique   \u001b[0m\u001b[1m \u001b[0m┃  │\n",
       "│ ┡━━━━━━━━━━━━━━━━━━━━━╇━━━━━━━━━━━━━━╇━━━━━━━━━━━━━━━━━━━━━━━╇━━━━━━━━━━━━━╇━━━━━━━━━━━┩  │\n",
       "│ │ \u001b[38;5;141mOrder ID           \u001b[0m │ \u001b[36m           0\u001b[0m │ \u001b[36m                    1\u001b[0m │ \u001b[38;5;45mFalse      \u001b[0m │ \u001b[36m    10000\u001b[0m │  │\n",
       "│ │ \u001b[38;5;141mShip Mode          \u001b[0m │ \u001b[36m           0\u001b[0m │ \u001b[36m                    1\u001b[0m │ \u001b[38;5;45mFalse      \u001b[0m │ \u001b[36m        4\u001b[0m │  │\n",
       "│ │ \u001b[38;5;141mCustomer ID        \u001b[0m │ \u001b[36m           0\u001b[0m │ \u001b[36m                    1\u001b[0m │ \u001b[38;5;45mFalse      \u001b[0m │ \u001b[36m      790\u001b[0m │  │\n",
       "│ │ \u001b[38;5;141mSegment            \u001b[0m │ \u001b[36m           0\u001b[0m │ \u001b[36m                    1\u001b[0m │ \u001b[38;5;45mFalse      \u001b[0m │ \u001b[36m        3\u001b[0m │  │\n",
       "│ │ \u001b[38;5;141mCity               \u001b[0m │ \u001b[36m           0\u001b[0m │ \u001b[36m                    1\u001b[0m │ \u001b[38;5;45mFalse      \u001b[0m │ \u001b[36m      530\u001b[0m │  │\n",
       "│ │ \u001b[38;5;141mState              \u001b[0m │ \u001b[36m           0\u001b[0m │ \u001b[36m                    1\u001b[0m │ \u001b[38;5;45mFalse      \u001b[0m │ \u001b[36m       49\u001b[0m │  │\n",
       "│ │ \u001b[38;5;141mRegion             \u001b[0m │ \u001b[36m           0\u001b[0m │ \u001b[36m                    1\u001b[0m │ \u001b[38;5;45mFalse      \u001b[0m │ \u001b[36m        4\u001b[0m │  │\n",
       "│ │ \u001b[38;5;141mProduct ID         \u001b[0m │ \u001b[36m           0\u001b[0m │ \u001b[36m                    1\u001b[0m │ \u001b[38;5;45mFalse      \u001b[0m │ \u001b[36m     1900\u001b[0m │  │\n",
       "│ │ \u001b[38;5;141mCategory           \u001b[0m │ \u001b[36m           0\u001b[0m │ \u001b[36m                    1\u001b[0m │ \u001b[38;5;45mFalse      \u001b[0m │ \u001b[36m        3\u001b[0m │  │\n",
       "│ │ \u001b[38;5;141mSub-Category       \u001b[0m │ \u001b[36m           0\u001b[0m │ \u001b[36m                    1\u001b[0m │ \u001b[38;5;45mFalse      \u001b[0m │ \u001b[36m       17\u001b[0m │  │\n",
       "│ │ \u001b[38;5;141mProduct Name       \u001b[0m │ \u001b[36m           0\u001b[0m │ \u001b[36m                    1\u001b[0m │ \u001b[38;5;45mFalse      \u001b[0m │ \u001b[36m     1900\u001b[0m │  │\n",
       "│ └─────────────────────┴──────────────┴───────────────────────┴─────────────┴───────────┘  │\n",
       "│ \u001b[3m                                        datetime                                        \u001b[0m  │\n",
       "│ ┏━━━━━━━━━━━━━━┳━━━━━━━━━━━┳━━━━━━━━━━━━━━━━━┳━━━━━━━━━━━━━━┳━━━━━━━━━━━━━━┳━━━━━━━━━━━┓  │\n",
       "│ ┃\u001b[1m \u001b[0m\u001b[1m            \u001b[0m\u001b[1m \u001b[0m┃\u001b[1m \u001b[0m\u001b[1mmissing  \u001b[0m\u001b[1m \u001b[0m┃\u001b[1m \u001b[0m\u001b[1mcomplete rate  \u001b[0m\u001b[1m \u001b[0m┃\u001b[1m \u001b[0m\u001b[1mfirst       \u001b[0m\u001b[1m \u001b[0m┃\u001b[1m \u001b[0m\u001b[1mlast        \u001b[0m\u001b[1m \u001b[0m┃\u001b[1m \u001b[0m\u001b[1mfrequency\u001b[0m\u001b[1m \u001b[0m┃  │\n",
       "│ ┡━━━━━━━━━━━━━━╇━━━━━━━━━━━╇━━━━━━━━━━━━━━━━━╇━━━━━━━━━━━━━━╇━━━━━━━━━━━━━━╇━━━━━━━━━━━┩  │\n",
       "│ │ \u001b[38;5;141mOrder Date  \u001b[0m │ \u001b[36m        0\u001b[0m │ \u001b[36m              1\u001b[0m │ \u001b[31m 2013-01-03 \u001b[0m │ \u001b[31m 2018-12-30 \u001b[0m │ \u001b[38;5;141mNone     \u001b[0m │  │\n",
       "│ │ \u001b[38;5;141mShip Date   \u001b[0m │ \u001b[36m        0\u001b[0m │ \u001b[36m              1\u001b[0m │ \u001b[31m 2013-01-07 \u001b[0m │ \u001b[31m 2019-01-05 \u001b[0m │ \u001b[38;5;141mNone     \u001b[0m │  │\n",
       "│ └──────────────┴───────────┴─────────────────┴──────────────┴──────────────┴───────────┘  │\n",
       "╰─────────────────────────────────────────── End ───────────────────────────────────────────╯\n"
      ]
     },
     "metadata": {},
     "output_type": "display_data"
    }
   ],
   "source": [
    "skim(data)"
   ]
  },
  {
   "cell_type": "markdown",
   "metadata": {},
   "source": [
    "### ADD METRICS\n",
    "- Waiting time  - the numer of days from Order date to shipping date\n",
    "- Unit Price    - this is the price per unit of goods sold \n",
    "- PandL         - classifies the product if it was either poritable or not\n",
    "- Product grade - Classifies the productss into grade based from the profit attained from it \n"
   ]
  },
  {
   "cell_type": "code",
   "execution_count": 52,
   "metadata": {},
   "outputs": [],
   "source": [
    "### ADD COLUMNS \n",
    "\n",
    "# Waiting time - the numer of days from Order date to shipping date\n",
    "data['Waiting Time']    = data['Ship Date'] - data['Order Date']\n",
    "\n",
    "# Unit Price  - this is the price per unit of goods sold \n",
    "data['Unit Price']      = data['Sales']/data['Quantity']\n",
    "\n",
    "# PandL  - classifies the product if it was either poritable or not \n",
    "def PandL(var):\n",
    "    if var  > 0 :\n",
    "        return \"Profit\"\n",
    "    elif var < 0:\n",
    "        return \"Loss\"\n",
    "    else :\n",
    "        return 'BE'\n",
    "\n",
    "data['PandL'] = data['Profit'].apply(PandL)\n",
    "\n",
    "#Product grade - Classifies the productss into grade based from the profit attained from it \n",
    "data['Price_grade'] = pd.qcut(data['Unit Price'], 5 , labels=['A', 'B', 'C','D','E'], precision=2)\n",
    "\n",
    "data['absPndL'] = abs(data['Profit'])"
   ]
  },
  {
   "cell_type": "code",
   "execution_count": 58,
   "metadata": {},
   "outputs": [],
   "source": [
    "# ATTACHED THE RETURNS COLUMN \n",
    "full_data = pd.merge(data, returned , on = 'Order ID', how = 'left')\n"
   ]
  },
  {
   "cell_type": "code",
   "execution_count": 64,
   "metadata": {},
   "outputs": [],
   "source": [
    "#fill Nulls inreturned column as 'No' which indicates not returned \n",
    "full_data.Returned[full_data.Returned.isna()] = 'No'"
   ]
  },
  {
   "cell_type": "code",
   "execution_count": 80,
   "metadata": {},
   "outputs": [
    {
     "data": {
      "text/plain": [
       "Index(['Order ID', 'Order Date', 'Ship Date', 'Ship Mode', 'Customer ID',\n",
       "       'Segment', 'City', 'State', 'Region', 'Product ID', 'Category',\n",
       "       'Sub-Category', 'Product Name', 'Sales', 'Quantity', 'Discount',\n",
       "       'Profit', 'Waiting Time', 'Unit Price', 'PandL', 'Price_grade',\n",
       "       'absPndL', 'Returned'],\n",
       "      dtype='object')"
      ]
     },
     "execution_count": 80,
     "metadata": {},
     "output_type": "execute_result"
    }
   ],
   "source": [
    "full_data.columns"
   ]
  },
  {
   "cell_type": "markdown",
   "metadata": {},
   "source": [
    "## EDA AND VISUALIZATION "
   ]
  },
  {
   "cell_type": "markdown",
   "metadata": {},
   "source": [
    "# 1"
   ]
  },
  {
   "cell_type": "code",
   "execution_count": 132,
   "metadata": {},
   "outputs": [
    {
     "data": {
      "text/html": [
       "<div>\n",
       "<style scoped>\n",
       "    .dataframe tbody tr th:only-of-type {\n",
       "        vertical-align: middle;\n",
       "    }\n",
       "\n",
       "    .dataframe tbody tr th {\n",
       "        vertical-align: top;\n",
       "    }\n",
       "\n",
       "    .dataframe thead th {\n",
       "        text-align: right;\n",
       "    }\n",
       "</style>\n",
       "<table border=\"1\" class=\"dataframe\">\n",
       "  <thead>\n",
       "    <tr style=\"text-align: right;\">\n",
       "      <th>Discount</th>\n",
       "      <th>0.00</th>\n",
       "      <th>0.10</th>\n",
       "      <th>0.15</th>\n",
       "      <th>0.20</th>\n",
       "      <th>0.30</th>\n",
       "      <th>0.32</th>\n",
       "      <th>0.40</th>\n",
       "      <th>0.45</th>\n",
       "      <th>0.50</th>\n",
       "      <th>0.60</th>\n",
       "      <th>0.70</th>\n",
       "      <th>0.80</th>\n",
       "    </tr>\n",
       "    <tr>\n",
       "      <th>Price_grade</th>\n",
       "      <th></th>\n",
       "      <th></th>\n",
       "      <th></th>\n",
       "      <th></th>\n",
       "      <th></th>\n",
       "      <th></th>\n",
       "      <th></th>\n",
       "      <th></th>\n",
       "      <th></th>\n",
       "      <th></th>\n",
       "      <th></th>\n",
       "      <th></th>\n",
       "    </tr>\n",
       "  </thead>\n",
       "  <tbody>\n",
       "    <tr>\n",
       "      <th>A</th>\n",
       "      <td>8060.3326</td>\n",
       "      <td>0.0000</td>\n",
       "      <td>0.0000</td>\n",
       "      <td>5119.2516</td>\n",
       "      <td>0.0000</td>\n",
       "      <td>0.0000</td>\n",
       "      <td>-7.7220</td>\n",
       "      <td>0.0000</td>\n",
       "      <td>0.0000</td>\n",
       "      <td>-553.0502</td>\n",
       "      <td>-3307.4269</td>\n",
       "      <td>-6451.3162</td>\n",
       "    </tr>\n",
       "    <tr>\n",
       "      <th>B</th>\n",
       "      <td>26494.7836</td>\n",
       "      <td>10.4544</td>\n",
       "      <td>0.0000</td>\n",
       "      <td>9774.5063</td>\n",
       "      <td>0.0000</td>\n",
       "      <td>0.0000</td>\n",
       "      <td>-106.8538</td>\n",
       "      <td>0.0000</td>\n",
       "      <td>0.0000</td>\n",
       "      <td>-1245.1672</td>\n",
       "      <td>-3607.8075</td>\n",
       "      <td>-3968.8426</td>\n",
       "    </tr>\n",
       "    <tr>\n",
       "      <th>C</th>\n",
       "      <td>52719.6046</td>\n",
       "      <td>84.2336</td>\n",
       "      <td>0.0000</td>\n",
       "      <td>21156.7738</td>\n",
       "      <td>-121.8244</td>\n",
       "      <td>0.0000</td>\n",
       "      <td>-599.3266</td>\n",
       "      <td>0.0000</td>\n",
       "      <td>-195.8350</td>\n",
       "      <td>-3753.6648</td>\n",
       "      <td>-5569.0040</td>\n",
       "      <td>-7330.5074</td>\n",
       "    </tr>\n",
       "    <tr>\n",
       "      <th>D</th>\n",
       "      <td>118358.2227</td>\n",
       "      <td>2665.7771</td>\n",
       "      <td>450.5296</td>\n",
       "      <td>33048.8908</td>\n",
       "      <td>-5194.1518</td>\n",
       "      <td>-691.5178</td>\n",
       "      <td>-4659.8934</td>\n",
       "      <td>-961.4108</td>\n",
       "      <td>-9573.2272</td>\n",
       "      <td>-6411.9752</td>\n",
       "      <td>-10330.2114</td>\n",
       "      <td>-15469.8558</td>\n",
       "    </tr>\n",
       "    <tr>\n",
       "      <th>E</th>\n",
       "      <td>509544.6052</td>\n",
       "      <td>28698.8295</td>\n",
       "      <td>3207.8357</td>\n",
       "      <td>141791.9045</td>\n",
       "      <td>-16175.6438</td>\n",
       "      <td>-4144.4632</td>\n",
       "      <td>-46837.5282</td>\n",
       "      <td>-4024.8114</td>\n",
       "      <td>-37828.0438</td>\n",
       "      <td>0.0000</td>\n",
       "      <td>-67285.2032</td>\n",
       "      <td>-48253.7188</td>\n",
       "    </tr>\n",
       "  </tbody>\n",
       "</table>\n",
       "</div>"
      ],
      "text/plain": [
       "Discount            0.00        0.10       0.15         0.20        0.30  \\\n",
       "Price_grade                                                                \n",
       "A              8060.3326      0.0000     0.0000    5119.2516      0.0000   \n",
       "B             26494.7836     10.4544     0.0000    9774.5063      0.0000   \n",
       "C             52719.6046     84.2336     0.0000   21156.7738   -121.8244   \n",
       "D            118358.2227   2665.7771   450.5296   33048.8908  -5194.1518   \n",
       "E            509544.6052  28698.8295  3207.8357  141791.9045 -16175.6438   \n",
       "\n",
       "Discount          0.32        0.40       0.45        0.50       0.60  \\\n",
       "Price_grade                                                            \n",
       "A               0.0000     -7.7220     0.0000      0.0000  -553.0502   \n",
       "B               0.0000   -106.8538     0.0000      0.0000 -1245.1672   \n",
       "C               0.0000   -599.3266     0.0000   -195.8350 -3753.6648   \n",
       "D            -691.5178  -4659.8934  -961.4108  -9573.2272 -6411.9752   \n",
       "E           -4144.4632 -46837.5282 -4024.8114 -37828.0438     0.0000   \n",
       "\n",
       "Discount           0.70        0.80  \n",
       "Price_grade                          \n",
       "A            -3307.4269  -6451.3162  \n",
       "B            -3607.8075  -3968.8426  \n",
       "C            -5569.0040  -7330.5074  \n",
       "D           -10330.2114 -15469.8558  \n",
       "E           -67285.2032 -48253.7188  "
      ]
     },
     "execution_count": 132,
     "metadata": {},
     "output_type": "execute_result"
    }
   ],
   "source": [
    "full_data['Price_grade'].value_counts().sort_index()\n",
    "\n",
    "a1 = full_data[['Price_grade', 'Discount', 'Profit']].sort_values(by ='Discount')\n",
    "full_data.groupby(['Price_grade','Discount']).Profit.sum().unstack()"
   ]
  },
  {
   "cell_type": "markdown",
   "metadata": {},
   "source": [
    "# 2\n",
    "FIND WHAT CATEGORY AND SUBCATEGORY HAD MOST RETURNED PRODUCTS\n",
    "WHICH SHIPPING MODE AND CUSTOMER HAD MOST RETURNED \n"
   ]
  },
  {
   "cell_type": "code",
   "execution_count": null,
   "metadata": {},
   "outputs": [],
   "source": []
  },
  {
   "cell_type": "markdown",
   "metadata": {},
   "source": [
    "# 3\n",
    "- WHICH SEGMENT AND CATEGORY HAD MOST PROFITABLE SALES\n",
    "- WHICH SEGMENT AND CATEGORY HAD MOST LOSSES IN  SALES\n"
   ]
  },
  {
   "cell_type": "code",
   "execution_count": 147,
   "metadata": {},
   "outputs": [
    {
     "data": {
      "text/html": [
       "<div>\n",
       "<style scoped>\n",
       "    .dataframe tbody tr th:only-of-type {\n",
       "        vertical-align: middle;\n",
       "    }\n",
       "\n",
       "    .dataframe tbody tr th {\n",
       "        vertical-align: top;\n",
       "    }\n",
       "\n",
       "    .dataframe thead th {\n",
       "        text-align: right;\n",
       "    }\n",
       "</style>\n",
       "<table border=\"1\" class=\"dataframe\">\n",
       "  <thead>\n",
       "    <tr style=\"text-align: right;\">\n",
       "      <th>Segment</th>\n",
       "      <th>Consumer</th>\n",
       "      <th>Corporate</th>\n",
       "      <th>Home Office</th>\n",
       "    </tr>\n",
       "    <tr>\n",
       "      <th>Category</th>\n",
       "      <th></th>\n",
       "      <th></th>\n",
       "      <th></th>\n",
       "    </tr>\n",
       "  </thead>\n",
       "  <tbody>\n",
       "    <tr>\n",
       "      <th>Furniture</th>\n",
       "      <td>1611</td>\n",
       "      <td>993</td>\n",
       "      <td>513</td>\n",
       "    </tr>\n",
       "    <tr>\n",
       "      <th>Office Supplies</th>\n",
       "      <td>6046</td>\n",
       "      <td>3444</td>\n",
       "      <td>1977</td>\n",
       "    </tr>\n",
       "    <tr>\n",
       "      <th>Technology</th>\n",
       "      <td>1876</td>\n",
       "      <td>1058</td>\n",
       "      <td>617</td>\n",
       "    </tr>\n",
       "  </tbody>\n",
       "</table>\n",
       "</div>"
      ],
      "text/plain": [
       "Segment          Consumer  Corporate  Home Office\n",
       "Category                                         \n",
       "Furniture            1611        993          513\n",
       "Office Supplies      6046       3444         1977\n",
       "Technology           1876       1058          617"
      ]
     },
     "execution_count": 147,
     "metadata": {},
     "output_type": "execute_result"
    }
   ],
   "source": [
    "full_data[full_data.PandL == 'Profit'].groupby(['Category', 'Segment']).PandL.count().unstack()"
   ]
  },
  {
   "cell_type": "markdown",
   "metadata": {},
   "source": [
    "# 4"
   ]
  },
  {
   "cell_type": "code",
   "execution_count": null,
   "metadata": {},
   "outputs": [],
   "source": []
  }
 ],
 "metadata": {
  "kernelspec": {
   "display_name": "Python 3.9.7 ('base')",
   "language": "python",
   "name": "python3"
  },
  "language_info": {
   "codemirror_mode": {
    "name": "ipython",
    "version": 3
   },
   "file_extension": ".py",
   "mimetype": "text/x-python",
   "name": "python",
   "nbconvert_exporter": "python",
   "pygments_lexer": "ipython3",
   "version": "3.9.7"
  },
  "orig_nbformat": 4,
  "vscode": {
   "interpreter": {
    "hash": "585a938ec471c889bf0cce0aed741a99eaf47ca09c0fa8393793bc5bfe77ba11"
   }
  }
 },
 "nbformat": 4,
 "nbformat_minor": 2
}
