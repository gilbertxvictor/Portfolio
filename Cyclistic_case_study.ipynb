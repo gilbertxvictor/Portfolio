{
 "cells": [
  {
   "cell_type": "markdown",
   "id": "95ce96cc-3dc9-4479-9d38-f1f02b8268ec",
   "metadata": {},
   "source": [
    "###Import in Useful Modules\n"
   ]
  },
  {
   "cell_type": "code",
   "execution_count": 62,
   "id": "96e4c794-815e-478a-ae9f-b021f2f08058",
   "metadata": {},
   "outputs": [],
   "source": [
    "import pandas as pd\n",
    "import glob\n",
    "import os\n",
    "import csv\n",
    "import datetime as dt\n",
    "import matplotlib.pyplot as plt\n",
    "%matplotlib inline"
   ]
  },
  {
   "cell_type": "markdown",
   "id": "5b6a5ef1-129d-49e9-968e-99b27bc11fb9",
   "metadata": {},
   "source": [
    "Parsing the file sin directory and merging multiple csv file into a single file "
   ]
  },
  {
   "cell_type": "code",
   "execution_count": 2,
   "id": "eb464191-8e2c-4e65-8162-f348e1c9da13",
   "metadata": {
    "collapsed": true,
    "jupyter": {
     "outputs_hidden": true,
     "source_hidden": true
    },
    "tags": []
   },
   "outputs": [
    {
     "data": {
      "text/html": [
       "<div>\n",
       "<style scoped>\n",
       "    .dataframe tbody tr th:only-of-type {\n",
       "        vertical-align: middle;\n",
       "    }\n",
       "\n",
       "    .dataframe tbody tr th {\n",
       "        vertical-align: top;\n",
       "    }\n",
       "\n",
       "    .dataframe thead th {\n",
       "        text-align: right;\n",
       "    }\n",
       "</style>\n",
       "<table border=\"1\" class=\"dataframe\">\n",
       "  <thead>\n",
       "    <tr style=\"text-align: right;\">\n",
       "      <th></th>\n",
       "      <th>ride_id</th>\n",
       "      <th>rideable_type</th>\n",
       "      <th>started_at</th>\n",
       "      <th>ended_at</th>\n",
       "      <th>start_station_name</th>\n",
       "      <th>start_station_id</th>\n",
       "      <th>end_station_name</th>\n",
       "      <th>end_station_id</th>\n",
       "      <th>start_lat</th>\n",
       "      <th>start_lng</th>\n",
       "      <th>end_lat</th>\n",
       "      <th>end_lng</th>\n",
       "      <th>member_casual</th>\n",
       "    </tr>\n",
       "  </thead>\n",
       "  <tbody>\n",
       "    <tr>\n",
       "      <th>0</th>\n",
       "      <td>CFA86D4455AA1030</td>\n",
       "      <td>classic_bike</td>\n",
       "      <td>2021-03-16 08:32:30</td>\n",
       "      <td>2021-03-16 08:36:34</td>\n",
       "      <td>Humboldt Blvd &amp; Armitage Ave</td>\n",
       "      <td>15651</td>\n",
       "      <td>Stave St &amp; Armitage Ave</td>\n",
       "      <td>13266</td>\n",
       "      <td>41.917513</td>\n",
       "      <td>-87.701809</td>\n",
       "      <td>41.917741</td>\n",
       "      <td>-87.691392</td>\n",
       "      <td>casual</td>\n",
       "    </tr>\n",
       "    <tr>\n",
       "      <th>1</th>\n",
       "      <td>30D9DC61227D1AF3</td>\n",
       "      <td>classic_bike</td>\n",
       "      <td>2021-03-28 01:26:28</td>\n",
       "      <td>2021-03-28 01:36:55</td>\n",
       "      <td>Humboldt Blvd &amp; Armitage Ave</td>\n",
       "      <td>15651</td>\n",
       "      <td>Central Park Ave &amp; Bloomingdale Ave</td>\n",
       "      <td>18017</td>\n",
       "      <td>41.917513</td>\n",
       "      <td>-87.701809</td>\n",
       "      <td>41.914166</td>\n",
       "      <td>-87.716755</td>\n",
       "      <td>casual</td>\n",
       "    </tr>\n",
       "    <tr>\n",
       "      <th>2</th>\n",
       "      <td>846D87A15682A284</td>\n",
       "      <td>classic_bike</td>\n",
       "      <td>2021-03-11 21:17:29</td>\n",
       "      <td>2021-03-11 21:33:53</td>\n",
       "      <td>Shields Ave &amp; 28th Pl</td>\n",
       "      <td>15443</td>\n",
       "      <td>Halsted St &amp; 35th St</td>\n",
       "      <td>TA1308000043</td>\n",
       "      <td>41.842733</td>\n",
       "      <td>-87.635491</td>\n",
       "      <td>41.830661</td>\n",
       "      <td>-87.647172</td>\n",
       "      <td>casual</td>\n",
       "    </tr>\n",
       "    <tr>\n",
       "      <th>3</th>\n",
       "      <td>994D05AA75A168F2</td>\n",
       "      <td>classic_bike</td>\n",
       "      <td>2021-03-11 13:26:42</td>\n",
       "      <td>2021-03-11 13:55:41</td>\n",
       "      <td>Winthrop Ave &amp; Lawrence Ave</td>\n",
       "      <td>TA1308000021</td>\n",
       "      <td>Broadway &amp; Sheridan Rd</td>\n",
       "      <td>13323</td>\n",
       "      <td>41.968812</td>\n",
       "      <td>-87.657659</td>\n",
       "      <td>41.952833</td>\n",
       "      <td>-87.649993</td>\n",
       "      <td>casual</td>\n",
       "    </tr>\n",
       "    <tr>\n",
       "      <th>4</th>\n",
       "      <td>DF7464FBE92D8308</td>\n",
       "      <td>classic_bike</td>\n",
       "      <td>2021-03-21 09:09:37</td>\n",
       "      <td>2021-03-21 09:27:33</td>\n",
       "      <td>Glenwood Ave &amp; Touhy Ave</td>\n",
       "      <td>525</td>\n",
       "      <td>Chicago Ave &amp; Sheridan Rd</td>\n",
       "      <td>E008</td>\n",
       "      <td>42.012701</td>\n",
       "      <td>-87.666058</td>\n",
       "      <td>42.050491</td>\n",
       "      <td>-87.677821</td>\n",
       "      <td>casual</td>\n",
       "    </tr>\n",
       "    <tr>\n",
       "      <th>...</th>\n",
       "      <td>...</td>\n",
       "      <td>...</td>\n",
       "      <td>...</td>\n",
       "      <td>...</td>\n",
       "      <td>...</td>\n",
       "      <td>...</td>\n",
       "      <td>...</td>\n",
       "      <td>...</td>\n",
       "      <td>...</td>\n",
       "      <td>...</td>\n",
       "      <td>...</td>\n",
       "      <td>...</td>\n",
       "      <td>...</td>\n",
       "    </tr>\n",
       "    <tr>\n",
       "      <th>5667981</th>\n",
       "      <td>211BE0DC162D85B7</td>\n",
       "      <td>electric_bike</td>\n",
       "      <td>2022-02-23 17:47:49</td>\n",
       "      <td>2022-02-23 18:02:29</td>\n",
       "      <td>NaN</td>\n",
       "      <td>NaN</td>\n",
       "      <td>Leavitt St &amp; Chicago Ave</td>\n",
       "      <td>18058</td>\n",
       "      <td>41.880000</td>\n",
       "      <td>-87.630000</td>\n",
       "      <td>41.895501</td>\n",
       "      <td>-87.682017</td>\n",
       "      <td>member</td>\n",
       "    </tr>\n",
       "    <tr>\n",
       "      <th>5667982</th>\n",
       "      <td>D4D53E78000C8CA1</td>\n",
       "      <td>electric_bike</td>\n",
       "      <td>2022-02-04 10:43:47</td>\n",
       "      <td>2022-02-04 10:50:52</td>\n",
       "      <td>NaN</td>\n",
       "      <td>NaN</td>\n",
       "      <td>Leavitt St &amp; Chicago Ave</td>\n",
       "      <td>18058</td>\n",
       "      <td>41.910000</td>\n",
       "      <td>-87.680000</td>\n",
       "      <td>41.895501</td>\n",
       "      <td>-87.682017</td>\n",
       "      <td>member</td>\n",
       "    </tr>\n",
       "    <tr>\n",
       "      <th>5667983</th>\n",
       "      <td>9E85F07D2F94492B</td>\n",
       "      <td>electric_bike</td>\n",
       "      <td>2022-02-28 09:16:33</td>\n",
       "      <td>2022-02-28 09:28:11</td>\n",
       "      <td>Wood St &amp; Chicago Ave</td>\n",
       "      <td>637</td>\n",
       "      <td>Canal St &amp; Adams St</td>\n",
       "      <td>13011</td>\n",
       "      <td>41.895714</td>\n",
       "      <td>-87.672210</td>\n",
       "      <td>41.879255</td>\n",
       "      <td>-87.639904</td>\n",
       "      <td>member</td>\n",
       "    </tr>\n",
       "    <tr>\n",
       "      <th>5667984</th>\n",
       "      <td>B61B559F81F1D823</td>\n",
       "      <td>electric_bike</td>\n",
       "      <td>2022-02-10 16:55:16</td>\n",
       "      <td>2022-02-10 16:57:53</td>\n",
       "      <td>NaN</td>\n",
       "      <td>NaN</td>\n",
       "      <td>Canal St &amp; Adams St</td>\n",
       "      <td>13011</td>\n",
       "      <td>41.880000</td>\n",
       "      <td>-87.630000</td>\n",
       "      <td>41.879255</td>\n",
       "      <td>-87.639904</td>\n",
       "      <td>member</td>\n",
       "    </tr>\n",
       "    <tr>\n",
       "      <th>5667985</th>\n",
       "      <td>841C701610CF0609</td>\n",
       "      <td>electric_bike</td>\n",
       "      <td>2022-02-21 16:35:20</td>\n",
       "      <td>2022-02-21 16:42:53</td>\n",
       "      <td>NaN</td>\n",
       "      <td>NaN</td>\n",
       "      <td>Larrabee St &amp; Oak St</td>\n",
       "      <td>KA1504000116</td>\n",
       "      <td>41.880000</td>\n",
       "      <td>-87.650000</td>\n",
       "      <td>41.900219</td>\n",
       "      <td>-87.642985</td>\n",
       "      <td>member</td>\n",
       "    </tr>\n",
       "  </tbody>\n",
       "</table>\n",
       "<p>5667986 rows × 13 columns</p>\n",
       "</div>"
      ],
      "text/plain": [
       "                  ride_id  rideable_type           started_at  \\\n",
       "0        CFA86D4455AA1030   classic_bike  2021-03-16 08:32:30   \n",
       "1        30D9DC61227D1AF3   classic_bike  2021-03-28 01:26:28   \n",
       "2        846D87A15682A284   classic_bike  2021-03-11 21:17:29   \n",
       "3        994D05AA75A168F2   classic_bike  2021-03-11 13:26:42   \n",
       "4        DF7464FBE92D8308   classic_bike  2021-03-21 09:09:37   \n",
       "...                   ...            ...                  ...   \n",
       "5667981  211BE0DC162D85B7  electric_bike  2022-02-23 17:47:49   \n",
       "5667982  D4D53E78000C8CA1  electric_bike  2022-02-04 10:43:47   \n",
       "5667983  9E85F07D2F94492B  electric_bike  2022-02-28 09:16:33   \n",
       "5667984  B61B559F81F1D823  electric_bike  2022-02-10 16:55:16   \n",
       "5667985  841C701610CF0609  electric_bike  2022-02-21 16:35:20   \n",
       "\n",
       "                    ended_at            start_station_name start_station_id  \\\n",
       "0        2021-03-16 08:36:34  Humboldt Blvd & Armitage Ave            15651   \n",
       "1        2021-03-28 01:36:55  Humboldt Blvd & Armitage Ave            15651   \n",
       "2        2021-03-11 21:33:53         Shields Ave & 28th Pl            15443   \n",
       "3        2021-03-11 13:55:41   Winthrop Ave & Lawrence Ave     TA1308000021   \n",
       "4        2021-03-21 09:27:33      Glenwood Ave & Touhy Ave              525   \n",
       "...                      ...                           ...              ...   \n",
       "5667981  2022-02-23 18:02:29                           NaN              NaN   \n",
       "5667982  2022-02-04 10:50:52                           NaN              NaN   \n",
       "5667983  2022-02-28 09:28:11         Wood St & Chicago Ave              637   \n",
       "5667984  2022-02-10 16:57:53                           NaN              NaN   \n",
       "5667985  2022-02-21 16:42:53                           NaN              NaN   \n",
       "\n",
       "                            end_station_name end_station_id  start_lat  \\\n",
       "0                    Stave St & Armitage Ave          13266  41.917513   \n",
       "1        Central Park Ave & Bloomingdale Ave          18017  41.917513   \n",
       "2                       Halsted St & 35th St   TA1308000043  41.842733   \n",
       "3                     Broadway & Sheridan Rd          13323  41.968812   \n",
       "4                  Chicago Ave & Sheridan Rd           E008  42.012701   \n",
       "...                                      ...            ...        ...   \n",
       "5667981             Leavitt St & Chicago Ave          18058  41.880000   \n",
       "5667982             Leavitt St & Chicago Ave          18058  41.910000   \n",
       "5667983                  Canal St & Adams St          13011  41.895714   \n",
       "5667984                  Canal St & Adams St          13011  41.880000   \n",
       "5667985                 Larrabee St & Oak St   KA1504000116  41.880000   \n",
       "\n",
       "         start_lng    end_lat    end_lng member_casual  \n",
       "0       -87.701809  41.917741 -87.691392        casual  \n",
       "1       -87.701809  41.914166 -87.716755        casual  \n",
       "2       -87.635491  41.830661 -87.647172        casual  \n",
       "3       -87.657659  41.952833 -87.649993        casual  \n",
       "4       -87.666058  42.050491 -87.677821        casual  \n",
       "...            ...        ...        ...           ...  \n",
       "5667981 -87.630000  41.895501 -87.682017        member  \n",
       "5667982 -87.680000  41.895501 -87.682017        member  \n",
       "5667983 -87.672210  41.879255 -87.639904        member  \n",
       "5667984 -87.630000  41.879255 -87.639904        member  \n",
       "5667985 -87.650000  41.900219 -87.642985        member  \n",
       "\n",
       "[5667986 rows x 13 columns]"
      ]
     },
     "execution_count": 2,
     "metadata": {},
     "output_type": "execute_result"
    }
   ],
   "source": [
    "files = os.path.join(\"C:/Users/Owner/Documents/bike_dataset\", \"*.csv\")\n",
    "\n",
    "files = glob.glob(files)\n",
    "\n",
    "merged = pd.concat(map(pd.read_csv, files), ignore_index=True)\n",
    "\n",
    "merged"
   ]
  },
  {
   "cell_type": "markdown",
   "id": "1fd0e943-24b5-4035-a7e0-3b33146b53cb",
   "metadata": {},
   "source": [
    "##Checking Columns for the Right Format"
   ]
  },
  {
   "cell_type": "code",
   "execution_count": null,
   "id": "19d98f65-2b70-4741-a23f-5e47018677de",
   "metadata": {},
   "outputs": [],
   "source": []
  },
  {
   "cell_type": "code",
   "execution_count": 3,
   "id": "54ca5257-cce6-43dd-b3a4-b0364669be78",
   "metadata": {
    "collapsed": true,
    "jupyter": {
     "outputs_hidden": true
    },
    "tags": []
   },
   "outputs": [
    {
     "name": "stdout",
     "output_type": "stream",
     "text": [
      "<class 'pandas.core.frame.DataFrame'>\n",
      "RangeIndex: 5667986 entries, 0 to 5667985\n",
      "Data columns (total 13 columns):\n",
      " #   Column              Dtype  \n",
      "---  ------              -----  \n",
      " 0   ride_id             object \n",
      " 1   rideable_type       object \n",
      " 2   started_at          object \n",
      " 3   ended_at            object \n",
      " 4   start_station_name  object \n",
      " 5   start_station_id    object \n",
      " 6   end_station_name    object \n",
      " 7   end_station_id      object \n",
      " 8   start_lat           float64\n",
      " 9   start_lng           float64\n",
      " 10  end_lat             float64\n",
      " 11  end_lng             float64\n",
      " 12  member_casual       object \n",
      "dtypes: float64(4), object(9)\n",
      "memory usage: 562.2+ MB\n"
     ]
    }
   ],
   "source": [
    "merged.info()"
   ]
  },
  {
   "cell_type": "markdown",
   "id": "92a9082f-512d-4b5d-9d82-dd51dde1c705",
   "metadata": {},
   "source": [
    "I discovered  the 'started_at' and 'ended_at' Columns were of object type and not datetime\n",
    "Both columns will be converted to a datetime format "
   ]
  },
  {
   "cell_type": "code",
   "execution_count": 4,
   "id": "a8eb4528-7ecf-4469-9018-07d1615406aa",
   "metadata": {
    "collapsed": true,
    "jupyter": {
     "outputs_hidden": true
    },
    "tags": []
   },
   "outputs": [
    {
     "name": "stdout",
     "output_type": "stream",
     "text": [
      "<class 'pandas.core.frame.DataFrame'>\n",
      "RangeIndex: 5667986 entries, 0 to 5667985\n",
      "Data columns (total 13 columns):\n",
      " #   Column              Dtype         \n",
      "---  ------              -----         \n",
      " 0   ride_id             object        \n",
      " 1   rideable_type       object        \n",
      " 2   started_at          datetime64[ns]\n",
      " 3   ended_at            datetime64[ns]\n",
      " 4   start_station_name  object        \n",
      " 5   start_station_id    object        \n",
      " 6   end_station_name    object        \n",
      " 7   end_station_id      object        \n",
      " 8   start_lat           float64       \n",
      " 9   start_lng           float64       \n",
      " 10  end_lat             float64       \n",
      " 11  end_lng             float64       \n",
      " 12  member_casual       object        \n",
      "dtypes: datetime64[ns](2), float64(4), object(7)\n",
      "memory usage: 562.2+ MB\n"
     ]
    }
   ],
   "source": [
    "merged['started_at']= pd.to_datetime(merged['started_at'] )\n",
    "merged['ended_at']  = pd.to_datetime(merged['ended_at'] )\n",
    "merged.info()"
   ]
  },
  {
   "cell_type": "markdown",
   "id": "a0b1646e-2900-4d4f-9b88-87ccc1d1aa2e",
   "metadata": {
    "tags": []
   },
   "source": [
    "#Rename the member_casual column to membership_type"
   ]
  },
  {
   "cell_type": "code",
   "execution_count": 5,
   "id": "5802dada-2d38-423b-8e82-326267528797",
   "metadata": {
    "tags": []
   },
   "outputs": [
    {
     "data": {
      "text/plain": [
       "member    3127293\n",
       "casual    2540693\n",
       "Name: membership_type, dtype: int64"
      ]
     },
     "execution_count": 5,
     "metadata": {},
     "output_type": "execute_result"
    }
   ],
   "source": [
    "merged.rename(\n",
    "    columns={\n",
    "        'member_casual': 'membership_type'\n",
    "    }, inplace = True)\n",
    "\n",
    "merged['membership_type'].value_counts()"
   ]
  },
  {
   "cell_type": "code",
   "execution_count": 6,
   "id": "1620ef5d-387d-4566-814e-634ee225d518",
   "metadata": {
    "collapsed": true,
    "jupyter": {
     "outputs_hidden": true
    },
    "tags": []
   },
   "outputs": [
    {
     "data": {
      "text/plain": [
       "classic_bike     3268797\n",
       "electric_bike    2087901\n",
       "docked_bike       311288\n",
       "Name: rideable_type, dtype: int64"
      ]
     },
     "execution_count": 6,
     "metadata": {},
     "output_type": "execute_result"
    }
   ],
   "source": [
    "merged['rideable_type'].value_counts()"
   ]
  },
  {
   "cell_type": "markdown",
   "id": "df30c758-cbc6-4777-842d-a1d56e9ba94f",
   "metadata": {
    "tags": []
   },
   "source": [
    "##Creating New meterics( duration of journey,weekday and Month)"
   ]
  },
  {
   "cell_type": "code",
   "execution_count": 7,
   "id": "c75dadb6-ede2-43b8-8ed4-7c8ad34320f5",
   "metadata": {
    "collapsed": true,
    "jupyter": {
     "outputs_hidden": true
    },
    "tags": []
   },
   "outputs": [
    {
     "data": {
      "text/plain": [
       "0   0 days 00:04:04\n",
       "1   0 days 00:10:27\n",
       "2   0 days 00:16:24\n",
       "3   0 days 00:28:59\n",
       "4   0 days 00:17:56\n",
       "Name: duration_mins, dtype: timedelta64[ns]"
      ]
     },
     "execution_count": 7,
     "metadata": {},
     "output_type": "execute_result"
    }
   ],
   "source": [
    "merged[\"duration_mins\"]= (merged['ended_at']-merged['started_at'])\n",
    "merged[\"duration_mins\"].head()"
   ]
  },
  {
   "cell_type": "markdown",
   "id": "9496c43a-d692-4068-aa4e-cf0a12fad59e",
   "metadata": {},
   "source": [
    "Inspecting larges values(So that i can validate id the days colums wer convereted)"
   ]
  },
  {
   "cell_type": "code",
   "execution_count": 8,
   "id": "342843c5-2ab3-4c19-88a0-f8004e7010d3",
   "metadata": {
    "collapsed": true,
    "jupyter": {
     "outputs_hidden": true
    },
    "tags": []
   },
   "outputs": [
    {
     "data": {
      "text/plain": [
       "Timedelta('38 days 20:24:09')"
      ]
     },
     "execution_count": 8,
     "metadata": {},
     "output_type": "execute_result"
    }
   ],
   "source": [
    "max(merged[\"duration_mins\"])"
   ]
  },
  {
   "cell_type": "code",
   "execution_count": 9,
   "id": "7a6ae9c2-09ca-4a78-b505-93d8f81775fd",
   "metadata": {
    "collapsed": true,
    "jupyter": {
     "outputs_hidden": true
    },
    "tags": []
   },
   "outputs": [
    {
     "data": {
      "text/plain": [
       "0     4.1\n",
       "1    10.4\n",
       "2    16.4\n",
       "3    29.0\n",
       "4    17.9\n",
       "Name: duration_mins, dtype: float64"
      ]
     },
     "execution_count": 9,
     "metadata": {},
     "output_type": "execute_result"
    }
   ],
   "source": [
    "merged['duration_mins'] = merged['duration_mins'].dt.total_seconds().div(60)\n",
    "merged['duration_mins'] = merged['duration_mins'].round(1)                       \n",
    "merged['duration_mins'].head()"
   ]
  },
  {
   "cell_type": "markdown",
   "id": "a2db43c5-ee3f-4da4-bba6-ca5c039977f6",
   "metadata": {},
   "source": [
    "validated"
   ]
  },
  {
   "cell_type": "code",
   "execution_count": 11,
   "id": "90cac402-9d9e-42f3-8928-b56d6af84e94",
   "metadata": {
    "collapsed": true,
    "jupyter": {
     "outputs_hidden": true
    },
    "tags": []
   },
   "outputs": [
    {
     "data": {
      "text/plain": [
       "55944.2"
      ]
     },
     "execution_count": 11,
     "metadata": {},
     "output_type": "execute_result"
    }
   ],
   "source": [
    "max(merged[\"duration_mins\"])"
   ]
  },
  {
   "cell_type": "code",
   "execution_count": 12,
   "id": "2dcf2990-ef9a-442b-95d0-6399af4362d1",
   "metadata": {
    "collapsed": true,
    "jupyter": {
     "outputs_hidden": true
    },
    "tags": []
   },
   "outputs": [
    {
     "data": {
      "text/plain": [
       "-58.0"
      ]
     },
     "execution_count": 12,
     "metadata": {},
     "output_type": "execute_result"
    }
   ],
   "source": [
    "min(merged[\"duration_mins\"])"
   ]
  },
  {
   "cell_type": "markdown",
   "id": "4bac2ac8-3826-4f99-b327-62a4d7e5a5ea",
   "metadata": {},
   "source": [
    "Adding the Day of the Week bikes were rented "
   ]
  },
  {
   "cell_type": "code",
   "execution_count": 13,
   "id": "92f1edc0-0d9e-4913-89e3-e6139d8e8fd3",
   "metadata": {
    "collapsed": true,
    "jupyter": {
     "outputs_hidden": true
    },
    "tags": []
   },
   "outputs": [
    {
     "name": "stdout",
     "output_type": "stream",
     "text": [
      "<class 'pandas.core.frame.DataFrame'>\n",
      "RangeIndex: 5667986 entries, 0 to 5667985\n",
      "Data columns (total 15 columns):\n",
      " #   Column              Dtype         \n",
      "---  ------              -----         \n",
      " 0   ride_id             object        \n",
      " 1   rideable_type       object        \n",
      " 2   started_at          datetime64[ns]\n",
      " 3   ended_at            datetime64[ns]\n",
      " 4   start_station_name  object        \n",
      " 5   start_station_id    object        \n",
      " 6   end_station_name    object        \n",
      " 7   end_station_id      object        \n",
      " 8   start_lat           float64       \n",
      " 9   start_lng           float64       \n",
      " 10  end_lat             float64       \n",
      " 11  end_lng             float64       \n",
      " 12  membership_type     object        \n",
      " 13  duration_mins       float64       \n",
      " 14  Start_day           object        \n",
      "dtypes: datetime64[ns](2), float64(5), object(8)\n",
      "memory usage: 648.6+ MB\n"
     ]
    }
   ],
   "source": [
    "merged['Start_day'] = merged['started_at'].dt.day_name()\n",
    "merged['Start_day'].head()\n",
    "\n",
    "merged.info()"
   ]
  },
  {
   "cell_type": "markdown",
   "id": "efd87ad1-140f-4585-b085-a6093d3f292a",
   "metadata": {
    "tags": []
   },
   "source": [
    "Heres where i Classifiy the duration according to time\n"
   ]
  },
  {
   "cell_type": "code",
   "execution_count": 15,
   "id": "84be7758-4e8d-46c0-b897-5998f10dc49e",
   "metadata": {
    "collapsed": true,
    "jupyter": {
     "outputs_hidden": true
    },
    "tags": []
   },
   "outputs": [
    {
     "data": {
      "text/plain": [
       "10-20mins    1699136\n",
       "5-10mins     1497241\n",
       "<5mins        896969\n",
       "20-30mins     729557\n",
       "30-40mins     337135\n",
       "1hr-1day      243763\n",
       "40-50mins     164435\n",
       "50-60mins      87758\n",
       "invlaid         7954\n",
       "1day-1wk        3729\n",
       "1wk-1Mnt         302\n",
       "1Mnt-1Yr           7\n",
       "Name: dur_desc, dtype: int64"
      ]
     },
     "execution_count": 15,
     "metadata": {},
     "output_type": "execute_result"
    }
   ],
   "source": [
    "merged['dur_desc']=pd.cut(merged.duration_mins,[-60,0,5,10,20,30,40,50,60,1440,10080,43200,518400],\n",
    "                                                             labels=['invlaid','<5mins','5-10mins','10-20mins','20-30mins','30-40mins','40-50mins','50-60mins','1hr-1day','1day-1wk','1wk-1Mnt','1Mnt-1Yr'])\n",
    "merged['dur_desc'].value_counts()"
   ]
  },
  {
   "cell_type": "code",
   "execution_count": null,
   "id": "44900d6b-d2ae-450d-85a2-aff99217eccb",
   "metadata": {},
   "outputs": [],
   "source": []
  },
  {
   "cell_type": "markdown",
   "id": "83d144be-8b22-428e-865c-18263bd263de",
   "metadata": {},
   "source": [
    "#Data Cleaning Process"
   ]
  },
  {
   "cell_type": "markdown",
   "id": "f2ee6057-d02e-4003-a49b-af42c9f5b557",
   "metadata": {},
   "source": [
    "Inspecting Null values, from inspecting(Code was executed in a complier for checks), Nulls values exists in Start_station_name,Start_station_id,end_station_name,end_station_id, end_lat and end_lng "
   ]
  },
  {
   "cell_type": "code",
   "execution_count": 16,
   "id": "0f949e68-d20b-498c-9dc7-383f286fdd4c",
   "metadata": {
    "collapsed": true,
    "jupyter": {
     "outputs_hidden": true
    },
    "tags": []
   },
   "outputs": [
    {
     "data": {
      "text/plain": [
       "False    4955011\n",
       "True      712975\n",
       "Name: start_station_id, dtype: int64"
      ]
     },
     "execution_count": 16,
     "metadata": {},
     "output_type": "execute_result"
    }
   ],
   "source": [
    "merged.start_station_id.isna().value_counts()"
   ]
  },
  {
   "cell_type": "markdown",
   "id": "2de819c7-14f8-405d-a66e-263267233a62",
   "metadata": {},
   "source": [
    "The best course of action is to use the the values of recuring rows to fill in the blanks\n",
    "to do this, i would first mak array of Start_station_name,Start_station_id, start_lng and start_lat"
   ]
  },
  {
   "cell_type": "code",
   "execution_count": 59,
   "id": "6c62dbf3-af85-45bd-a1b1-5c01661183a1",
   "metadata": {
    "collapsed": true,
    "jupyter": {
     "outputs_hidden": true
    },
    "tags": []
   },
   "outputs": [
    {
     "data": {
      "text/plain": [
       "start_station_name                  start_station_id  start_lng   start_lat\n",
       "Streeter Dr & Grand Ave             13022             -87.612043  41.892278    69302\n",
       "Wells St & Concord Ln               TA1308000050      -87.634656  41.912133    31717\n",
       "Theater on the Lake                 TA1308000001      -87.630834  41.926277    31566\n",
       "Clark St & Elm St                   TA1307000039      -87.631280  41.902973    30506\n",
       "Michigan Ave & Oak St               13042             -87.623777  41.900960    28655\n",
       "                                                                               ...  \n",
       "DuSable Lake Shore Dr & North Blvd  LF-005            -87.626840  41.911704        1\n",
       "                                                                  41.911774        1\n",
       "                                                                  41.911766        1\n",
       "                                                                  41.911758        1\n",
       "Yates Blvd & 93rd St                20237             -87.566264  41.726160        1\n",
       "Length: 1353637, dtype: int64"
      ]
     },
     "execution_count": 59,
     "metadata": {},
     "output_type": "execute_result"
    }
   ],
   "source": [
    "frame =(merged[['start_station_name',\"start_station_id\", \"start_lng\" ,\"start_lat\"]][merged.start_station_id.notna()])\n",
    "frame.value_counts()"
   ]
  },
  {
   "cell_type": "code",
   "execution_count": 57,
   "id": "2693ecfc-2310-4b7b-bc3a-918cf98b0636",
   "metadata": {
    "collapsed": true,
    "jupyter": {
     "outputs_hidden": true
    },
    "tags": []
   },
   "outputs": [
    {
     "data": {
      "text/html": [
       "<div>\n",
       "<style scoped>\n",
       "    .dataframe tbody tr th:only-of-type {\n",
       "        vertical-align: middle;\n",
       "    }\n",
       "\n",
       "    .dataframe tbody tr th {\n",
       "        vertical-align: top;\n",
       "    }\n",
       "\n",
       "    .dataframe thead th {\n",
       "        text-align: right;\n",
       "    }\n",
       "</style>\n",
       "<table border=\"1\" class=\"dataframe\">\n",
       "  <thead>\n",
       "    <tr style=\"text-align: right;\">\n",
       "      <th></th>\n",
       "      <th>start_station_name</th>\n",
       "      <th>start_lng</th>\n",
       "      <th>start_lat</th>\n",
       "    </tr>\n",
       "  </thead>\n",
       "  <tbody>\n",
       "    <tr>\n",
       "      <th>0</th>\n",
       "      <td>2112 W Peterson Ave</td>\n",
       "      <td>-87.683591</td>\n",
       "      <td>41.991174</td>\n",
       "    </tr>\n",
       "    <tr>\n",
       "      <th>1</th>\n",
       "      <td>351</td>\n",
       "      <td>-87.780000</td>\n",
       "      <td>41.930000</td>\n",
       "    </tr>\n",
       "    <tr>\n",
       "      <th>2</th>\n",
       "      <td>63rd St Beach</td>\n",
       "      <td>-87.576247</td>\n",
       "      <td>41.780957</td>\n",
       "    </tr>\n",
       "    <tr>\n",
       "      <th>3</th>\n",
       "      <td>900 W Harrison St</td>\n",
       "      <td>-87.649806</td>\n",
       "      <td>41.874753</td>\n",
       "    </tr>\n",
       "    <tr>\n",
       "      <th>4</th>\n",
       "      <td>Aberdeen St &amp; Jackson Blvd</td>\n",
       "      <td>-87.654809</td>\n",
       "      <td>41.877738</td>\n",
       "    </tr>\n",
       "  </tbody>\n",
       "</table>\n",
       "</div>"
      ],
      "text/plain": [
       "           start_station_name  start_lng  start_lat\n",
       "0         2112 W Peterson Ave -87.683591  41.991174\n",
       "1                         351 -87.780000  41.930000\n",
       "2               63rd St Beach -87.576247  41.780957\n",
       "3           900 W Harrison St -87.649806  41.874753\n",
       "4  Aberdeen St & Jackson Blvd -87.654809  41.877738"
      ]
     },
     "execution_count": 57,
     "metadata": {},
     "output_type": "execute_result"
    }
   ],
   "source": [
    "frame = frame.groupby(['start_station_name']).mean()\n",
    "frame = frame.reset_index()\n",
    "frame.head()"
   ]
  },
  {
   "cell_type": "markdown",
   "id": "6f95a842-ed4b-42f2-b5bc-03859aa8cb9e",
   "metadata": {},
   "source": [
    "for a while, since we will nnot the rating based aon location(tThere are alot of locations , we ill post poned th cleaning of start and end location cells\n",
    "In locating  on the map, we will use start lat and ln combined with deails on \n",
    "On with Cleaning, Lets remove Duration that are negative"
   ]
  },
  {
   "cell_type": "code",
   "execution_count": 76,
   "id": "930a3982-6751-4b16-b135-069cdf30bd41",
   "metadata": {
    "collapsed": true,
    "jupyter": {
     "outputs_hidden": true
    },
    "tags": []
   },
   "outputs": [
    {
     "data": {
      "text/html": [
       "<div>\n",
       "<style scoped>\n",
       "    .dataframe tbody tr th:only-of-type {\n",
       "        vertical-align: middle;\n",
       "    }\n",
       "\n",
       "    .dataframe tbody tr th {\n",
       "        vertical-align: top;\n",
       "    }\n",
       "\n",
       "    .dataframe thead th {\n",
       "        text-align: right;\n",
       "    }\n",
       "</style>\n",
       "<table border=\"1\" class=\"dataframe\">\n",
       "  <thead>\n",
       "    <tr style=\"text-align: right;\">\n",
       "      <th></th>\n",
       "      <th>ride_id</th>\n",
       "      <th>rideable_type</th>\n",
       "      <th>started_at</th>\n",
       "      <th>ended_at</th>\n",
       "      <th>start_station_name</th>\n",
       "      <th>start_station_id</th>\n",
       "      <th>end_station_name</th>\n",
       "      <th>end_station_id</th>\n",
       "      <th>start_lat</th>\n",
       "      <th>start_lng</th>\n",
       "      <th>end_lat</th>\n",
       "      <th>end_lng</th>\n",
       "      <th>membership_type</th>\n",
       "      <th>duration_mins</th>\n",
       "      <th>Start_day</th>\n",
       "      <th>dur_desc</th>\n",
       "    </tr>\n",
       "  </thead>\n",
       "  <tbody>\n",
       "  </tbody>\n",
       "</table>\n",
       "</div>"
      ],
      "text/plain": [
       "Empty DataFrame\n",
       "Columns: [ride_id, rideable_type, started_at, ended_at, start_station_name, start_station_id, end_station_name, end_station_id, start_lat, start_lng, end_lat, end_lng, membership_type, duration_mins, Start_day, dur_desc]\n",
       "Index: []"
      ]
     },
     "execution_count": 76,
     "metadata": {},
     "output_type": "execute_result"
    }
   ],
   "source": [
    "merged = merged[merged['duration_mins'] > 0]\n",
    "merged[merged['duration_mins']<=0]  #Check for -ve values "
   ]
  },
  {
   "cell_type": "markdown",
   "id": "8c501685-cea6-41b1-82a7-a5e1262f4cac",
   "metadata": {
    "tags": []
   },
   "source": [
    "#save file after cleaning"
   ]
  },
  {
   "cell_type": "code",
   "execution_count": 77,
   "id": "d1ae0134-6a94-4e0f-b71c-3a42a7e696b1",
   "metadata": {},
   "outputs": [],
   "source": [
    "merged.to_csv('merged.csv', index=False)"
   ]
  },
  {
   "cell_type": "code",
   "execution_count": 93,
   "id": "d9271674-b045-4398-bd14-90bfaa16c793",
   "metadata": {},
   "outputs": [
    {
     "data": {
      "text/html": [
       "<div>\n",
       "<style scoped>\n",
       "    .dataframe tbody tr th:only-of-type {\n",
       "        vertical-align: middle;\n",
       "    }\n",
       "\n",
       "    .dataframe tbody tr th {\n",
       "        vertical-align: top;\n",
       "    }\n",
       "\n",
       "    .dataframe thead th {\n",
       "        text-align: right;\n",
       "    }\n",
       "</style>\n",
       "<table border=\"1\" class=\"dataframe\">\n",
       "  <thead>\n",
       "    <tr style=\"text-align: right;\">\n",
       "      <th></th>\n",
       "      <th>unique_values</th>\n",
       "      <th>counts</th>\n",
       "    </tr>\n",
       "  </thead>\n",
       "  <tbody>\n",
       "    <tr>\n",
       "      <th>0</th>\n",
       "      <td>member</td>\n",
       "      <td>3121814</td>\n",
       "    </tr>\n",
       "    <tr>\n",
       "      <th>1</th>\n",
       "      <td>casual</td>\n",
       "      <td>2538218</td>\n",
       "    </tr>\n",
       "  </tbody>\n",
       "</table>\n",
       "</div>"
      ],
      "text/plain": [
       "  unique_values   counts\n",
       "0        member  3121814\n",
       "1        casual  2538218"
      ]
     },
     "execution_count": 93,
     "metadata": {},
     "output_type": "execute_result"
    }
   ],
   "source": [
    "merged.membership_type.value_counts().rename_axis('unique_values').reset_index(name='counts')"
   ]
  },
  {
   "cell_type": "markdown",
   "id": "0b385746-b734-469b-84d6-9eff59269708",
   "metadata": {
    "tags": []
   },
   "source": [
    "Visualizations "
   ]
  },
  {
   "cell_type": "markdown",
   "id": "2cd8cd7f-ddbe-4f2f-892d-208837d3b9ab",
   "metadata": {},
   "source": [
    "Make a barplot of dur_desc by membership_type"
   ]
  },
  {
   "cell_type": "code",
   "execution_count": 113,
   "id": "dbd097db-b716-407c-a806-bb7f8c7af5cf",
   "metadata": {},
   "outputs": [
    {
     "data": {
      "text/plain": [
       "<matplotlib.legend.Legend at 0x1f00a485cd0>"
      ]
     },
     "execution_count": 113,
     "metadata": {},
     "output_type": "execute_result"
    },
    {
     "data": {
      "image/png": "[encoded data removed]",
      "text/plain": [
       "<Figure size 432x288 with 1 Axes>"
      ]
     },
     "metadata": {},
     "output_type": "display_data"
    }
   ],
   "source": [
    "mem_type = merged.membership_type.value_counts().rename_axis('type').reset_index(name='counts')\n",
    "plt.pie(mem_type['counts'], labels = mem_type['type'], explode =[0.15,0])\n",
    "plt.suptitle(\"Membership Population\")\n",
    "plt.legend(loc=3)"
   ]
  },
  {
   "cell_type": "markdown",
   "id": "cd33484e-e0da-4b83-b508-d3166de7a60c",
   "metadata": {
    "tags": []
   },
   "source": [
    "Having alomst equal population< lets dive deepber to find categorical"
   ]
  },
  {
   "cell_type": "markdown",
   "id": "bcdbbd3b-85b0-4a47-9117-5ad223daf1c5",
   "metadata": {},
   "source": [
    "Make a barplot of weekday by membership_type"
   ]
  },
  {
   "cell_type": "code",
   "execution_count": null,
   "id": "f816a2ec-38ce-4e3b-bcf9-774280175ac3",
   "metadata": {},
   "outputs": [],
   "source": []
  },
  {
   "cell_type": "markdown",
   "id": "4697d8c4-39d9-400b-a51d-39dbb45d07e9",
   "metadata": {},
   "source": [
    "Make a barplot of dur_desc by membership_type"
   ]
  },
  {
   "cell_type": "code",
   "execution_count": null,
   "id": "b3f11839-9786-4c07-91e5-28008c4227d7",
   "metadata": {},
   "outputs": [],
   "source": []
  },
  {
   "cell_type": "markdown",
   "id": "29c939ef-97de-4d9f-aaa2-2deec971baaf",
   "metadata": {},
   "source": [
    "Make a barplot of ridable_type by membership_type"
   ]
  },
  {
   "cell_type": "code",
   "execution_count": null,
   "id": "ee1f3282-9b79-4516-a29c-052457629983",
   "metadata": {},
   "outputs": [],
   "source": []
  },
  {
   "cell_type": "code",
   "execution_count": null,
   "id": "f435e9f6-15ab-4f94-ae3b-d7ffefda645f",
   "metadata": {},
   "outputs": [],
   "source": []
  }
 ],
 "metadata": {
  "kernelspec": {
   "display_name": "Python 3 (ipykernel)",
   "language": "python",
   "name": "python3"
  },
  "language_info": {
   "codemirror_mode": {
    "name": "ipython",
    "version": 3
   },
   "file_extension": ".py",
   "mimetype": "text/x-python",
   "name": "python",
   "nbconvert_exporter": "python",
   "pygments_lexer": "ipython3",
   "version": "3.9.7"
  }
 },
 "nbformat": 4,
 "nbformat_minor": 5
}
