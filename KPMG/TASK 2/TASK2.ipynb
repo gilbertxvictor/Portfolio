{
 "cells": [
  {
   "cell_type": "code",
   "execution_count": 1,
   "metadata": {},
   "outputs": [],
   "source": [
    "## IMPORT RELEVANT LIBRAIES\n",
    "\n",
    "# DATA WRANGLING AND ANALYSIS\n",
    "import pandas   as pd\n",
    "import datetime as dt\n",
    "import numpy    as np\n",
    "from   skimpy   import skim\n",
    "from   random   import choice \n",
    "#import missingno\n",
    "\n",
    "# DATA VISULIZATION \n",
    "import seaborn           as sns\n",
    "import matplotlib.pyplot as plt\n",
    "\n",
    "# DATE MANIPULATION\n",
    "#from dateutil.relativedelta import relativedelta"
   ]
  },
  {
   "cell_type": "code",
   "execution_count": 2,
   "metadata": {},
   "outputs": [
    {
     "name": "stderr",
     "output_type": "stream",
     "text": [
      "C:\\Users\\Owner\\AppData\\Local\\Temp\\ipykernel_7384\\3887902963.py:4: FutureWarning: Inferring datetime64[ns] from data containing strings is deprecated and will be removed in a future version. To retain the old behavior explicitly pass Series(data, dtype=datetime64[ns])\n",
      "  cusDemo    = pd.read_excel('KPMG_VI_New_raw_data_update_final.xlsx', sheet_name = 3 , parse_dates=True)\n"
     ]
    }
   ],
   "source": [
    "#Import relevant datasets \n",
    "\n",
    "# CUSTOMER DEMOGRAPHIC DATASET\n",
    "cusDemo    = pd.read_excel('KPMG_VI_New_raw_data_update_final.xlsx',sheet_name = 3 , parse_dates=True)\n",
    "#Transation DATA\n",
    "transc     = pd.read_excel('KPMG_VI_New_raw_data_update_final.xlsx', sheet_name = 1, parse_dates=True) \n",
    "#CUSTOMER ADDRESS\n",
    "cusAddress = pd.read_excel('KPMG_VI_New_raw_data_update_final.xlsx', sheet_name = 4, parse_dates=True) "
   ]
  },
  {
   "cell_type": "markdown",
   "metadata": {},
   "source": [
    "#### DATA CLEANING - CUSTOMER DEMOGRAPHICS"
   ]
  },
  {
   "cell_type": "code",
   "execution_count": 3,
   "metadata": {},
   "outputs": [],
   "source": [
    "cusDemo_cleaned              = cusDemo.copy() \n",
    "cusDemo_cleaned.drop(columns = ['first_name', 'last_name', 'default'], inplace = True)\n",
    "\n",
    "#Clean up gender column\n",
    "cusDemo_cleaned.gender = cusDemo_cleaned['gender'].replace({ 'Male': 'M',\n",
    "                                                'Female': 'F',\n",
    "                                                'Femal': 'F'})\n",
    "\n",
    "y  = 2017    \n",
    "cusDemo_cleaned.DOB.fillna(cusDemo_cleaned.DOB.mode()[0], inplace = True)\n",
    "cusDemo_cleaned.DOB = round(y - cusDemo_cleaned.DOB.dt.year).astype(int)\n",
    "cusDemo_cleaned     = cusDemo_cleaned[cusDemo_cleaned.DOB < 100]\n",
    "\n",
    "#GROUP AGE(Countinous) into discrete variables \n",
    "bins    = np.arange(7.5,97.5,5)\n",
    "labels_ = np.arange(10,95,5)\n",
    "cusDemo_cleaned['AgeClass'] = pd.cut(cusDemo_cleaned.DOB, bins, labels = labels_)\n",
    "#cusDemo_cleaned[['AgeClass', 'DOB']]\n",
    "\n",
    "# Function to fill missing values with random integers between 1 and 22\n",
    "def fill_missing_with_random_row(row):\n",
    "    return row.apply(lambda x: np.random.randint(1, 22) if pd.isnull(x) else x)\n",
    "\n",
    "# Apply the function to the specified row\n",
    "cusDemo_cleaned.tenure = fill_missing_with_random_row(cusDemo_cleaned.tenure)\n",
    "\n",
    "\n",
    "\"\"\"Convert thsis statement direclty to a pandas dataframe instead of converting to csv first\"\"\"\n",
    "#cusDemo_cleaned[[\"wealth_segment\",\"job_title\",\"job_industry_category\"]].groupby([\"wealth_segment\",\"job_industry_category\"]).value_counts().to_csv(\"check_dist.csv\")\n",
    "dictw = pd.read_csv(\"check_dist.csv\")\n",
    "\n",
    "dictw[(dictw.wealth_segment == \"Affluent Customer\") \n",
    "      & (dictw.job_title == \"Editor\")].job_industry_category.to_list()\n",
    "\n",
    "# Function to fill missing values in column C\n",
    "jic_all = list(dictw.job_industry_category.unique())\n",
    "cusDemo_cleaned \n",
    "\n",
    "def fill_missing_values(cusDemo_cleaned):\n",
    "    for index, row in cusDemo_cleaned.iterrows():\n",
    "        if pd.isnull(row['job_industry_category']):\n",
    "            jic = dictw[(dictw.wealth_segment == row['wealth_segment']) & (dictw.job_title == row['job_title'])].job_industry_category.to_list()\n",
    "            if len(jic) < 1:\n",
    "                 cusDemo_cleaned.at[index, 'job_industry_category'] = choice(jic_all)\n",
    "            else :\n",
    "                cusDemo_cleaned.at[index, 'job_industry_category'] = choice(jic)\n",
    "    return cusDemo_cleaned\n",
    "\n",
    "# Apply the function to the DataFrame\n",
    "cusDemo_cleaned = fill_missing_values(cusDemo_cleaned)\n",
    "\n",
    "#Yet to be tested\n",
    "cusDemo_cleaned.job_title.fillna(\"Unspecified\", inplace = True)"
   ]
  },
  {
   "cell_type": "code",
   "execution_count": null,
   "metadata": {},
   "outputs": [],
   "source": [
    "cusDemo_cleaned = cusDemo.copy() \n",
    "\n",
    "##### DROP IRRELEVANT COLUMNS\n",
    "'''\n",
    "Drop  default column, i doesnt have a meaning\n",
    "Drop  default first and last names, Name will not influence purchase pattern\n",
    "'''\n",
    "cusDemo_cleaned.drop(columns = ['first_name', 'last_name', 'default'], inplace = True)\n",
    "#### CLEAN DATE OF BIRTH COLUMN\n",
    "\"\"\" \n",
    "- Convert Date of birth to Age \n",
    "- Drop null values\n",
    "- Find and drop outliers\n",
    "\"\"\"\n",
    "\n",
    "# CONVERT DATE OF BIRTH TO AGE AND CLASSIFY IN TENS \n",
    "#take the maximum transcatodedate as the time of the project \n",
    "y  = 2017    \n",
    "\"\"\"Fill missing age with mode\"\"\"\n",
    "cusDemo_cleaned.DOB.fillna(cusDemo_cleaned.DOB.mode()[0], inplace = True)\n",
    "cusDemo_cleaned.DOB = round(y - cusDemo_cleaned.DOB.dt.year).astype(int)\n",
    "#It seen there is an outlier Age, Lets find out if there are more than one customer that is more than  100 years old \n",
    "\n",
    "\"\"\"\n",
    "Oops!, her just caught an oulier.\n",
    "In a real life situation, we can verify the customer age bu in this case, i will drop the customer from our database \n",
    "and the null date of births\n",
    "\"\"\"\n",
    "cusDemo_cleaned = cusDemo_cleaned[cusDemo_cleaned.DOB < 100]\n",
    "\"\"\"Classify age into bins\"\"\"\n",
    "\n",
    "# Clean job_title','job_industry_category Columns\n",
    "\"\"\"\"\n",
    "- Find cell is missing values\n",
    "- Drop nulls in both category ---> 'job_title','job_industry_category'\n",
    "\"\"\"\n",
    "\n",
    "cusDemo_cleaned.job_industry_category.isna().value_counts()\n",
    "cusDemo_cleaned.dropna(how = 'any')\n",
    "\n",
    "# Attain unique job title to job industry \n",
    "job_to_title = cusDemo_cleaned[['job_title','job_industry_category']].dropna().drop_duplicates().reset_index(drop = True)\n",
    "\n",
    "job_to_title[job_to_title.job_title == 'Blank']\n",
    "              \n",
    "test = cusDemo[['customer_id','DOB']].dropna()\n",
    "test['AGE'] = 2017 - test.DOB.dt.year\n",
    "test.AGE.astype(int)\n",
    "\n",
    "test = test[test != test.AGE.max()]\n",
    "\n",
    "bins = np.arange(10,100,10)\n",
    "labels_ = np.arange(10,90,10)\n",
    "test['Grouping'] = pd.cut(test.AGE, bins, labels = labels_ )\n",
    "test\n"
   ]
  },
  {
   "cell_type": "markdown",
   "metadata": {},
   "source": [
    "#### DATA CLEANING - address data "
   ]
  },
  {
   "cell_type": "code",
   "execution_count": 4,
   "metadata": {},
   "outputs": [],
   "source": [
    "cusDemo_cleaned\n",
    "cusAddress_cleaned = cusAddress.drop([\"country\"],axis =1) \n",
    "\n",
    "cusAddress_cleaned.state = cusAddress_cleaned['state'].replace({ 'New South Wales': 'NSW',\n",
    "                                                'Victoria': 'VIC'})"
   ]
  },
  {
   "cell_type": "markdown",
   "metadata": {},
   "source": [
    "#### DATA MERGING  - address and demographics data "
   ]
  },
  {
   "cell_type": "code",
   "execution_count": 5,
   "metadata": {},
   "outputs": [],
   "source": [
    "customer_data = cusDemo_cleaned.merge(cusAddress_cleaned, how = \"inner\", on = \"customer_id\")"
   ]
  },
  {
   "cell_type": "markdown",
   "metadata": {},
   "source": [
    "#### DATA CLEANING - transcation data "
   ]
  },
  {
   "cell_type": "code",
   "execution_count": 5,
   "metadata": {},
   "outputs": [],
   "source": [
    "# Copy the transaaction data \n",
    "trans_cleaned = transc.copy()\n",
    "\n",
    "# Investigate if there multiple transactions recorded \n",
    "trans_cleaned.transaction_id.duplicated().value_counts()\n",
    "\"\"\"No duplicate transaction Id\"\"\"\n",
    "\n",
    "# Convert product_first_sold_date to the right format \n",
    "trans_cleaned['product_first_sold_date'] = pd.to_datetime(trans_cleaned['product_first_sold_date'],\n",
    "                                           unit = 'D',\n",
    "                                           origin ='1899-12-30' )\n",
    "\n",
    "#Convert online type to Boolean\n",
    "def changeBoolean(var):\n",
    "    if   var == 0.0:\n",
    "        return False\n",
    "    elif var == 1.0:\n",
    "        return True\n",
    "    else           :\n",
    "        return True \n",
    "    \n",
    "trans_cleaned['online_order'] = trans_cleaned['online_order'].apply(changeBoolean)\n",
    "\n",
    "#Drop missing colums(validation)\n",
    "trans_cleaned.dropna(inplace= True)\n",
    "# Use only approved transcations \n",
    "trans_cleaned = trans_cleaned[trans_cleaned.order_status == 'Approved']\n",
    "\n",
    "# ADD a profit column and profit ratio\n",
    "trans_cleaned['profit']      = trans_cleaned['list_price'] - trans_cleaned['standard_cost']\n",
    "trans_cleaned['profitRatio'] = trans_cleaned['list_price'] / trans_cleaned['standard_cost']"
   ]
  },
  {
   "cell_type": "code",
   "execution_count": null,
   "metadata": {},
   "outputs": [],
   "source": [
    "# drop columns with null profit \n",
    "trans_cleaned          = trans_cleaned[trans_cleaned['profit'].notna()]\n",
    "\n",
    "## ADD AN UNSPECIFIED COLUMN TO online_order that is na\n",
    "trans_cleaned.online_order.fillna('Unspecified', inplace=True)\n",
    "\n",
    "# Find all categorical columns \n",
    "columns = [i for i in list(trans_cleaned.columns) if trans_cleaned[i].dtype == 'O']\n",
    "\n",
    "for item in columns:\n",
    "    print(f'{item} unique Values {trans_cleaned[item].unique()}')\n",
    "    \n",
    "# Observe thatcertain transactions were cancelled and note that Cancelled transactions dont add up to the revenue\n",
    "trans_cleaned.order_status.value_counts() "
   ]
  },
  {
   "cell_type": "markdown",
   "metadata": {},
   "source": [
    "#### THE  RELEVANT METRICS I USE WILL BE \n",
    "- TOTAL AND AVERAGE REVENUE PER CUSTOMER \n",
    "- FREQUENCY OF TRANSCATION \n",
    "- AVERAGE PROFIT RATIO  PER TRANSACTION "
   ]
  },
  {
   "cell_type": "code",
   "execution_count": 6,
   "metadata": {},
   "outputs": [],
   "source": [
    "transcMetrics = trans_cleaned.groupby('customer_id').agg({'profit' : ['sum', 'mean'],\n",
    "                                          \"customer_id\" : 'count' ,\n",
    "                                          'profitRatio' : ['sum', 'mean']})"
   ]
  },
  {
   "cell_type": "code",
   "execution_count": 26,
   "metadata": {},
   "outputs": [],
   "source": [
    "trans_cleaned.to_csv(\"transaction.csv\", index = False)\n",
    "cusDemo_cleaned.to_csv(\"demographics.csv\", index = False)\n",
    "cusAddress_cleaned.to_csv(\"address.csv\", index = False)"
   ]
  },
  {
   "cell_type": "code",
   "execution_count": 58,
   "metadata": {},
   "outputs": [
    {
     "data": {
      "image/png": "[encoded data removed]",
      "text/plain": [
       "<Figure size 720x432 with 1 Axes>"
      ]
     },
     "metadata": {
      "needs_background": "light"
     },
     "output_type": "display_data"
    },
    {
     "data": {
      "image/png": "[encoded data removed]",
      "text/plain": [
       "<Figure size 720x432 with 1 Axes>"
      ]
     },
     "metadata": {
      "needs_background": "light"
     },
     "output_type": "display_data"
    }
   ],
   "source": [
    "#What State has the most population and profit margin \n",
    "a = trans_cleaned.merge(cusAddress_cleaned, how = \"inner\", on = \"customer_id\")\n",
    "a1 = a.groupby('state').agg({'profit' : ['sum'] , \"customer_id\" : 'nunique'})\n",
    "\n",
    "a1.columns = ['total_profit', 'unique_customers']\n",
    "a1['profit_per_customer'] = a1['total_profit'] / a1['unique_customers']\n",
    "# Plotting the bar chart using seaborn\n",
    "plt.figure(figsize=(10, 6))\n",
    "plt.bar(a1.index, a1['profit_per_customer'], color='blue')\n",
    "plt.title('Profit Per Customer')\n",
    "plt.xlabel('State')\n",
    "plt.ylabel('Profit Per Customer')\n",
    "plt.ylim(2900, 3200)\n",
    "plt.show()\n",
    "\n",
    "plt.figure(figsize=(10, 6))\n",
    "plt.bar(a1.index, a1['total_profit'], color='blue')\n",
    "plt.title('Total Profit Per state')\n",
    "plt.xlabel('State')\n",
    "plt.ylabel('Total Profit')\n",
    "plt.ylim(2000000, 6000000)\n",
    "plt.show()"
   ]
  },
  {
   "cell_type": "code",
   "execution_count": 65,
   "metadata": {},
   "outputs": [
    {
     "data": {
      "image/png": "[encoded data removed]",
      "text/plain": [
       "<Figure size 720x432 with 1 Axes>"
      ]
     },
     "metadata": {
      "needs_background": "light"
     },
     "output_type": "display_data"
    }
   ],
   "source": [
    "a = trans_cleaned.merge(cusDemo_cleaned, how = \"inner\", on = \"customer_id\")\n",
    "a1 = a.groupby('AgeClass').agg({'profit' : ['sum'] , \"customer_id\" : 'nunique'})\n",
    "\n",
    "a1.columns = ['total_profit', 'unique_customers']\n",
    "a1['profit_per_customer'] = a1['total_profit'] / a1['unique_customers']\n",
    "# Plotting the bar chart using seaborn\n",
    "plt.figure(figsize=(10, 6))\n",
    "plt.bar(a1.index, a1['profit_per_customer'], color='blue')\n",
    "plt.title('Profit_per_customer per Age Class')\n",
    "plt.xlabel('Age Class')\n",
    "plt.ylabel('Profit')\n",
    "#plt.ylim(2900, 3200)\n",
    "plt.show()"
   ]
  },
  {
   "cell_type": "code",
   "execution_count": 12,
   "metadata": {},
   "outputs": [
    {
     "ename": "TypeError",
     "evalue": "'value' must be an instance of str or bytes, not a tuple",
     "output_type": "error",
     "traceback": [
      "\u001b[1;31m---------------------------------------------------------------------------\u001b[0m",
      "\u001b[1;31mTypeError\u001b[0m                                 Traceback (most recent call last)",
      "Input \u001b[1;32mIn [12]\u001b[0m, in \u001b[0;36m<cell line: 9>\u001b[1;34m()\u001b[0m\n\u001b[0;32m      6\u001b[0m a1[\u001b[38;5;124m'\u001b[39m\u001b[38;5;124mprofit_per_customer\u001b[39m\u001b[38;5;124m'\u001b[39m] \u001b[38;5;241m=\u001b[39m a1[\u001b[38;5;124m'\u001b[39m\u001b[38;5;124mtotal_profit\u001b[39m\u001b[38;5;124m'\u001b[39m] \u001b[38;5;241m/\u001b[39m a1[\u001b[38;5;124m'\u001b[39m\u001b[38;5;124munique_customers\u001b[39m\u001b[38;5;124m'\u001b[39m]\n\u001b[0;32m      8\u001b[0m plt\u001b[38;5;241m.\u001b[39mfigure(figsize\u001b[38;5;241m=\u001b[39m(\u001b[38;5;241m10\u001b[39m, \u001b[38;5;241m6\u001b[39m))\n\u001b[1;32m----> 9\u001b[0m \u001b[43mplt\u001b[49m\u001b[38;5;241;43m.\u001b[39;49m\u001b[43mbar\u001b[49m\u001b[43m(\u001b[49m\u001b[43ma1\u001b[49m\u001b[38;5;241;43m.\u001b[39;49m\u001b[43mindex\u001b[49m\u001b[43m,\u001b[49m\u001b[43m \u001b[49m\u001b[43ma1\u001b[49m\u001b[43m[\u001b[49m\u001b[38;5;124;43m'\u001b[39;49m\u001b[38;5;124;43mprofit_per_customer\u001b[39;49m\u001b[38;5;124;43m'\u001b[39;49m\u001b[43m]\u001b[49m\u001b[43m,\u001b[49m\u001b[43m \u001b[49m\u001b[43mcolor\u001b[49m\u001b[38;5;241;43m=\u001b[39;49m\u001b[38;5;124;43m'\u001b[39;49m\u001b[38;5;124;43mblue\u001b[39;49m\u001b[38;5;124;43m'\u001b[39;49m\u001b[43m)\u001b[49m\n\u001b[0;32m     10\u001b[0m plt\u001b[38;5;241m.\u001b[39mtitle(\u001b[38;5;124m'\u001b[39m\u001b[38;5;124mProfit_per_customer per Age Class\u001b[39m\u001b[38;5;124m'\u001b[39m)\n\u001b[0;32m     11\u001b[0m plt\u001b[38;5;241m.\u001b[39mxlabel(\u001b[38;5;124m'\u001b[39m\u001b[38;5;124mAge Class\u001b[39m\u001b[38;5;124m'\u001b[39m)\n",
      "File \u001b[1;32mc:\\Users\\Owner\\AppData\\Local\\Programs\\Python\\Python310\\lib\\site-packages\\matplotlib\\pyplot.py:2399\u001b[0m, in \u001b[0;36mbar\u001b[1;34m(x, height, width, bottom, align, data, **kwargs)\u001b[0m\n\u001b[0;32m   2395\u001b[0m \u001b[38;5;129m@_copy_docstring_and_deprecators\u001b[39m(Axes\u001b[38;5;241m.\u001b[39mbar)\n\u001b[0;32m   2396\u001b[0m \u001b[38;5;28;01mdef\u001b[39;00m \u001b[38;5;21mbar\u001b[39m(\n\u001b[0;32m   2397\u001b[0m         x, height, width\u001b[38;5;241m=\u001b[39m\u001b[38;5;241m0.8\u001b[39m, bottom\u001b[38;5;241m=\u001b[39m\u001b[38;5;28;01mNone\u001b[39;00m, \u001b[38;5;241m*\u001b[39m, align\u001b[38;5;241m=\u001b[39m\u001b[38;5;124m'\u001b[39m\u001b[38;5;124mcenter\u001b[39m\u001b[38;5;124m'\u001b[39m,\n\u001b[0;32m   2398\u001b[0m         data\u001b[38;5;241m=\u001b[39m\u001b[38;5;28;01mNone\u001b[39;00m, \u001b[38;5;241m*\u001b[39m\u001b[38;5;241m*\u001b[39mkwargs):\n\u001b[1;32m-> 2399\u001b[0m     \u001b[38;5;28;01mreturn\u001b[39;00m gca()\u001b[38;5;241m.\u001b[39mbar(\n\u001b[0;32m   2400\u001b[0m         x, height, width\u001b[38;5;241m=\u001b[39mwidth, bottom\u001b[38;5;241m=\u001b[39mbottom, align\u001b[38;5;241m=\u001b[39malign,\n\u001b[0;32m   2401\u001b[0m         \u001b[38;5;241m*\u001b[39m\u001b[38;5;241m*\u001b[39m({\u001b[38;5;124m\"\u001b[39m\u001b[38;5;124mdata\u001b[39m\u001b[38;5;124m\"\u001b[39m: data} \u001b[38;5;28;01mif\u001b[39;00m data \u001b[38;5;129;01mis\u001b[39;00m \u001b[38;5;129;01mnot\u001b[39;00m \u001b[38;5;28;01mNone\u001b[39;00m \u001b[38;5;28;01melse\u001b[39;00m {}), \u001b[38;5;241m*\u001b[39m\u001b[38;5;241m*\u001b[39mkwargs)\n",
      "File \u001b[1;32mc:\\Users\\Owner\\AppData\\Local\\Programs\\Python\\Python310\\lib\\site-packages\\matplotlib\\__init__.py:1412\u001b[0m, in \u001b[0;36m_preprocess_data.<locals>.inner\u001b[1;34m(ax, data, *args, **kwargs)\u001b[0m\n\u001b[0;32m   1409\u001b[0m \u001b[38;5;129m@functools\u001b[39m\u001b[38;5;241m.\u001b[39mwraps(func)\n\u001b[0;32m   1410\u001b[0m \u001b[38;5;28;01mdef\u001b[39;00m \u001b[38;5;21minner\u001b[39m(ax, \u001b[38;5;241m*\u001b[39margs, data\u001b[38;5;241m=\u001b[39m\u001b[38;5;28;01mNone\u001b[39;00m, \u001b[38;5;241m*\u001b[39m\u001b[38;5;241m*\u001b[39mkwargs):\n\u001b[0;32m   1411\u001b[0m     \u001b[38;5;28;01mif\u001b[39;00m data \u001b[38;5;129;01mis\u001b[39;00m \u001b[38;5;28;01mNone\u001b[39;00m:\n\u001b[1;32m-> 1412\u001b[0m         \u001b[38;5;28;01mreturn\u001b[39;00m func(ax, \u001b[38;5;241m*\u001b[39m\u001b[38;5;28mmap\u001b[39m(sanitize_sequence, args), \u001b[38;5;241m*\u001b[39m\u001b[38;5;241m*\u001b[39mkwargs)\n\u001b[0;32m   1414\u001b[0m     bound \u001b[38;5;241m=\u001b[39m new_sig\u001b[38;5;241m.\u001b[39mbind(ax, \u001b[38;5;241m*\u001b[39margs, \u001b[38;5;241m*\u001b[39m\u001b[38;5;241m*\u001b[39mkwargs)\n\u001b[0;32m   1415\u001b[0m     auto_label \u001b[38;5;241m=\u001b[39m (bound\u001b[38;5;241m.\u001b[39marguments\u001b[38;5;241m.\u001b[39mget(label_namer)\n\u001b[0;32m   1416\u001b[0m                   \u001b[38;5;129;01mor\u001b[39;00m bound\u001b[38;5;241m.\u001b[39mkwargs\u001b[38;5;241m.\u001b[39mget(label_namer))\n",
      "File \u001b[1;32mc:\\Users\\Owner\\AppData\\Local\\Programs\\Python\\Python310\\lib\\site-packages\\matplotlib\\axes\\_axes.py:2317\u001b[0m, in \u001b[0;36mAxes.bar\u001b[1;34m(self, x, height, width, bottom, align, **kwargs)\u001b[0m\n\u001b[0;32m   2314\u001b[0m         x \u001b[38;5;241m=\u001b[39m \u001b[38;5;241m0\u001b[39m\n\u001b[0;32m   2316\u001b[0m \u001b[38;5;28;01mif\u001b[39;00m orientation \u001b[38;5;241m==\u001b[39m \u001b[38;5;124m'\u001b[39m\u001b[38;5;124mvertical\u001b[39m\u001b[38;5;124m'\u001b[39m:\n\u001b[1;32m-> 2317\u001b[0m     \u001b[38;5;28;43mself\u001b[39;49m\u001b[38;5;241;43m.\u001b[39;49m\u001b[43m_process_unit_info\u001b[49m\u001b[43m(\u001b[49m\n\u001b[0;32m   2318\u001b[0m \u001b[43m        \u001b[49m\u001b[43m[\u001b[49m\u001b[43m(\u001b[49m\u001b[38;5;124;43m\"\u001b[39;49m\u001b[38;5;124;43mx\u001b[39;49m\u001b[38;5;124;43m\"\u001b[39;49m\u001b[43m,\u001b[49m\u001b[43m \u001b[49m\u001b[43mx\u001b[49m\u001b[43m)\u001b[49m\u001b[43m,\u001b[49m\u001b[43m \u001b[49m\u001b[43m(\u001b[49m\u001b[38;5;124;43m\"\u001b[39;49m\u001b[38;5;124;43my\u001b[39;49m\u001b[38;5;124;43m\"\u001b[39;49m\u001b[43m,\u001b[49m\u001b[43m \u001b[49m\u001b[43mheight\u001b[49m\u001b[43m)\u001b[49m\u001b[43m]\u001b[49m\u001b[43m,\u001b[49m\u001b[43m \u001b[49m\u001b[43mkwargs\u001b[49m\u001b[43m,\u001b[49m\u001b[43m \u001b[49m\u001b[43mconvert\u001b[49m\u001b[38;5;241;43m=\u001b[39;49m\u001b[38;5;28;43;01mFalse\u001b[39;49;00m\u001b[43m)\u001b[49m\n\u001b[0;32m   2319\u001b[0m     \u001b[38;5;28;01mif\u001b[39;00m log:\n\u001b[0;32m   2320\u001b[0m         \u001b[38;5;28mself\u001b[39m\u001b[38;5;241m.\u001b[39mset_yscale(\u001b[38;5;124m'\u001b[39m\u001b[38;5;124mlog\u001b[39m\u001b[38;5;124m'\u001b[39m, nonpositive\u001b[38;5;241m=\u001b[39m\u001b[38;5;124m'\u001b[39m\u001b[38;5;124mclip\u001b[39m\u001b[38;5;124m'\u001b[39m)\n",
      "File \u001b[1;32mc:\\Users\\Owner\\AppData\\Local\\Programs\\Python\\Python310\\lib\\site-packages\\matplotlib\\axes\\_base.py:2526\u001b[0m, in \u001b[0;36m_AxesBase._process_unit_info\u001b[1;34m(self, datasets, kwargs, convert)\u001b[0m\n\u001b[0;32m   2524\u001b[0m     \u001b[38;5;66;03m# Update from data if axis is already set but no unit is set yet.\u001b[39;00m\n\u001b[0;32m   2525\u001b[0m     \u001b[38;5;28;01mif\u001b[39;00m axis \u001b[38;5;129;01mis\u001b[39;00m \u001b[38;5;129;01mnot\u001b[39;00m \u001b[38;5;28;01mNone\u001b[39;00m \u001b[38;5;129;01mand\u001b[39;00m data \u001b[38;5;129;01mis\u001b[39;00m \u001b[38;5;129;01mnot\u001b[39;00m \u001b[38;5;28;01mNone\u001b[39;00m \u001b[38;5;129;01mand\u001b[39;00m \u001b[38;5;129;01mnot\u001b[39;00m axis\u001b[38;5;241m.\u001b[39mhave_units():\n\u001b[1;32m-> 2526\u001b[0m         \u001b[43maxis\u001b[49m\u001b[38;5;241;43m.\u001b[39;49m\u001b[43mupdate_units\u001b[49m\u001b[43m(\u001b[49m\u001b[43mdata\u001b[49m\u001b[43m)\u001b[49m\n\u001b[0;32m   2527\u001b[0m \u001b[38;5;28;01mfor\u001b[39;00m axis_name, axis \u001b[38;5;129;01min\u001b[39;00m axis_map\u001b[38;5;241m.\u001b[39mitems():\n\u001b[0;32m   2528\u001b[0m     \u001b[38;5;66;03m# Return if no axis is set.\u001b[39;00m\n\u001b[0;32m   2529\u001b[0m     \u001b[38;5;28;01mif\u001b[39;00m axis \u001b[38;5;129;01mis\u001b[39;00m \u001b[38;5;28;01mNone\u001b[39;00m:\n",
      "File \u001b[1;32mc:\\Users\\Owner\\AppData\\Local\\Programs\\Python\\Python310\\lib\\site-packages\\matplotlib\\axis.py:1449\u001b[0m, in \u001b[0;36mAxis.update_units\u001b[1;34m(self, data)\u001b[0m\n\u001b[0;32m   1447\u001b[0m neednew \u001b[38;5;241m=\u001b[39m \u001b[38;5;28mself\u001b[39m\u001b[38;5;241m.\u001b[39mconverter \u001b[38;5;241m!=\u001b[39m converter\n\u001b[0;32m   1448\u001b[0m \u001b[38;5;28mself\u001b[39m\u001b[38;5;241m.\u001b[39mconverter \u001b[38;5;241m=\u001b[39m converter\n\u001b[1;32m-> 1449\u001b[0m default \u001b[38;5;241m=\u001b[39m \u001b[38;5;28;43mself\u001b[39;49m\u001b[38;5;241;43m.\u001b[39;49m\u001b[43mconverter\u001b[49m\u001b[38;5;241;43m.\u001b[39;49m\u001b[43mdefault_units\u001b[49m\u001b[43m(\u001b[49m\u001b[43mdata\u001b[49m\u001b[43m,\u001b[49m\u001b[43m \u001b[49m\u001b[38;5;28;43mself\u001b[39;49m\u001b[43m)\u001b[49m\n\u001b[0;32m   1450\u001b[0m \u001b[38;5;28;01mif\u001b[39;00m default \u001b[38;5;129;01mis\u001b[39;00m \u001b[38;5;129;01mnot\u001b[39;00m \u001b[38;5;28;01mNone\u001b[39;00m \u001b[38;5;129;01mand\u001b[39;00m \u001b[38;5;28mself\u001b[39m\u001b[38;5;241m.\u001b[39munits \u001b[38;5;129;01mis\u001b[39;00m \u001b[38;5;28;01mNone\u001b[39;00m:\n\u001b[0;32m   1451\u001b[0m     \u001b[38;5;28mself\u001b[39m\u001b[38;5;241m.\u001b[39mset_units(default)\n",
      "File \u001b[1;32mc:\\Users\\Owner\\AppData\\Local\\Programs\\Python\\Python310\\lib\\site-packages\\matplotlib\\category.py:116\u001b[0m, in \u001b[0;36mStrCategoryConverter.default_units\u001b[1;34m(data, axis)\u001b[0m\n\u001b[0;32m    114\u001b[0m \u001b[38;5;66;03m# the conversion call stack is default_units -> axis_info -> convert\u001b[39;00m\n\u001b[0;32m    115\u001b[0m \u001b[38;5;28;01mif\u001b[39;00m axis\u001b[38;5;241m.\u001b[39munits \u001b[38;5;129;01mis\u001b[39;00m \u001b[38;5;28;01mNone\u001b[39;00m:\n\u001b[1;32m--> 116\u001b[0m     axis\u001b[38;5;241m.\u001b[39mset_units(\u001b[43mUnitData\u001b[49m\u001b[43m(\u001b[49m\u001b[43mdata\u001b[49m\u001b[43m)\u001b[49m)\n\u001b[0;32m    117\u001b[0m \u001b[38;5;28;01melse\u001b[39;00m:\n\u001b[0;32m    118\u001b[0m     axis\u001b[38;5;241m.\u001b[39munits\u001b[38;5;241m.\u001b[39mupdate(data)\n",
      "File \u001b[1;32mc:\\Users\\Owner\\AppData\\Local\\Programs\\Python\\Python310\\lib\\site-packages\\matplotlib\\category.py:192\u001b[0m, in \u001b[0;36mUnitData.__init__\u001b[1;34m(self, data)\u001b[0m\n\u001b[0;32m    190\u001b[0m \u001b[38;5;28mself\u001b[39m\u001b[38;5;241m.\u001b[39m_counter \u001b[38;5;241m=\u001b[39m itertools\u001b[38;5;241m.\u001b[39mcount()\n\u001b[0;32m    191\u001b[0m \u001b[38;5;28;01mif\u001b[39;00m data \u001b[38;5;129;01mis\u001b[39;00m \u001b[38;5;129;01mnot\u001b[39;00m \u001b[38;5;28;01mNone\u001b[39;00m:\n\u001b[1;32m--> 192\u001b[0m     \u001b[38;5;28;43mself\u001b[39;49m\u001b[38;5;241;43m.\u001b[39;49m\u001b[43mupdate\u001b[49m\u001b[43m(\u001b[49m\u001b[43mdata\u001b[49m\u001b[43m)\u001b[49m\n",
      "File \u001b[1;32mc:\\Users\\Owner\\AppData\\Local\\Programs\\Python\\Python310\\lib\\site-packages\\matplotlib\\category.py:227\u001b[0m, in \u001b[0;36mUnitData.update\u001b[1;34m(self, data)\u001b[0m\n\u001b[0;32m    224\u001b[0m convertible \u001b[38;5;241m=\u001b[39m \u001b[38;5;28;01mTrue\u001b[39;00m\n\u001b[0;32m    225\u001b[0m \u001b[38;5;28;01mfor\u001b[39;00m val \u001b[38;5;129;01min\u001b[39;00m OrderedDict\u001b[38;5;241m.\u001b[39mfromkeys(data):\n\u001b[0;32m    226\u001b[0m     \u001b[38;5;66;03m# OrderedDict just iterates over unique values in data.\u001b[39;00m\n\u001b[1;32m--> 227\u001b[0m     \u001b[43m_api\u001b[49m\u001b[38;5;241;43m.\u001b[39;49m\u001b[43mcheck_isinstance\u001b[49m\u001b[43m(\u001b[49m\u001b[43m(\u001b[49m\u001b[38;5;28;43mstr\u001b[39;49m\u001b[43m,\u001b[49m\u001b[43m \u001b[49m\u001b[38;5;28;43mbytes\u001b[39;49m\u001b[43m)\u001b[49m\u001b[43m,\u001b[49m\u001b[43m \u001b[49m\u001b[43mvalue\u001b[49m\u001b[38;5;241;43m=\u001b[39;49m\u001b[43mval\u001b[49m\u001b[43m)\u001b[49m\n\u001b[0;32m    228\u001b[0m     \u001b[38;5;28;01mif\u001b[39;00m convertible:\n\u001b[0;32m    229\u001b[0m         \u001b[38;5;66;03m# this will only be called so long as convertible is True.\u001b[39;00m\n\u001b[0;32m    230\u001b[0m         convertible \u001b[38;5;241m=\u001b[39m \u001b[38;5;28mself\u001b[39m\u001b[38;5;241m.\u001b[39m_str_is_convertible(val)\n",
      "File \u001b[1;32mc:\\Users\\Owner\\AppData\\Local\\Programs\\Python\\Python310\\lib\\site-packages\\matplotlib\\_api\\__init__.py:93\u001b[0m, in \u001b[0;36mcheck_isinstance\u001b[1;34m(_types, **kwargs)\u001b[0m\n\u001b[0;32m     91\u001b[0m     names\u001b[38;5;241m.\u001b[39mremove(\u001b[38;5;124m\"\u001b[39m\u001b[38;5;124mNone\u001b[39m\u001b[38;5;124m\"\u001b[39m)\n\u001b[0;32m     92\u001b[0m     names\u001b[38;5;241m.\u001b[39mappend(\u001b[38;5;124m\"\u001b[39m\u001b[38;5;124mNone\u001b[39m\u001b[38;5;124m\"\u001b[39m)\n\u001b[1;32m---> 93\u001b[0m \u001b[38;5;28;01mraise\u001b[39;00m \u001b[38;5;167;01mTypeError\u001b[39;00m(\n\u001b[0;32m     94\u001b[0m     \u001b[38;5;124m\"\u001b[39m\u001b[38;5;132;01m{!r}\u001b[39;00m\u001b[38;5;124m must be an instance of \u001b[39m\u001b[38;5;132;01m{}\u001b[39;00m\u001b[38;5;124m, not a \u001b[39m\u001b[38;5;132;01m{}\u001b[39;00m\u001b[38;5;124m\"\u001b[39m\u001b[38;5;241m.\u001b[39mformat(\n\u001b[0;32m     95\u001b[0m         k,\n\u001b[0;32m     96\u001b[0m         \u001b[38;5;124m\"\u001b[39m\u001b[38;5;124m, \u001b[39m\u001b[38;5;124m\"\u001b[39m\u001b[38;5;241m.\u001b[39mjoin(names[:\u001b[38;5;241m-\u001b[39m\u001b[38;5;241m1\u001b[39m]) \u001b[38;5;241m+\u001b[39m \u001b[38;5;124m\"\u001b[39m\u001b[38;5;124m or \u001b[39m\u001b[38;5;124m\"\u001b[39m \u001b[38;5;241m+\u001b[39m names[\u001b[38;5;241m-\u001b[39m\u001b[38;5;241m1\u001b[39m]\n\u001b[0;32m     97\u001b[0m         \u001b[38;5;28;01mif\u001b[39;00m \u001b[38;5;28mlen\u001b[39m(names) \u001b[38;5;241m>\u001b[39m \u001b[38;5;241m1\u001b[39m \u001b[38;5;28;01melse\u001b[39;00m names[\u001b[38;5;241m0\u001b[39m],\n\u001b[0;32m     98\u001b[0m         type_name(\u001b[38;5;28mtype\u001b[39m(v))))\n",
      "\u001b[1;31mTypeError\u001b[0m: 'value' must be an instance of str or bytes, not a tuple"
     ]
    },
    {
     "data": {
      "image/png": "[encoded data removed]",
      "text/plain": [
       "<Figure size 720x432 with 1 Axes>"
      ]
     },
     "metadata": {
      "needs_background": "light"
     },
     "output_type": "display_data"
    }
   ],
   "source": [
    "a = cusAddress_cleaned.merge(\n",
    "    cusDemo_cleaned, how = \"inner\", on = \"customer_id\").merge(\n",
    "        trans_cleaned, how = \"inner\", on = \"customer_id\")\n",
    "a1 = a.groupby(['state','wealth_segment']).agg({'profit' : ['sum'] , \"customer_id\" : 'nunique'})\n",
    "a1.columns = ['total_profit', 'unique_customers']\n",
    "a1['profit_per_customer'] = a1['total_profit'] / a1['unique_customers']\n",
    "\n",
    "plt.figure(figsize=(10,6))\n",
    "plt.bar(a1.index, a1['profit_per_customer'], color='blue')\n",
    "plt.title('Profit_per_customer per Age Class')\n",
    "plt.xlabel('Age Class')\n",
    "plt.ylabel('Profit')\n",
    "#plt.ylim(2900, 3200)\n",
    "plt.show()\n",
    "\n",
    "#trans_cleaned\n",
    "#cusDemo_cleaned\n",
    "#cusAddress_cleaned"
   ]
  },
  {
   "cell_type": "code",
   "execution_count": 22,
   "metadata": {},
   "outputs": [
    {
     "data": {
      "text/plain": [
       "<AxesSubplot:xlabel='state,wealth_segment'>"
      ]
     },
     "execution_count": 22,
     "metadata": {},
     "output_type": "execute_result"
    },
    {
     "data": {
      "image/png": "[encoded data removed]",
      "text/plain": [
       "<Figure size 432x288 with 1 Axes>"
      ]
     },
     "metadata": {
      "needs_background": "light"
     },
     "output_type": "display_data"
    }
   ],
   "source": [
    "a1['profit_per_customer'].plot()"
   ]
  },
  {
   "cell_type": "markdown",
   "metadata": {},
   "source": [
    "#### COMPUTATION\n",
    "- COMPUTE AGE AND CLASSIFY BY AGE BRACKET\n",
    "\n",
    "- AN APPROPRIATE METHOD IS USED TO CLASSIFY CURRENT TARGET- 1,0 WHICH WILL CORRESEPOND TO TRUE OR FALSE\n",
    "  PROBLEM?? -- EHAT METHOD CAN I USE TO DESIGN A MODEL THAT CAN EFFECTIVELY CATEGORISE TH\n",
    "\n",
    "#### VISUALIZATION AND CLASSIFICATION OF PUCAHSE BEHAVIOURS \n",
    "EDA IS CARRIED OUT O THE EXISTING DATASET AND MORE UNDERSTANDING OF THE PURCHASE BEHAVIOURS IS ATTAINED \n",
    "\n",
    "#### FEATURE ENGINEERING \n",
    "THE DATA SET IS ACCUSTOMED TO BE FIT INTO A MODEL\n",
    "\n",
    "#### DEVELOP MODEL \n",
    "IN THIS CASE, WE WILL USE A CLASSICAL CLASSIFICTION MODEL TO CLASSIFY CUSKTOMERS INTO TWO GROUPS BASED ON THEIR PURCHASE BEHAVIOUS \n",
    "\n",
    "#### MODEL TESTING AND VALIDATION \n",
    "THE MODEL IS TESTED WITH THE TEST DATA TO VALIDATE THE CORRECTIES NESSA ND ACCUERACY\n",
    "\n",
    "#### MODEL DEPLOYMENT\n",
    "APPLY MODEL ON THE NEW CUSTOMERS FOR CLASSIFICATION"
   ]
  },
  {
   "cell_type": "code",
   "execution_count": null,
   "metadata": {},
   "outputs": [],
   "source": []
  },
  {
   "cell_type": "markdown",
   "metadata": {},
   "source": []
  }
 ],
 "metadata": {
  "interpreter": {
   "hash": "585a938ec471c889bf0cce0aed741a99eaf47ca09c0fa8393793bc5bfe77ba11"
  },
  "kernelspec": {
   "display_name": "Python 3.9.7 ('base')",
   "language": "python",
   "name": "python3"
  },
  "language_info": {
   "codemirror_mode": {
    "name": "ipython",
    "version": 3
   },
   "file_extension": ".py",
   "mimetype": "text/x-python",
   "name": "python",
   "nbconvert_exporter": "python",
   "pygments_lexer": "ipython3",
   "version": "3.10.0"
  },
  "orig_nbformat": 4
 },
 "nbformat": 4,
 "nbformat_minor": 2
}
