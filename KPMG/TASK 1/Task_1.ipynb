{
 "cells": [
  {
   "cell_type": "code",
   "execution_count": 19,
   "metadata": {},
   "outputs": [],
   "source": [
    "## IMPORT RELEVANT LIBRARIES\n",
    "\n",
    "# IMPORT DATA WRANGLING LIB\n",
    "import pandas as pd\n",
    "import numpy as np\n",
    "from   skimpy import skim\n",
    "import missingno\n",
    "\n",
    "# IMPORT DATA VISUALIZATION\n",
    "import matplotlib.pyplot as plt\n",
    "import seaborn as sns"
   ]
  },
  {
   "cell_type": "markdown",
   "metadata": {},
   "source": [
    "### IMPORTING AND CLEANING DEMOGRAPIC DATA"
   ]
  },
  {
   "cell_type": "code",
   "execution_count": 20,
   "metadata": {},
   "outputs": [
    {
     "name": "stdout",
     "output_type": "stream",
     "text": [
      "<class 'pandas.core.frame.DataFrame'>\n",
      "RangeIndex: 4000 entries, 0 to 3999\n",
      "Data columns (total 13 columns):\n",
      " #   Column                               Non-Null Count  Dtype         \n",
      "---  ------                               --------------  -----         \n",
      " 0   customer_id                          4000 non-null   int64         \n",
      " 1   first_name                           4000 non-null   object        \n",
      " 2   last_name                            3875 non-null   object        \n",
      " 3   gender                               4000 non-null   object        \n",
      " 4   past_3_years_bike_related_purchases  4000 non-null   int64         \n",
      " 5   DOB                                  3913 non-null   datetime64[ns]\n",
      " 6   job_title                            3494 non-null   object        \n",
      " 7   job_industry_category                3344 non-null   object        \n",
      " 8   wealth_segment                       4000 non-null   object        \n",
      " 9   deceased_indicator                   4000 non-null   object        \n",
      " 10  default                              3698 non-null   object        \n",
      " 11  owns_car                             4000 non-null   object        \n",
      " 12  tenure                               3913 non-null   float64       \n",
      "dtypes: datetime64[ns](1), float64(1), int64(2), object(9)\n",
      "memory usage: 406.4+ KB\n"
     ]
    },
    {
     "name": "stderr",
     "output_type": "stream",
     "text": [
      "C:\\Users\\Owner\\AppData\\Local\\Temp/ipykernel_16864/4099799583.py:3: FutureWarning: Inferring datetime64[ns] from data containing strings is deprecated and will be removed in a future version. To retain the old behavior explicitly pass Series(data, dtype={value.dtype})\n",
      "  demo = pd.read_excel('KPMG_VI_New_raw_data_update_final.xlsx', sheet_name = 3 , header = 1)\n"
     ]
    }
   ],
   "source": [
    "# Import Customer Demographic \n",
    "\n",
    "demo = pd.read_excel('KPMG_VI_New_raw_data_update_final.xlsx', sheet_name = 3 , header = 1)\n",
    "demo.info()"
   ]
  },
  {
   "cell_type": "code",
   "execution_count": 21,
   "metadata": {},
   "outputs": [
    {
     "data": {
      "text/html": [
       "<pre style=\"white-space:pre;overflow-x:auto;line-height:normal;font-family:Menlo,'DejaVu Sans Mono',consolas,'Courier New',monospace\">╭───────────────────────────────────── skimpy summary ──────────────────────────────────────╮\n",
       "│ <span style=\"font-style: italic\">         Data Summary         </span> <span style=\"font-style: italic\">      Data Types       </span>                                    │\n",
       "│ ┏━━━━━━━━━━━━━━━━━━━┳━━━━━━━━┓ ┏━━━━━━━━━━━━━┳━━━━━━━┓                                    │\n",
       "│ ┃<span style=\"color: #008080; text-decoration-color: #008080; font-weight: bold\"> dataframe         </span>┃<span style=\"color: #008080; text-decoration-color: #008080; font-weight: bold\"> Values </span>┃ ┃<span style=\"color: #008080; text-decoration-color: #008080; font-weight: bold\"> Column Type </span>┃<span style=\"color: #008080; text-decoration-color: #008080; font-weight: bold\"> Count </span>┃                                    │\n",
       "│ ┡━━━━━━━━━━━━━━━━━━━╇━━━━━━━━┩ ┡━━━━━━━━━━━━━╇━━━━━━━┩                                    │\n",
       "│ │ Number of rows    │ 4000   │ │ object      │ 9     │                                    │\n",
       "│ │ Number of columns │ 13     │ │ int64       │ 2     │                                    │\n",
       "│ └───────────────────┴────────┘ │ datetime64  │ 1     │                                    │\n",
       "│                                │ float64     │ 1     │                                    │\n",
       "│                                └─────────────┴───────┘                                    │\n",
       "│ <span style=\"font-style: italic\">                                         number                                         </span>  │\n",
       "│ ┏━━━━━━━━━━━━━┳━━━━━━━━━┳━━━━━━━━━━━━━┳━━━━━━┳━━━━━━┳━━━━┳━━━━━━┳━━━━━━┳━━━━━━┳━━━━━━━━┓  │\n",
       "│ ┃<span style=\"font-weight: bold\">             </span>┃<span style=\"font-weight: bold\"> missing </span>┃<span style=\"font-weight: bold\"> complete    </span>┃<span style=\"font-weight: bold\"> mean </span>┃<span style=\"font-weight: bold\"> sd   </span>┃<span style=\"font-weight: bold\"> p0 </span>┃<span style=\"font-weight: bold\"> p25  </span>┃<span style=\"font-weight: bold\"> p75  </span>┃<span style=\"font-weight: bold\"> p100 </span>┃<span style=\"font-weight: bold\"> hist   </span>┃  │\n",
       "│ ┃             ┃         ┃<span style=\"font-weight: bold\"> rate        </span>┃      ┃      ┃    ┃      ┃      ┃      ┃        ┃  │\n",
       "│ ┡━━━━━━━━━━━━━╇━━━━━━━━━╇━━━━━━━━━━━━━╇━━━━━━╇━━━━━━╇━━━━╇━━━━━━╇━━━━━━╇━━━━━━╇━━━━━━━━┩  │\n",
       "│ │ <span style=\"color: #af87ff; text-decoration-color: #af87ff\">customer_id</span> │ <span style=\"color: #008080; text-decoration-color: #008080\">      0</span> │ <span style=\"color: #008080; text-decoration-color: #008080\">          1</span> │ <span style=\"color: #008080; text-decoration-color: #008080\">2000</span> │ <span style=\"color: #008080; text-decoration-color: #008080\">1200</span> │ <span style=\"color: #008080; text-decoration-color: #008080\"> 1</span> │ <span style=\"color: #008080; text-decoration-color: #008080\">1000</span> │ <span style=\"color: #008080; text-decoration-color: #008080\">3000</span> │ <span style=\"color: #008080; text-decoration-color: #008080\">4000</span> │ <span style=\"color: #008000; text-decoration-color: #008000\">██████</span> │  │\n",
       "│ │ <span style=\"color: #af87ff; text-decoration-color: #af87ff\">past_3_year</span> │ <span style=\"color: #008080; text-decoration-color: #008080\">      0</span> │ <span style=\"color: #008080; text-decoration-color: #008080\">          1</span> │ <span style=\"color: #008080; text-decoration-color: #008080\">  49</span> │ <span style=\"color: #008080; text-decoration-color: #008080\">  29</span> │ <span style=\"color: #008080; text-decoration-color: #008080\"> 0</span> │ <span style=\"color: #008080; text-decoration-color: #008080\">  24</span> │ <span style=\"color: #008080; text-decoration-color: #008080\">  73</span> │ <span style=\"color: #008080; text-decoration-color: #008080\">  99</span> │ <span style=\"color: #008000; text-decoration-color: #008000\">█▇█▇█▇</span> │  │\n",
       "│ │ <span style=\"color: #af87ff; text-decoration-color: #af87ff\">s_bike_re  </span> │         │             │      │      │    │      │      │      │        │  │\n",
       "│ │ <span style=\"color: #af87ff; text-decoration-color: #af87ff\">tenure     </span> │ <span style=\"color: #008080; text-decoration-color: #008080\">     87</span> │ <span style=\"color: #008080; text-decoration-color: #008080\">       0.98</span> │ <span style=\"color: #008080; text-decoration-color: #008080\">  11</span> │ <span style=\"color: #008080; text-decoration-color: #008080\"> 5.7</span> │ <span style=\"color: #008080; text-decoration-color: #008080\"> 1</span> │ <span style=\"color: #008080; text-decoration-color: #008080\">   6</span> │ <span style=\"color: #008080; text-decoration-color: #008080\">  15</span> │ <span style=\"color: #008080; text-decoration-color: #008080\">  22</span> │ <span style=\"color: #008000; text-decoration-color: #008000\">▆▆█▆▇▃</span> │  │\n",
       "│ └─────────────┴─────────┴─────────────┴──────┴──────┴────┴──────┴──────┴──────┴────────┘  │\n",
       "│ <span style=\"font-style: italic\">                                        datetime                                        </span>  │\n",
       "│ ┏━━━━━━━┳━━━━━━━━━━━━┳━━━━━━━━━━━━━━━━━━━┳━━━━━━━━━━━━━━━┳━━━━━━━━━━━━━━━┳━━━━━━━━━━━━━┓  │\n",
       "│ ┃<span style=\"font-weight: bold\">       </span>┃<span style=\"font-weight: bold\"> missing    </span>┃<span style=\"font-weight: bold\"> complete rate     </span>┃<span style=\"font-weight: bold\"> first         </span>┃<span style=\"font-weight: bold\"> last          </span>┃<span style=\"font-weight: bold\"> frequency   </span>┃  │\n",
       "│ ┡━━━━━━━╇━━━━━━━━━━━━╇━━━━━━━━━━━━━━━━━━━╇━━━━━━━━━━━━━━━╇━━━━━━━━━━━━━━━╇━━━━━━━━━━━━━┩  │\n",
       "│ │ <span style=\"color: #af87ff; text-decoration-color: #af87ff\">DOB  </span> │ <span style=\"color: #008080; text-decoration-color: #008080\">        87</span> │ <span style=\"color: #008080; text-decoration-color: #008080\">             0.98</span> │ <span style=\"color: #800000; text-decoration-color: #800000\"> 1843-12-21  </span> │ <span style=\"color: #800000; text-decoration-color: #800000\"> 2002-03-11  </span> │ <span style=\"color: #af87ff; text-decoration-color: #af87ff\">None       </span> │  │\n",
       "│ └───────┴────────────┴───────────────────┴───────────────┴───────────────┴─────────────┘  │\n",
       "╰─────────────────────────────────────────── End ───────────────────────────────────────────╯\n",
       "</pre>\n"
      ],
      "text/plain": [
       "╭───────────────────────────────────── skimpy summary ──────────────────────────────────────╮\n",
       "│ \u001b[3m         Data Summary         \u001b[0m \u001b[3m      Data Types       \u001b[0m                                    │\n",
       "│ ┏━━━━━━━━━━━━━━━━━━━┳━━━━━━━━┓ ┏━━━━━━━━━━━━━┳━━━━━━━┓                                    │\n",
       "│ ┃\u001b[1;36m \u001b[0m\u001b[1;36mdataframe        \u001b[0m\u001b[1;36m \u001b[0m┃\u001b[1;36m \u001b[0m\u001b[1;36mValues\u001b[0m\u001b[1;36m \u001b[0m┃ ┃\u001b[1;36m \u001b[0m\u001b[1;36mColumn Type\u001b[0m\u001b[1;36m \u001b[0m┃\u001b[1;36m \u001b[0m\u001b[1;36mCount\u001b[0m\u001b[1;36m \u001b[0m┃                                    │\n",
       "│ ┡━━━━━━━━━━━━━━━━━━━╇━━━━━━━━┩ ┡━━━━━━━━━━━━━╇━━━━━━━┩                                    │\n",
       "│ │ Number of rows    │ 4000   │ │ object      │ 9     │                                    │\n",
       "│ │ Number of columns │ 13     │ │ int64       │ 2     │                                    │\n",
       "│ └───────────────────┴────────┘ │ datetime64  │ 1     │                                    │\n",
       "│                                │ float64     │ 1     │                                    │\n",
       "│                                └─────────────┴───────┘                                    │\n",
       "│ \u001b[3m                                         number                                         \u001b[0m  │\n",
       "│ ┏━━━━━━━━━━━━━┳━━━━━━━━━┳━━━━━━━━━━━━━┳━━━━━━┳━━━━━━┳━━━━┳━━━━━━┳━━━━━━┳━━━━━━┳━━━━━━━━┓  │\n",
       "│ ┃\u001b[1m \u001b[0m\u001b[1m           \u001b[0m\u001b[1m \u001b[0m┃\u001b[1m \u001b[0m\u001b[1mmissing\u001b[0m\u001b[1m \u001b[0m┃\u001b[1m \u001b[0m\u001b[1mcomplete   \u001b[0m\u001b[1m \u001b[0m┃\u001b[1m \u001b[0m\u001b[1mmean\u001b[0m\u001b[1m \u001b[0m┃\u001b[1m \u001b[0m\u001b[1msd  \u001b[0m\u001b[1m \u001b[0m┃\u001b[1m \u001b[0m\u001b[1mp0\u001b[0m\u001b[1m \u001b[0m┃\u001b[1m \u001b[0m\u001b[1mp25 \u001b[0m\u001b[1m \u001b[0m┃\u001b[1m \u001b[0m\u001b[1mp75 \u001b[0m\u001b[1m \u001b[0m┃\u001b[1m \u001b[0m\u001b[1mp100\u001b[0m\u001b[1m \u001b[0m┃\u001b[1m \u001b[0m\u001b[1mhist  \u001b[0m\u001b[1m \u001b[0m┃  │\n",
       "│ ┃             ┃         ┃\u001b[1m \u001b[0m\u001b[1mrate       \u001b[0m\u001b[1m \u001b[0m┃      ┃      ┃    ┃      ┃      ┃      ┃        ┃  │\n",
       "│ ┡━━━━━━━━━━━━━╇━━━━━━━━━╇━━━━━━━━━━━━━╇━━━━━━╇━━━━━━╇━━━━╇━━━━━━╇━━━━━━╇━━━━━━╇━━━━━━━━┩  │\n",
       "│ │ \u001b[38;5;141mcustomer_id\u001b[0m │ \u001b[36m      0\u001b[0m │ \u001b[36m          1\u001b[0m │ \u001b[36m2000\u001b[0m │ \u001b[36m1200\u001b[0m │ \u001b[36m 1\u001b[0m │ \u001b[36m1000\u001b[0m │ \u001b[36m3000\u001b[0m │ \u001b[36m4000\u001b[0m │ \u001b[32m██████\u001b[0m │  │\n",
       "│ │ \u001b[38;5;141mpast_3_year\u001b[0m │ \u001b[36m      0\u001b[0m │ \u001b[36m          1\u001b[0m │ \u001b[36m  49\u001b[0m │ \u001b[36m  29\u001b[0m │ \u001b[36m 0\u001b[0m │ \u001b[36m  24\u001b[0m │ \u001b[36m  73\u001b[0m │ \u001b[36m  99\u001b[0m │ \u001b[32m█▇█▇█▇\u001b[0m │  │\n",
       "│ │ \u001b[38;5;141ms_bike_re  \u001b[0m │         │             │      │      │    │      │      │      │        │  │\n",
       "│ │ \u001b[38;5;141mtenure     \u001b[0m │ \u001b[36m     87\u001b[0m │ \u001b[36m       0.98\u001b[0m │ \u001b[36m  11\u001b[0m │ \u001b[36m 5.7\u001b[0m │ \u001b[36m 1\u001b[0m │ \u001b[36m   6\u001b[0m │ \u001b[36m  15\u001b[0m │ \u001b[36m  22\u001b[0m │ \u001b[32m▆▆█▆▇▃\u001b[0m │  │\n",
       "│ └─────────────┴─────────┴─────────────┴──────┴──────┴────┴──────┴──────┴──────┴────────┘  │\n",
       "│ \u001b[3m                                        datetime                                        \u001b[0m  │\n",
       "│ ┏━━━━━━━┳━━━━━━━━━━━━┳━━━━━━━━━━━━━━━━━━━┳━━━━━━━━━━━━━━━┳━━━━━━━━━━━━━━━┳━━━━━━━━━━━━━┓  │\n",
       "│ ┃\u001b[1m \u001b[0m\u001b[1m     \u001b[0m\u001b[1m \u001b[0m┃\u001b[1m \u001b[0m\u001b[1mmissing   \u001b[0m\u001b[1m \u001b[0m┃\u001b[1m \u001b[0m\u001b[1mcomplete rate    \u001b[0m\u001b[1m \u001b[0m┃\u001b[1m \u001b[0m\u001b[1mfirst        \u001b[0m\u001b[1m \u001b[0m┃\u001b[1m \u001b[0m\u001b[1mlast         \u001b[0m\u001b[1m \u001b[0m┃\u001b[1m \u001b[0m\u001b[1mfrequency  \u001b[0m\u001b[1m \u001b[0m┃  │\n",
       "│ ┡━━━━━━━╇━━━━━━━━━━━━╇━━━━━━━━━━━━━━━━━━━╇━━━━━━━━━━━━━━━╇━━━━━━━━━━━━━━━╇━━━━━━━━━━━━━┩  │\n",
       "│ │ \u001b[38;5;141mDOB  \u001b[0m │ \u001b[36m        87\u001b[0m │ \u001b[36m             0.98\u001b[0m │ \u001b[31m 1843-12-21  \u001b[0m │ \u001b[31m 2002-03-11  \u001b[0m │ \u001b[38;5;141mNone       \u001b[0m │  │\n",
       "│ └───────┴────────────┴───────────────────┴───────────────┴───────────────┴─────────────┘  │\n",
       "╰─────────────────────────────────────────── End ───────────────────────────────────────────╯\n"
      ]
     },
     "metadata": {},
     "output_type": "display_data"
    }
   ],
   "source": [
    "skim(demo)"
   ]
  },
  {
   "cell_type": "code",
   "execution_count": 22,
   "metadata": {},
   "outputs": [
    {
     "data": {
      "text/plain": [
       "<AxesSubplot:>"
      ]
     },
     "execution_count": 22,
     "metadata": {},
     "output_type": "execute_result"
    },
    {
     "data": {
      "image/png": "[encoded data removed]",
      "text/plain": [
       "<Figure size 1800x720 with 2 Axes>"
      ]
     },
     "metadata": {
      "needs_background": "light"
     },
     "output_type": "display_data"
    }
   ],
   "source": [
    "missingno.matrix(demo)"
   ]
  },
  {
   "cell_type": "code",
   "execution_count": 23,
   "metadata": {},
   "outputs": [
    {
     "data": {
      "text/plain": [
       "array([], dtype=int32)"
      ]
     },
     "execution_count": 23,
     "metadata": {},
     "output_type": "execute_result"
    }
   ],
   "source": [
    "full_range = np.arange(demo.customer_id.min(), demo.customer_id.max()+1, 1)\n",
    "\n",
    "customers  = demo.customer_id.values\n",
    "\n",
    "mask = [i not in customers for i in full_range ]\n",
    "full_range[mask]"
   ]
  },
  {
   "cell_type": "markdown",
   "metadata": {},
   "source": [
    "COLUMNS WITH MISSING VALUES \n",
    "- last_name\n",
    "- DOB\n",
    "- job_title\n",
    "- job_industry_category\n",
    "- default\n",
    "- tenure"
   ]
  },
  {
   "cell_type": "code",
   "execution_count": 24,
   "metadata": {},
   "outputs": [
    {
     "data": {
      "text/plain": [
       "Female    2037\n",
       "Male      1872\n",
       "U           88\n",
       "F            1\n",
       "Femal        1\n",
       "M            1\n",
       "Name: gender, dtype: int64"
      ]
     },
     "execution_count": 24,
     "metadata": {},
     "output_type": "execute_result"
    },
    {
     "data": {
      "image/png": "[encoded data removed]",
      "text/plain": [
       "<Figure size 432x288 with 1 Axes>"
      ]
     },
     "metadata": {
      "needs_background": "light"
     },
     "output_type": "display_data"
    }
   ],
   "source": [
    "# First find if there are customer_id for dublicates - good , no dublicates \n",
    "demo['customer_id'].duplicated().value_counts()\n",
    "\n",
    "#Visalizing last three years - Good distribution\n",
    "demo.past_3_years_bike_related_purchases.plot(kind = 'hist')\n",
    "related_pur = demo.past_3_years_bike_related_purchases\n",
    "\n",
    "# customer Segments - Good \n",
    "demo.wealth_segment.unique()\n",
    "\n",
    "# Evaluate if customer is alive or dead - Not to use only customers tata are not deceasd \n",
    "demo.deceased_indicator.value_counts()\n",
    "\n",
    "\n",
    "## FAULTY \n",
    "# An DOB that seems like an outlier $demo.DOB.min()$.\n",
    "demo[demo.DOB <= '1930-12-21']\n",
    "\n",
    "# Ensuring consitency in gender - INconsitencyy with the unique vbalues especially 'U'\n",
    "demo.gender.value_counts()\n"
   ]
  },
  {
   "cell_type": "markdown",
   "metadata": {},
   "source": [
    "### IMPORTING AND CLEANING CUSTOMER ADDRESS1 DATA"
   ]
  },
  {
   "cell_type": "code",
   "execution_count": 25,
   "metadata": {},
   "outputs": [
    {
     "name": "stdout",
     "output_type": "stream",
     "text": [
      "<class 'pandas.core.frame.DataFrame'>\n",
      "RangeIndex: 3999 entries, 0 to 3998\n",
      "Data columns (total 6 columns):\n",
      " #   Column              Non-Null Count  Dtype \n",
      "---  ------              --------------  ----- \n",
      " 0   customer_id         3999 non-null   int64 \n",
      " 1   address             3999 non-null   object\n",
      " 2   postcode            3999 non-null   int64 \n",
      " 3   state               3999 non-null   object\n",
      " 4   country             3999 non-null   object\n",
      " 5   property_valuation  3999 non-null   int64 \n",
      "dtypes: int64(3), object(3)\n",
      "memory usage: 187.6+ KB\n"
     ]
    }
   ],
   "source": [
    "# Import CUSTOMER daTA \n",
    "\n",
    "address_data = pd.read_excel('KPMG_VI_New_raw_data_update_final.xlsx', sheet_name = 4 , header = 1)\n",
    "address_data.info()"
   ]
  },
  {
   "cell_type": "code",
   "execution_count": 26,
   "metadata": {},
   "outputs": [
    {
     "data": {
      "text/plain": [
       "<AxesSubplot:>"
      ]
     },
     "execution_count": 26,
     "metadata": {},
     "output_type": "execute_result"
    },
    {
     "data": {
      "image/png": "[encoded data removed]",
      "text/plain": [
       "<Figure size 1800x720 with 2 Axes>"
      ]
     },
     "metadata": {
      "needs_background": "light"
     },
     "output_type": "display_data"
    }
   ],
   "source": [
    "missingno.matrix(address_data)"
   ]
  },
  {
   "cell_type": "code",
   "execution_count": 27,
   "metadata": {},
   "outputs": [
    {
     "data": {
      "text/plain": [
       "array([ 3, 10, 22, 23])"
      ]
     },
     "execution_count": 27,
     "metadata": {},
     "output_type": "execute_result"
    }
   ],
   "source": [
    "# The number of customers is one lesss than, so lets find if thers a missin customer_id\n",
    "\n",
    "full_range = np.arange(address_data.customer_id.min(), address_data.customer_id.max()+1, 1)\n",
    "\n",
    "customers  = address_data.customer_id.values\n",
    "\n",
    "mask = [i not in customers for i in full_range ]\n",
    "full_range[mask]"
   ]
  },
  {
   "cell_type": "code",
   "execution_count": 28,
   "metadata": {},
   "outputs": [
    {
     "data": {
      "text/html": [
       "<div>\n",
       "<style scoped>\n",
       "    .dataframe tbody tr th:only-of-type {\n",
       "        vertical-align: middle;\n",
       "    }\n",
       "\n",
       "    .dataframe tbody tr th {\n",
       "        vertical-align: top;\n",
       "    }\n",
       "\n",
       "    .dataframe thead th {\n",
       "        text-align: right;\n",
       "    }\n",
       "</style>\n",
       "<table border=\"1\" class=\"dataframe\">\n",
       "  <thead>\n",
       "    <tr style=\"text-align: right;\">\n",
       "      <th></th>\n",
       "      <th>customer_id</th>\n",
       "      <th>address</th>\n",
       "      <th>postcode</th>\n",
       "      <th>state</th>\n",
       "      <th>country</th>\n",
       "      <th>property_valuation</th>\n",
       "    </tr>\n",
       "  </thead>\n",
       "  <tbody>\n",
       "    <tr>\n",
       "      <th>732</th>\n",
       "      <td>737</td>\n",
       "      <td>3 Talisman Place</td>\n",
       "      <td>4811</td>\n",
       "      <td>QLD</td>\n",
       "      <td>Australia</td>\n",
       "      <td>2</td>\n",
       "    </tr>\n",
       "    <tr>\n",
       "      <th>2315</th>\n",
       "      <td>2320</td>\n",
       "      <td>64 Macpherson Junction</td>\n",
       "      <td>2208</td>\n",
       "      <td>NSW</td>\n",
       "      <td>Australia</td>\n",
       "      <td>11</td>\n",
       "    </tr>\n",
       "    <tr>\n",
       "      <th>2328</th>\n",
       "      <td>2333</td>\n",
       "      <td>3 Mariners Cove Terrace</td>\n",
       "      <td>3108</td>\n",
       "      <td>VIC</td>\n",
       "      <td>Australia</td>\n",
       "      <td>10</td>\n",
       "    </tr>\n",
       "    <tr>\n",
       "      <th>2470</th>\n",
       "      <td>2475</td>\n",
       "      <td>3 Talisman Place</td>\n",
       "      <td>4017</td>\n",
       "      <td>QLD</td>\n",
       "      <td>Australia</td>\n",
       "      <td>5</td>\n",
       "    </tr>\n",
       "    <tr>\n",
       "      <th>2980</th>\n",
       "      <td>2985</td>\n",
       "      <td>3 Mariners Cove Terrace</td>\n",
       "      <td>2216</td>\n",
       "      <td>NSW</td>\n",
       "      <td>Australia</td>\n",
       "      <td>10</td>\n",
       "    </tr>\n",
       "    <tr>\n",
       "      <th>3535</th>\n",
       "      <td>3540</td>\n",
       "      <td>64 Macpherson Junction</td>\n",
       "      <td>4061</td>\n",
       "      <td>QLD</td>\n",
       "      <td>Australia</td>\n",
       "      <td>8</td>\n",
       "    </tr>\n",
       "  </tbody>\n",
       "</table>\n",
       "</div>"
      ],
      "text/plain": [
       "      customer_id                  address  postcode state    country  \\\n",
       "732           737         3 Talisman Place      4811   QLD  Australia   \n",
       "2315         2320   64 Macpherson Junction      2208   NSW  Australia   \n",
       "2328         2333  3 Mariners Cove Terrace      3108   VIC  Australia   \n",
       "2470         2475         3 Talisman Place      4017   QLD  Australia   \n",
       "2980         2985  3 Mariners Cove Terrace      2216   NSW  Australia   \n",
       "3535         3540   64 Macpherson Junction      4061   QLD  Australia   \n",
       "\n",
       "      property_valuation  \n",
       "732                    2  \n",
       "2315                  11  \n",
       "2328                  10  \n",
       "2470                   5  \n",
       "2980                  10  \n",
       "3535                   8  "
      ]
     },
     "execution_count": 28,
     "metadata": {},
     "output_type": "execute_result"
    }
   ],
   "source": [
    "# Check customers with similar address\n",
    "'''Having the same address in different regions , we have to investigate the address to fnd out the most appropriate'''\n",
    "address_data[address_data.address.duplicated(keep=False)]\n",
    "\n"
   ]
  },
  {
   "cell_type": "code",
   "execution_count": 29,
   "metadata": {},
   "outputs": [
    {
     "data": {
      "text/plain": [
       "array(['New South Wales', 'QLD', 'VIC', 'NSW', 'Victoria'], dtype=object)"
      ]
     },
     "execution_count": 29,
     "metadata": {},
     "output_type": "execute_result"
    }
   ],
   "source": [
    "address_data.state.unique()\n",
    "#There are some repatig variables  NSW is the same as 'New South Wales'\n",
    "#VIC similar to 'Victoria'"
   ]
  },
  {
   "cell_type": "markdown",
   "metadata": {},
   "source": [
    "### IMPORTING AND CLEANING Transaction data in the past three months"
   ]
  },
  {
   "cell_type": "code",
   "execution_count": 30,
   "metadata": {},
   "outputs": [
    {
     "name": "stdout",
     "output_type": "stream",
     "text": [
      "<class 'pandas.core.frame.DataFrame'>\n",
      "RangeIndex: 20000 entries, 0 to 19999\n",
      "Data columns (total 13 columns):\n",
      " #   Column                   Non-Null Count  Dtype         \n",
      "---  ------                   --------------  -----         \n",
      " 0   transaction_id           20000 non-null  int64         \n",
      " 1   product_id               20000 non-null  int64         \n",
      " 2   customer_id              20000 non-null  int64         \n",
      " 3   transaction_date         20000 non-null  datetime64[ns]\n",
      " 4   online_order             19640 non-null  float64       \n",
      " 5   order_status             20000 non-null  object        \n",
      " 6   brand                    19803 non-null  object        \n",
      " 7   product_line             19803 non-null  object        \n",
      " 8   product_class            19803 non-null  object        \n",
      " 9   product_size             19803 non-null  object        \n",
      " 10  list_price               20000 non-null  float64       \n",
      " 11  standard_cost            19803 non-null  float64       \n",
      " 12  product_first_sold_date  19803 non-null  float64       \n",
      "dtypes: datetime64[ns](1), float64(4), int64(3), object(5)\n",
      "memory usage: 2.0+ MB\n"
     ]
    }
   ],
   "source": [
    "# Import CUSTOMER daTA \n",
    "\n",
    "transaction_data = pd.read_excel('KPMG_VI_New_raw_data_update_final.xlsx', sheet_name = 1 , header = 1)\n",
    "transaction_data.info()"
   ]
  },
  {
   "cell_type": "code",
   "execution_count": 35,
   "metadata": {},
   "outputs": [
    {
     "data": {
      "text/plain": [
       "Timestamp('2017-12-30 00:00:00')"
      ]
     },
     "execution_count": 35,
     "metadata": {},
     "output_type": "execute_result"
    }
   ],
   "source": [
    "# We need data for the last three months, ,so i will find the last date and 3 months before that\n",
    "transaction_data.transaction_date.max() \n",
    "'The maximum date is 30th december 2017, so we want to find all transaction data for wich will begin fom 2017-10-01'"
   ]
  },
  {
   "cell_type": "code",
   "execution_count": 38,
   "metadata": {},
   "outputs": [
    {
     "name": "stdout",
     "output_type": "stream",
     "text": [
      "<class 'pandas.core.frame.DataFrame'>\n",
      "Int64Index: 5080 entries, 238 to 13574\n",
      "Data columns (total 13 columns):\n",
      " #   Column                   Non-Null Count  Dtype         \n",
      "---  ------                   --------------  -----         \n",
      " 0   transaction_id           5080 non-null   int64         \n",
      " 1   product_id               5080 non-null   int64         \n",
      " 2   customer_id              5080 non-null   int64         \n",
      " 3   transaction_date         5080 non-null   datetime64[ns]\n",
      " 4   online_order             4986 non-null   float64       \n",
      " 5   order_status             5080 non-null   object        \n",
      " 6   brand                    5032 non-null   object        \n",
      " 7   product_line             5032 non-null   object        \n",
      " 8   product_class            5032 non-null   object        \n",
      " 9   product_size             5032 non-null   object        \n",
      " 10  list_price               5080 non-null   float64       \n",
      " 11  standard_cost            5032 non-null   float64       \n",
      " 12  product_first_sold_date  5032 non-null   float64       \n",
      "dtypes: datetime64[ns](1), float64(4), int64(3), object(5)\n",
      "memory usage: 555.6+ KB\n"
     ]
    }
   ],
   "source": [
    "transc_selected = transaction_data[transaction_data.transaction_date > '2017-09-30'].sort_values('transaction_date')\n",
    "transc_selected.info()"
   ]
  },
  {
   "cell_type": "code",
   "execution_count": 49,
   "metadata": {},
   "outputs": [
    {
     "data": {
      "text/plain": [
       "<AxesSubplot:>"
      ]
     },
     "execution_count": 49,
     "metadata": {},
     "output_type": "execute_result"
    },
    {
     "data": {
      "image/png": "[encoded data removed]",
      "text/plain": [
       "<Figure size 1800x720 with 2 Axes>"
      ]
     },
     "metadata": {
      "needs_background": "light"
     },
     "output_type": "display_data"
    }
   ],
   "source": [
    "## Find Columns with missing values\n",
    "missingno.matrix(transc_selected)\n",
    "\n",
    "'There are certain , rows with up to seven misssing vbaluess. Lets dive and ind out this rows '"
   ]
  },
  {
   "cell_type": "code",
   "execution_count": 54,
   "metadata": {},
   "outputs": [
    {
     "data": {
      "text/plain": [
       "'There are 142 with missing values'"
      ]
     },
     "execution_count": 54,
     "metadata": {},
     "output_type": "execute_result"
    }
   ],
   "source": [
    "missing_var = transc_selected.isna().any(axis = 1).sum()\n",
    "f'There are {missing_var} with missing values'"
   ]
  },
  {
   "cell_type": "code",
   "execution_count": 56,
   "metadata": {},
   "outputs": [
    {
     "data": {
      "text/html": [
       "<div>\n",
       "<style scoped>\n",
       "    .dataframe tbody tr th:only-of-type {\n",
       "        vertical-align: middle;\n",
       "    }\n",
       "\n",
       "    .dataframe tbody tr th {\n",
       "        vertical-align: top;\n",
       "    }\n",
       "\n",
       "    .dataframe thead th {\n",
       "        text-align: right;\n",
       "    }\n",
       "</style>\n",
       "<table border=\"1\" class=\"dataframe\">\n",
       "  <thead>\n",
       "    <tr style=\"text-align: right;\">\n",
       "      <th></th>\n",
       "      <th>transaction_id</th>\n",
       "      <th>product_id</th>\n",
       "      <th>customer_id</th>\n",
       "      <th>transaction_date</th>\n",
       "      <th>online_order</th>\n",
       "      <th>order_status</th>\n",
       "      <th>brand</th>\n",
       "      <th>product_line</th>\n",
       "      <th>product_class</th>\n",
       "      <th>product_size</th>\n",
       "      <th>list_price</th>\n",
       "      <th>standard_cost</th>\n",
       "      <th>product_first_sold_date</th>\n",
       "    </tr>\n",
       "  </thead>\n",
       "  <tbody>\n",
       "    <tr>\n",
       "      <th>16346</th>\n",
       "      <td>16347</td>\n",
       "      <td>69</td>\n",
       "      <td>1507</td>\n",
       "      <td>2017-10-01</td>\n",
       "      <td>NaN</td>\n",
       "      <td>Approved</td>\n",
       "      <td>Norco Bicycles</td>\n",
       "      <td>Road</td>\n",
       "      <td>medium</td>\n",
       "      <td>large</td>\n",
       "      <td>1240.31</td>\n",
       "      <td>795.10</td>\n",
       "      <td>37873.0</td>\n",
       "    </tr>\n",
       "    <tr>\n",
       "      <th>3453</th>\n",
       "      <td>3454</td>\n",
       "      <td>34</td>\n",
       "      <td>395</td>\n",
       "      <td>2017-10-02</td>\n",
       "      <td>NaN</td>\n",
       "      <td>Approved</td>\n",
       "      <td>WeareA2B</td>\n",
       "      <td>Standard</td>\n",
       "      <td>medium</td>\n",
       "      <td>medium</td>\n",
       "      <td>1231.15</td>\n",
       "      <td>161.60</td>\n",
       "      <td>37838.0</td>\n",
       "    </tr>\n",
       "    <tr>\n",
       "      <th>7256</th>\n",
       "      <td>7257</td>\n",
       "      <td>90</td>\n",
       "      <td>1409</td>\n",
       "      <td>2017-10-02</td>\n",
       "      <td>NaN</td>\n",
       "      <td>Approved</td>\n",
       "      <td>Norco Bicycles</td>\n",
       "      <td>Standard</td>\n",
       "      <td>low</td>\n",
       "      <td>medium</td>\n",
       "      <td>363.01</td>\n",
       "      <td>290.41</td>\n",
       "      <td>38482.0</td>\n",
       "    </tr>\n",
       "    <tr>\n",
       "      <th>16020</th>\n",
       "      <td>16021</td>\n",
       "      <td>78</td>\n",
       "      <td>1438</td>\n",
       "      <td>2017-10-03</td>\n",
       "      <td>NaN</td>\n",
       "      <td>Approved</td>\n",
       "      <td>Giant Bicycles</td>\n",
       "      <td>Standard</td>\n",
       "      <td>medium</td>\n",
       "      <td>large</td>\n",
       "      <td>1765.30</td>\n",
       "      <td>709.48</td>\n",
       "      <td>41533.0</td>\n",
       "    </tr>\n",
       "    <tr>\n",
       "      <th>14798</th>\n",
       "      <td>14799</td>\n",
       "      <td>90</td>\n",
       "      <td>3114</td>\n",
       "      <td>2017-10-04</td>\n",
       "      <td>NaN</td>\n",
       "      <td>Approved</td>\n",
       "      <td>Norco Bicycles</td>\n",
       "      <td>Standard</td>\n",
       "      <td>low</td>\n",
       "      <td>medium</td>\n",
       "      <td>363.01</td>\n",
       "      <td>290.41</td>\n",
       "      <td>36367.0</td>\n",
       "    </tr>\n",
       "    <tr>\n",
       "      <th>...</th>\n",
       "      <td>...</td>\n",
       "      <td>...</td>\n",
       "      <td>...</td>\n",
       "      <td>...</td>\n",
       "      <td>...</td>\n",
       "      <td>...</td>\n",
       "      <td>...</td>\n",
       "      <td>...</td>\n",
       "      <td>...</td>\n",
       "      <td>...</td>\n",
       "      <td>...</td>\n",
       "      <td>...</td>\n",
       "      <td>...</td>\n",
       "    </tr>\n",
       "    <tr>\n",
       "      <th>5260</th>\n",
       "      <td>5261</td>\n",
       "      <td>0</td>\n",
       "      <td>3322</td>\n",
       "      <td>2017-12-28</td>\n",
       "      <td>0.0</td>\n",
       "      <td>Approved</td>\n",
       "      <td>NaN</td>\n",
       "      <td>NaN</td>\n",
       "      <td>NaN</td>\n",
       "      <td>NaN</td>\n",
       "      <td>1563.94</td>\n",
       "      <td>NaN</td>\n",
       "      <td>NaN</td>\n",
       "    </tr>\n",
       "    <tr>\n",
       "      <th>5861</th>\n",
       "      <td>5862</td>\n",
       "      <td>0</td>\n",
       "      <td>2404</td>\n",
       "      <td>2017-12-28</td>\n",
       "      <td>0.0</td>\n",
       "      <td>Approved</td>\n",
       "      <td>NaN</td>\n",
       "      <td>NaN</td>\n",
       "      <td>NaN</td>\n",
       "      <td>NaN</td>\n",
       "      <td>1672.07</td>\n",
       "      <td>NaN</td>\n",
       "      <td>NaN</td>\n",
       "    </tr>\n",
       "    <tr>\n",
       "      <th>1381</th>\n",
       "      <td>1382</td>\n",
       "      <td>96</td>\n",
       "      <td>1393</td>\n",
       "      <td>2017-12-29</td>\n",
       "      <td>NaN</td>\n",
       "      <td>Approved</td>\n",
       "      <td>WeareA2B</td>\n",
       "      <td>Road</td>\n",
       "      <td>low</td>\n",
       "      <td>small</td>\n",
       "      <td>1172.78</td>\n",
       "      <td>1043.77</td>\n",
       "      <td>37539.0</td>\n",
       "    </tr>\n",
       "    <tr>\n",
       "      <th>15189</th>\n",
       "      <td>15190</td>\n",
       "      <td>1</td>\n",
       "      <td>362</td>\n",
       "      <td>2017-12-30</td>\n",
       "      <td>NaN</td>\n",
       "      <td>Approved</td>\n",
       "      <td>Giant Bicycles</td>\n",
       "      <td>Touring</td>\n",
       "      <td>medium</td>\n",
       "      <td>large</td>\n",
       "      <td>1873.97</td>\n",
       "      <td>863.95</td>\n",
       "      <td>37873.0</td>\n",
       "    </tr>\n",
       "    <tr>\n",
       "      <th>12003</th>\n",
       "      <td>12004</td>\n",
       "      <td>21</td>\n",
       "      <td>3283</td>\n",
       "      <td>2017-12-30</td>\n",
       "      <td>NaN</td>\n",
       "      <td>Approved</td>\n",
       "      <td>Solex</td>\n",
       "      <td>Standard</td>\n",
       "      <td>medium</td>\n",
       "      <td>large</td>\n",
       "      <td>1071.23</td>\n",
       "      <td>380.74</td>\n",
       "      <td>40670.0</td>\n",
       "    </tr>\n",
       "  </tbody>\n",
       "</table>\n",
       "<p>142 rows × 13 columns</p>\n",
       "</div>"
      ],
      "text/plain": [
       "       transaction_id  product_id  customer_id transaction_date  online_order  \\\n",
       "16346           16347          69         1507       2017-10-01           NaN   \n",
       "3453             3454          34          395       2017-10-02           NaN   \n",
       "7256             7257          90         1409       2017-10-02           NaN   \n",
       "16020           16021          78         1438       2017-10-03           NaN   \n",
       "14798           14799          90         3114       2017-10-04           NaN   \n",
       "...               ...         ...          ...              ...           ...   \n",
       "5260             5261           0         3322       2017-12-28           0.0   \n",
       "5861             5862           0         2404       2017-12-28           0.0   \n",
       "1381             1382          96         1393       2017-12-29           NaN   \n",
       "15189           15190           1          362       2017-12-30           NaN   \n",
       "12003           12004          21         3283       2017-12-30           NaN   \n",
       "\n",
       "      order_status           brand product_line product_class product_size  \\\n",
       "16346     Approved  Norco Bicycles         Road        medium        large   \n",
       "3453      Approved        WeareA2B     Standard        medium       medium   \n",
       "7256      Approved  Norco Bicycles     Standard           low       medium   \n",
       "16020     Approved  Giant Bicycles     Standard        medium        large   \n",
       "14798     Approved  Norco Bicycles     Standard           low       medium   \n",
       "...            ...             ...          ...           ...          ...   \n",
       "5260      Approved             NaN          NaN           NaN          NaN   \n",
       "5861      Approved             NaN          NaN           NaN          NaN   \n",
       "1381      Approved        WeareA2B         Road           low        small   \n",
       "15189     Approved  Giant Bicycles      Touring        medium        large   \n",
       "12003     Approved           Solex     Standard        medium        large   \n",
       "\n",
       "       list_price  standard_cost  product_first_sold_date  \n",
       "16346     1240.31         795.10                  37873.0  \n",
       "3453      1231.15         161.60                  37838.0  \n",
       "7256       363.01         290.41                  38482.0  \n",
       "16020     1765.30         709.48                  41533.0  \n",
       "14798      363.01         290.41                  36367.0  \n",
       "...           ...            ...                      ...  \n",
       "5260      1563.94            NaN                      NaN  \n",
       "5861      1672.07            NaN                      NaN  \n",
       "1381      1172.78        1043.77                  37539.0  \n",
       "15189     1873.97         863.95                  37873.0  \n",
       "12003     1071.23         380.74                  40670.0  \n",
       "\n",
       "[142 rows x 13 columns]"
      ]
     },
     "execution_count": 56,
     "metadata": {},
     "output_type": "execute_result"
    }
   ],
   "source": [
    "transc_selected[transc_selected.isna().any(axis = 1)]\n"
   ]
  },
  {
   "cell_type": "markdown",
   "metadata": {},
   "source": [
    "### CHECK RELEVANT ROLES FOR DUPLICATES "
   ]
  },
  {
   "cell_type": "code",
   "execution_count": 64,
   "metadata": {},
   "outputs": [
    {
     "data": {
      "text/plain": [
       "'there are 0 duplicated transaction IDs'"
      ]
     },
     "execution_count": 64,
     "metadata": {},
     "output_type": "execute_result"
    }
   ],
   "source": [
    "#  Check for dublicate transaction IDs\n",
    "ct = transc_selected.transaction_id.duplicated(keep = False).any().sum()\n",
    "\n",
    "f'there are {ct} duplicated transaction IDs'"
   ]
  },
  {
   "cell_type": "code",
   "execution_count": 66,
   "metadata": {},
   "outputs": [
    {
     "name": "stdout",
     "output_type": "stream",
     "text": [
      " 5080 unique values in transaction_id\n",
      " 101 unique values in product_id\n",
      " 2696 unique values in customer_id\n",
      " 91 unique values in transaction_date\n",
      " 2 unique values in online_order\n",
      " 2 unique values in order_status\n",
      " 6 unique values in brand\n",
      " 4 unique values in product_line\n",
      " 3 unique values in product_class\n",
      " 3 unique values in product_size\n",
      " 148 unique values in list_price\n",
      " 101 unique values in standard_cost\n",
      " 100 unique values in product_first_sold_date\n"
     ]
    }
   ],
   "source": [
    "## Data validations\n",
    "# Find The number of unique vales in role\n",
    "\n",
    "for col in transc_selected.columns:\n",
    "    print(f' {transc_selected[col].nunique()} unique values in {col}')\n",
    "\n"
   ]
  },
  {
   "cell_type": "code",
   "execution_count": 67,
   "metadata": {},
   "outputs": [
    {
     "data": {
      "text/plain": [
       "dtype('float64')"
      ]
     },
     "execution_count": 67,
     "metadata": {},
     "output_type": "execute_result"
    }
   ],
   "source": [
    "# COnvert to the right ytype\n",
    "transc_selected.product_first_sold_date.dtype\n",
    "\n",
    "'Ought to be in datetimes format'"
   ]
  },
  {
   "cell_type": "markdown",
   "metadata": {},
   "source": []
  },
  {
   "cell_type": "code",
   "execution_count": 1,
   "metadata": {},
   "outputs": [
    {
     "data": {
      "text/plain": [
       "[1, 1, 2, 3, 5, 8, 13]"
      ]
     },
     "execution_count": 1,
     "metadata": {},
     "output_type": "execute_result"
    }
   ],
   "source": [
    "# fibonacci number\n",
    "\n",
    "fibs  = [1,1]\n",
    "\n",
    "for i in range(5):\n",
    "    fibs.append(fibs[-1]+fibs[-2])\n",
    "\n",
    "fibs"
   ]
  },
  {
   "cell_type": "code",
   "execution_count": null,
   "metadata": {},
   "outputs": [],
   "source": []
  }
 ],
 "metadata": {
  "interpreter": {
   "hash": "585a938ec471c889bf0cce0aed741a99eaf47ca09c0fa8393793bc5bfe77ba11"
  },
  "kernelspec": {
   "display_name": "Python 3.9.7 ('base')",
   "language": "python",
   "name": "python3"
  },
  "language_info": {
   "codemirror_mode": {
    "name": "ipython",
    "version": 3
   },
   "file_extension": ".py",
   "mimetype": "text/x-python",
   "name": "python",
   "nbconvert_exporter": "python",
   "pygments_lexer": "ipython3",
   "version": "3.9.7"
  },
  "orig_nbformat": 4
 },
 "nbformat": 4,
 "nbformat_minor": 2
}
